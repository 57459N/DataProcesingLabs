{
 "cells": [
  {
   "cell_type": "code",
   "execution_count": 69,
   "id": "initial_id",
   "metadata": {
    "collapsed": true,
    "ExecuteTime": {
     "end_time": "2024-05-03T14:06:39.624073Z",
     "start_time": "2024-05-03T14:06:38.011974200Z"
    }
   },
   "outputs": [],
   "source": [
    "from keras.layers import Dropout, Dense, Flatten, Activation, Input, Embedding, Dot\n",
    "from keras.models import Model\n",
    "from sklearn.model_selection import train_test_split\n",
    "\n",
    "from pylab import rcParams\n",
    "\n",
    "import matplotlib.pyplot as plt\n",
    "import pandas as pd\n"
   ]
  },
  {
   "cell_type": "code",
   "outputs": [],
   "source": [
    "ratings_df = pd.read_csv('./data/movies/ratings.csv').drop('timestamp', axis=1)\n",
    "movies_df = pd.read_csv('./data/movies/movies.csv')"
   ],
   "metadata": {
    "collapsed": false,
    "ExecuteTime": {
     "end_time": "2024-05-03T13:42:35.321040700Z",
     "start_time": "2024-05-03T13:42:35.220820100Z"
    }
   },
   "id": "a4300e68207f6632",
   "execution_count": 19
  },
  {
   "cell_type": "code",
   "outputs": [],
   "source": [
    "ratings_df.head()"
   ],
   "metadata": {
    "collapsed": false
   },
   "id": "f4427d6f39ae02a8"
  },
  {
   "cell_type": "code",
   "outputs": [],
   "source": [
    "movies_df.head()"
   ],
   "metadata": {
    "collapsed": false,
    "ExecuteTime": {
     "end_time": "2024-05-03T13:44:26.641539Z",
     "start_time": "2024-05-03T13:44:26.581019Z"
    }
   },
   "id": "df0717a65edf1478",
   "execution_count": 20
  },
  {
   "cell_type": "code",
   "outputs": [],
   "source": [
    "users = ratings_df.userId.unique()\n",
    "movies = ratings_df.movieId.unique()"
   ],
   "metadata": {
    "collapsed": false,
    "ExecuteTime": {
     "end_time": "2024-05-03T13:46:32.620251600Z",
     "start_time": "2024-05-03T13:46:32.584718800Z"
    }
   },
   "id": "b598e51f475cc2fd",
   "execution_count": 23
  },
  {
   "cell_type": "code",
   "outputs": [],
   "source": [
    "userid2idx = {o: i for i, o in enumerate(users)}\n",
    "movieid2idx = {o: i for i, o in enumerate(movies)}\n",
    "df = ratings_df.copy(deep=True)\n",
    "df['userId'] = df['userId'].apply(lambda x: userid2idx[x])\n",
    "df['movieId'] = df['movieId'].apply(lambda x: movieid2idx[x])"
   ],
   "metadata": {
    "collapsed": false,
    "ExecuteTime": {
     "end_time": "2024-05-03T13:46:33.626130400Z",
     "start_time": "2024-05-03T13:46:33.410838500Z"
    }
   },
   "id": "2243b1b7dea645a",
   "execution_count": 24
  },
  {
   "cell_type": "code",
   "outputs": [
    {
     "data": {
      "text/plain": "        userId  movieId\n0            0        0\n1            0        1\n2            0        2\n3            0        3\n4            0        4\n...        ...      ...\n99999      670     7005\n100000     670     4771\n100001     670     1329\n100002     670     1331\n100003     670     2946\n\n[100004 rows x 2 columns]",
      "text/html": "<div>\n<style scoped>\n    .dataframe tbody tr th:only-of-type {\n        vertical-align: middle;\n    }\n\n    .dataframe tbody tr th {\n        vertical-align: top;\n    }\n\n    .dataframe thead th {\n        text-align: right;\n    }\n</style>\n<table border=\"1\" class=\"dataframe\">\n  <thead>\n    <tr style=\"text-align: right;\">\n      <th></th>\n      <th>userId</th>\n      <th>movieId</th>\n    </tr>\n  </thead>\n  <tbody>\n    <tr>\n      <th>0</th>\n      <td>0</td>\n      <td>0</td>\n    </tr>\n    <tr>\n      <th>1</th>\n      <td>0</td>\n      <td>1</td>\n    </tr>\n    <tr>\n      <th>2</th>\n      <td>0</td>\n      <td>2</td>\n    </tr>\n    <tr>\n      <th>3</th>\n      <td>0</td>\n      <td>3</td>\n    </tr>\n    <tr>\n      <th>4</th>\n      <td>0</td>\n      <td>4</td>\n    </tr>\n    <tr>\n      <th>...</th>\n      <td>...</td>\n      <td>...</td>\n    </tr>\n    <tr>\n      <th>99999</th>\n      <td>670</td>\n      <td>7005</td>\n    </tr>\n    <tr>\n      <th>100000</th>\n      <td>670</td>\n      <td>4771</td>\n    </tr>\n    <tr>\n      <th>100001</th>\n      <td>670</td>\n      <td>1329</td>\n    </tr>\n    <tr>\n      <th>100002</th>\n      <td>670</td>\n      <td>1331</td>\n    </tr>\n    <tr>\n      <th>100003</th>\n      <td>670</td>\n      <td>2946</td>\n    </tr>\n  </tbody>\n</table>\n<p>100004 rows × 2 columns</p>\n</div>"
     },
     "execution_count": 31,
     "metadata": {},
     "output_type": "execute_result"
    }
   ],
   "source": [
    "df[['userId', 'movieId']]"
   ],
   "metadata": {
    "collapsed": false,
    "ExecuteTime": {
     "end_time": "2024-05-03T13:49:03.412332200Z",
     "start_time": "2024-05-03T13:49:03.363197100Z"
    }
   },
   "id": "33602c7ae76fc1c0",
   "execution_count": 31
  },
  {
   "cell_type": "code",
   "outputs": [],
   "source": [
    "train, test = train_test_split(df, test_size=0.20)"
   ],
   "metadata": {
    "collapsed": false,
    "ExecuteTime": {
     "end_time": "2024-05-03T14:20:57.327369400Z",
     "start_time": "2024-05-03T14:20:57.292782400Z"
    }
   },
   "id": "9df93d010cbcc07f",
   "execution_count": 82
  },
  {
   "cell_type": "code",
   "outputs": [],
   "source": [
    "n_latent_factors = 64"
   ],
   "metadata": {
    "collapsed": false,
    "ExecuteTime": {
     "end_time": "2024-05-03T19:04:18.117667900Z",
     "start_time": "2024-05-03T19:04:18.088991300Z"
    }
   },
   "id": "1e34a56448d954da",
   "execution_count": 202
  },
  {
   "cell_type": "code",
   "outputs": [],
   "source": [
    "from keras import ops\n",
    "\n",
    "def rmse(y_true, y_pred):\n",
    "    squared_difference = ops.square(y_true - y_pred)\n",
    "    return ops.sqrt(ops.mean(squared_difference, axis=-1))  # Note the `axis=-1`"
   ],
   "metadata": {
    "collapsed": false,
    "ExecuteTime": {
     "end_time": "2024-05-03T19:04:10.739094600Z",
     "start_time": "2024-05-03T19:04:10.729066900Z"
    }
   },
   "id": "b59e12011d0daadc",
   "execution_count": 201
  },
  {
   "cell_type": "markdown",
   "source": [
    "Model 1: just embeddings"
   ],
   "metadata": {
    "collapsed": false
   },
   "id": "fdea959381b07ec4"
  },
  {
   "cell_type": "code",
   "outputs": [],
   "source": [
    "n_movies = len(df['movieId'].unique())\n",
    "n_users = len(df['userId'].unique())\n",
    "user_input = Input(shape=(1,), dtype='int64')\n",
    "user_embedding = Embedding(n_users, n_latent_factors)(user_input)\n",
    "user_vec = Flatten(name='FlattenUsers')(user_embedding)\n",
    "\n",
    "movie_input = Input(shape=(1,), dtype='int64')\n",
    "movie_embedding = Embedding(n_movies, n_latent_factors)(movie_input)\n",
    "movie_vec = Flatten(name='FlattenMovies')(movie_embedding)\n",
    "\n",
    "sim = Dot(axes=1)([user_vec, movie_vec])\n",
    "emb_model = Model([user_input, movie_input], sim)\n",
    "emb_model.compile(loss=rmse)"
   ],
   "metadata": {
    "collapsed": false,
    "ExecuteTime": {
     "end_time": "2024-05-03T19:04:24.042081500Z",
     "start_time": "2024-05-03T19:04:23.982859700Z"
    }
   },
   "id": "4da80faac075c06d",
   "execution_count": 203
  },
  {
   "cell_type": "code",
   "outputs": [
    {
     "name": "stdout",
     "output_type": "stream",
     "text": [
      "Epoch 1/15\n",
      "\u001B[1m1251/1251\u001B[0m \u001B[32m━━━━━━━━━━━━━━━━━━━━\u001B[0m\u001B[37m\u001B[0m \u001B[1m6s\u001B[0m 4ms/step - loss: 3.5454 - val_loss: 3.4684\n",
      "Epoch 2/15\n",
      "\u001B[1m1251/1251\u001B[0m \u001B[32m━━━━━━━━━━━━━━━━━━━━\u001B[0m\u001B[37m\u001B[0m \u001B[1m5s\u001B[0m 4ms/step - loss: 3.2670 - val_loss: 2.3182\n",
      "Epoch 3/15\n",
      "\u001B[1m1251/1251\u001B[0m \u001B[32m━━━━━━━━━━━━━━━━━━━━\u001B[0m\u001B[37m\u001B[0m \u001B[1m5s\u001B[0m 4ms/step - loss: 2.0873 - val_loss: 1.6174\n",
      "Epoch 4/15\n",
      "\u001B[1m1251/1251\u001B[0m \u001B[32m━━━━━━━━━━━━━━━━━━━━\u001B[0m\u001B[37m\u001B[0m \u001B[1m6s\u001B[0m 5ms/step - loss: 1.4790 - val_loss: 1.2917\n",
      "Epoch 5/15\n",
      "\u001B[1m1251/1251\u001B[0m \u001B[32m━━━━━━━━━━━━━━━━━━━━\u001B[0m\u001B[37m\u001B[0m \u001B[1m5s\u001B[0m 4ms/step - loss: 1.1818 - val_loss: 1.1344\n",
      "Epoch 6/15\n",
      "\u001B[1m1251/1251\u001B[0m \u001B[32m━━━━━━━━━━━━━━━━━━━━\u001B[0m\u001B[37m\u001B[0m \u001B[1m5s\u001B[0m 4ms/step - loss: 1.0309 - val_loss: 1.0429\n",
      "Epoch 7/15\n",
      "\u001B[1m1251/1251\u001B[0m \u001B[32m━━━━━━━━━━━━━━━━━━━━\u001B[0m\u001B[37m\u001B[0m \u001B[1m5s\u001B[0m 4ms/step - loss: 0.9301 - val_loss: 0.9831\n",
      "Epoch 8/15\n",
      "\u001B[1m1251/1251\u001B[0m \u001B[32m━━━━━━━━━━━━━━━━━━━━\u001B[0m\u001B[37m\u001B[0m \u001B[1m5s\u001B[0m 4ms/step - loss: 0.8632 - val_loss: 0.9434\n",
      "Epoch 9/15\n",
      "\u001B[1m1251/1251\u001B[0m \u001B[32m━━━━━━━━━━━━━━━━━━━━\u001B[0m\u001B[37m\u001B[0m \u001B[1m5s\u001B[0m 4ms/step - loss: 0.8230 - val_loss: 0.9155\n",
      "Epoch 10/15\n",
      "\u001B[1m1251/1251\u001B[0m \u001B[32m━━━━━━━━━━━━━━━━━━━━\u001B[0m\u001B[37m\u001B[0m \u001B[1m5s\u001B[0m 4ms/step - loss: 0.7799 - val_loss: 0.8958\n",
      "Epoch 11/15\n",
      "\u001B[1m1251/1251\u001B[0m \u001B[32m━━━━━━━━━━━━━━━━━━━━\u001B[0m\u001B[37m\u001B[0m \u001B[1m5s\u001B[0m 4ms/step - loss: 0.7523 - val_loss: 0.8790\n",
      "Epoch 12/15\n",
      "\u001B[1m1251/1251\u001B[0m \u001B[32m━━━━━━━━━━━━━━━━━━━━\u001B[0m\u001B[37m\u001B[0m \u001B[1m5s\u001B[0m 4ms/step - loss: 0.7198 - val_loss: 0.8648\n",
      "Epoch 13/15\n",
      "\u001B[1m1251/1251\u001B[0m \u001B[32m━━━━━━━━━━━━━━━━━━━━\u001B[0m\u001B[37m\u001B[0m \u001B[1m5s\u001B[0m 4ms/step - loss: 0.6954 - val_loss: 0.8542\n",
      "Epoch 14/15\n",
      "\u001B[1m1251/1251\u001B[0m \u001B[32m━━━━━━━━━━━━━━━━━━━━\u001B[0m\u001B[37m\u001B[0m \u001B[1m5s\u001B[0m 4ms/step - loss: 0.6725 - val_loss: 0.8449\n",
      "Epoch 15/15\n",
      "\u001B[1m1251/1251\u001B[0m \u001B[32m━━━━━━━━━━━━━━━━━━━━\u001B[0m\u001B[37m\u001B[0m \u001B[1m5s\u001B[0m 4ms/step - loss: 0.6569 - val_loss: 0.8383\n"
     ]
    }
   ],
   "source": [
    "emb_history = emb_model.fit([train.userId, train.movieId], train.rating,\n",
    "                            validation_data=([test.userId, test.movieId], test.rating),\n",
    "                            batch_size=64, epochs=15, verbose=1)"
   ],
   "metadata": {
    "collapsed": false,
    "ExecuteTime": {
     "end_time": "2024-05-03T19:05:40.707989Z",
     "start_time": "2024-05-03T19:04:25.764191700Z"
    }
   },
   "id": "c5153fd2f9d980d9",
   "execution_count": 204
  },
  {
   "cell_type": "code",
   "outputs": [],
   "source": [
    "def plot_loss(_history, saving_path: str = None):\n",
    "    rcParams['figure.figsize'] = 10, 5\n",
    "    plt.plot(_history.history['loss'], 'g')\n",
    "    plt.plot(_history.history['val_loss'], 'b')\n",
    "    plt.title('model loss')\n",
    "    plt.ylabel('loss')\n",
    "    plt.xlabel('epoch')\n",
    "    plt.legend(['train', 'test'], loc='upper left')\n",
    "    plt.grid(True)\n",
    "\n",
    "    if saving_path is not None:\n",
    "        plt.savefig(saving_path)\n",
    "\n",
    "    plt.show()\n"
   ],
   "metadata": {
    "collapsed": false,
    "ExecuteTime": {
     "end_time": "2024-05-03T18:37:05.065338900Z",
     "start_time": "2024-05-03T18:37:05.028705700Z"
    }
   },
   "id": "82fadfe8ec31b258",
   "execution_count": 154
  },
  {
   "cell_type": "code",
   "outputs": [
    {
     "data": {
      "text/plain": "<Figure size 1000x500 with 1 Axes>",
      "image/png": "[encoded data removed]"
     },
     "metadata": {},
     "output_type": "display_data"
    }
   ],
   "source": [
    "plot_loss(emb_history)"
   ],
   "metadata": {
    "collapsed": false,
    "ExecuteTime": {
     "end_time": "2024-05-03T19:05:48.614849600Z",
     "start_time": "2024-05-03T19:05:48.272601600Z"
    }
   },
   "id": "d79a745302d9a089",
   "execution_count": 205
  },
  {
   "cell_type": "markdown",
   "source": [
    "Model 2: NN filtration"
   ],
   "metadata": {
    "collapsed": false
   },
   "id": "d9021dc4ef5822c1"
  },
  {
   "cell_type": "code",
   "outputs": [],
   "source": [
    "from keras.layers import Concatenate, Multiply\n",
    "\n",
    "\n",
    "n_latent_factors = 50\n",
    "\n",
    "user_input = Input(shape=(1,), dtype='int64')\n",
    "user_embedding = Embedding(n_users, n_latent_factors)(user_input)\n",
    "user_vec = Flatten()(user_embedding)\n",
    "user_vec = Dropout(0.8)(user_vec)\n",
    "\n",
    "movie_input = Input(shape=(1,), dtype='int64')\n",
    "movie_embedding = Embedding(n_movies, n_latent_factors)(movie_input)\n",
    "movie_vec = Flatten()(movie_embedding)\n",
    "movie_vec = Dropout(0.8)(movie_vec)\n",
    "\n",
    "sim = Multiply()([user_vec, movie_vec])\n",
    "\n",
    "nn_inp = Dense(200, activation='relu')(sim)\n",
    "nn_inp = Dropout(0.5)(nn_inp)\n",
    "\n",
    "nn_inp = Dense(1, activation='relu')(nn_inp)\n",
    "\n",
    "nn_model = Model([user_input, movie_input], nn_inp)\n",
    "nn_model.compile(loss=rmse)"
   ],
   "metadata": {
    "collapsed": false,
    "ExecuteTime": {
     "end_time": "2024-05-03T19:05:53.666320800Z",
     "start_time": "2024-05-03T19:05:53.595717700Z"
    }
   },
   "id": "6d3cf9c67c68172c",
   "execution_count": 206
  },
  {
   "cell_type": "code",
   "outputs": [
    {
     "name": "stdout",
     "output_type": "stream",
     "text": [
      "Epoch 1/15\n",
      "\u001B[1m626/626\u001B[0m \u001B[32m━━━━━━━━━━━━━━━━━━━━\u001B[0m\u001B[37m\u001B[0m \u001B[1m5s\u001B[0m 5ms/step - loss: 1.6810 - val_loss: 0.8498\n",
      "Epoch 2/15\n",
      "\u001B[1m626/626\u001B[0m \u001B[32m━━━━━━━━━━━━━━━━━━━━\u001B[0m\u001B[37m\u001B[0m \u001B[1m3s\u001B[0m 4ms/step - loss: 0.8697 - val_loss: 0.8479\n",
      "Epoch 3/15\n",
      "\u001B[1m626/626\u001B[0m \u001B[32m━━━━━━━━━━━━━━━━━━━━\u001B[0m\u001B[37m\u001B[0m \u001B[1m3s\u001B[0m 4ms/step - loss: 0.8731 - val_loss: 0.8497\n",
      "Epoch 4/15\n",
      "\u001B[1m626/626\u001B[0m \u001B[32m━━━━━━━━━━━━━━━━━━━━\u001B[0m\u001B[37m\u001B[0m \u001B[1m3s\u001B[0m 4ms/step - loss: 0.8715 - val_loss: 0.8489\n",
      "Epoch 5/15\n",
      "\u001B[1m626/626\u001B[0m \u001B[32m━━━━━━━━━━━━━━━━━━━━\u001B[0m\u001B[37m\u001B[0m \u001B[1m3s\u001B[0m 5ms/step - loss: 0.8695 - val_loss: 0.8485\n",
      "Epoch 6/15\n",
      "\u001B[1m626/626\u001B[0m \u001B[32m━━━━━━━━━━━━━━━━━━━━\u001B[0m\u001B[37m\u001B[0m \u001B[1m3s\u001B[0m 4ms/step - loss: 0.8617 - val_loss: 0.8500\n",
      "Epoch 7/15\n",
      "\u001B[1m626/626\u001B[0m \u001B[32m━━━━━━━━━━━━━━━━━━━━\u001B[0m\u001B[37m\u001B[0m \u001B[1m3s\u001B[0m 4ms/step - loss: 0.8594 - val_loss: 0.8479\n",
      "Epoch 8/15\n",
      "\u001B[1m626/626\u001B[0m \u001B[32m━━━━━━━━━━━━━━━━━━━━\u001B[0m\u001B[37m\u001B[0m \u001B[1m3s\u001B[0m 4ms/step - loss: 0.8583 - val_loss: 0.8491\n",
      "Epoch 9/15\n",
      "\u001B[1m626/626\u001B[0m \u001B[32m━━━━━━━━━━━━━━━━━━━━\u001B[0m\u001B[37m\u001B[0m \u001B[1m3s\u001B[0m 4ms/step - loss: 0.8602 - val_loss: 0.8474\n",
      "Epoch 10/15\n",
      "\u001B[1m626/626\u001B[0m \u001B[32m━━━━━━━━━━━━━━━━━━━━\u001B[0m\u001B[37m\u001B[0m \u001B[1m3s\u001B[0m 5ms/step - loss: 0.8544 - val_loss: 0.8500\n",
      "Epoch 11/15\n",
      "\u001B[1m626/626\u001B[0m \u001B[32m━━━━━━━━━━━━━━━━━━━━\u001B[0m\u001B[37m\u001B[0m \u001B[1m3s\u001B[0m 5ms/step - loss: 0.8550 - val_loss: 0.8462\n",
      "Epoch 12/15\n",
      "\u001B[1m626/626\u001B[0m \u001B[32m━━━━━━━━━━━━━━━━━━━━\u001B[0m\u001B[37m\u001B[0m \u001B[1m3s\u001B[0m 4ms/step - loss: 0.8517 - val_loss: 0.8481\n",
      "Epoch 13/15\n",
      "\u001B[1m626/626\u001B[0m \u001B[32m━━━━━━━━━━━━━━━━━━━━\u001B[0m\u001B[37m\u001B[0m \u001B[1m3s\u001B[0m 4ms/step - loss: 0.8491 - val_loss: 0.8487\n",
      "Epoch 14/15\n",
      "\u001B[1m626/626\u001B[0m \u001B[32m━━━━━━━━━━━━━━━━━━━━\u001B[0m\u001B[37m\u001B[0m \u001B[1m3s\u001B[0m 4ms/step - loss: 0.8509 - val_loss: 0.8489\n",
      "Epoch 15/15\n",
      "\u001B[1m626/626\u001B[0m \u001B[32m━━━━━━━━━━━━━━━━━━━━\u001B[0m\u001B[37m\u001B[0m \u001B[1m3s\u001B[0m 4ms/step - loss: 0.8469 - val_loss: 0.8476\n"
     ]
    }
   ],
   "source": [
    "nn_history = nn_model.fit([trainX.userId, trainX.movieId], train.rating,\n",
    "                          validation_data=([testX.userId, testX.movieId], test.rating),\n",
    "                          batch_size=128, epochs=15, verbose=1)"
   ],
   "metadata": {
    "collapsed": false,
    "ExecuteTime": {
     "end_time": "2024-05-03T19:06:39.065857200Z",
     "start_time": "2024-05-03T19:05:54.391908900Z"
    }
   },
   "id": "eea6ba8c8035b57e",
   "execution_count": 207
  },
  {
   "cell_type": "code",
   "outputs": [
    {
     "data": {
      "text/plain": "<Figure size 1000x500 with 1 Axes>",
      "image/png": "[encoded data removed]"
     },
     "metadata": {},
     "output_type": "display_data"
    }
   ],
   "source": [
    "plot_loss(nn_history)"
   ],
   "metadata": {
    "collapsed": false,
    "ExecuteTime": {
     "end_time": "2024-05-03T14:50:20.268971800Z",
     "start_time": "2024-05-03T14:50:19.919894400Z"
    }
   },
   "id": "6d72b4cda7f2121d",
   "execution_count": 144
  }
 ],
 "metadata": {
  "kernelspec": {
   "display_name": "Python 3",
   "language": "python",
   "name": "python3"
  },
  "language_info": {
   "codemirror_mode": {
    "name": "ipython",
    "version": 2
   },
   "file_extension": ".py",
   "mimetype": "text/x-python",
   "name": "python",
   "nbconvert_exporter": "python",
   "pygments_lexer": "ipython2",
   "version": "2.7.6"
  }
 },
 "nbformat": 4,
 "nbformat_minor": 5
}
