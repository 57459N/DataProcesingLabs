{
 "cells": [
  {
   "cell_type": "code",
   "execution_count": 1,
   "id": "initial_id",
   "metadata": {
    "collapsed": true,
    "ExecuteTime": {
     "end_time": "2024-05-04T06:42:56.821101800Z",
     "start_time": "2024-05-04T06:42:42.421436400Z"
    }
   },
   "outputs": [],
   "source": [
    "from keras.layers import Dropout, Dense, Flatten, Activation, Input, Embedding, Dot, Concatenate, Multiply\n",
    "from keras.models import Model\n",
    "from sklearn.model_selection import train_test_split\n",
    "\n",
    "from pylab import rcParams\n",
    "\n",
    "import matplotlib.pyplot as plt\n",
    "import pandas as pd\n"
   ]
  },
  {
   "cell_type": "code",
   "outputs": [],
   "source": [
    "ratings_df = pd.read_csv('./data/movies/ratings.csv').drop('timestamp', axis=1)\n",
    "movies_df = pd.read_csv('./data/movies/movies.csv')"
   ],
   "metadata": {
    "collapsed": false,
    "ExecuteTime": {
     "end_time": "2024-05-04T06:42:56.991140400Z",
     "start_time": "2024-05-04T06:42:56.813100700Z"
    }
   },
   "id": "a4300e68207f6632",
   "execution_count": 2
  },
  {
   "cell_type": "code",
   "outputs": [
    {
     "data": {
      "text/plain": "   userId  movieId  rating\n0       1       31     2.5\n1       1     1029     3.0\n2       1     1061     3.0\n3       1     1129     2.0\n4       1     1172     4.0",
      "text/html": "<div>\n<style scoped>\n    .dataframe tbody tr th:only-of-type {\n        vertical-align: middle;\n    }\n\n    .dataframe tbody tr th {\n        vertical-align: top;\n    }\n\n    .dataframe thead th {\n        text-align: right;\n    }\n</style>\n<table border=\"1\" class=\"dataframe\">\n  <thead>\n    <tr style=\"text-align: right;\">\n      <th></th>\n      <th>userId</th>\n      <th>movieId</th>\n      <th>rating</th>\n    </tr>\n  </thead>\n  <tbody>\n    <tr>\n      <th>0</th>\n      <td>1</td>\n      <td>31</td>\n      <td>2.5</td>\n    </tr>\n    <tr>\n      <th>1</th>\n      <td>1</td>\n      <td>1029</td>\n      <td>3.0</td>\n    </tr>\n    <tr>\n      <th>2</th>\n      <td>1</td>\n      <td>1061</td>\n      <td>3.0</td>\n    </tr>\n    <tr>\n      <th>3</th>\n      <td>1</td>\n      <td>1129</td>\n      <td>2.0</td>\n    </tr>\n    <tr>\n      <th>4</th>\n      <td>1</td>\n      <td>1172</td>\n      <td>4.0</td>\n    </tr>\n  </tbody>\n</table>\n</div>"
     },
     "execution_count": 3,
     "metadata": {},
     "output_type": "execute_result"
    }
   ],
   "source": [
    "ratings_df.head()"
   ],
   "metadata": {
    "collapsed": false,
    "ExecuteTime": {
     "end_time": "2024-05-03T19:17:39.873498400Z",
     "start_time": "2024-05-03T19:17:39.808916300Z"
    }
   },
   "id": "f4427d6f39ae02a8",
   "execution_count": 3
  },
  {
   "cell_type": "code",
   "outputs": [
    {
     "data": {
      "text/plain": "   movieId                               title  \\\n0        1                    Toy Story (1995)   \n1        2                      Jumanji (1995)   \n2        3             Grumpier Old Men (1995)   \n3        4            Waiting to Exhale (1995)   \n4        5  Father of the Bride Part II (1995)   \n\n                                        genres  \n0  Adventure|Animation|Children|Comedy|Fantasy  \n1                   Adventure|Children|Fantasy  \n2                               Comedy|Romance  \n3                         Comedy|Drama|Romance  \n4                                       Comedy  ",
      "text/html": "<div>\n<style scoped>\n    .dataframe tbody tr th:only-of-type {\n        vertical-align: middle;\n    }\n\n    .dataframe tbody tr th {\n        vertical-align: top;\n    }\n\n    .dataframe thead th {\n        text-align: right;\n    }\n</style>\n<table border=\"1\" class=\"dataframe\">\n  <thead>\n    <tr style=\"text-align: right;\">\n      <th></th>\n      <th>movieId</th>\n      <th>title</th>\n      <th>genres</th>\n    </tr>\n  </thead>\n  <tbody>\n    <tr>\n      <th>0</th>\n      <td>1</td>\n      <td>Toy Story (1995)</td>\n      <td>Adventure|Animation|Children|Comedy|Fantasy</td>\n    </tr>\n    <tr>\n      <th>1</th>\n      <td>2</td>\n      <td>Jumanji (1995)</td>\n      <td>Adventure|Children|Fantasy</td>\n    </tr>\n    <tr>\n      <th>2</th>\n      <td>3</td>\n      <td>Grumpier Old Men (1995)</td>\n      <td>Comedy|Romance</td>\n    </tr>\n    <tr>\n      <th>3</th>\n      <td>4</td>\n      <td>Waiting to Exhale (1995)</td>\n      <td>Comedy|Drama|Romance</td>\n    </tr>\n    <tr>\n      <th>4</th>\n      <td>5</td>\n      <td>Father of the Bride Part II (1995)</td>\n      <td>Comedy</td>\n    </tr>\n  </tbody>\n</table>\n</div>"
     },
     "execution_count": 4,
     "metadata": {},
     "output_type": "execute_result"
    }
   ],
   "source": [
    "movies_df.head()"
   ],
   "metadata": {
    "collapsed": false,
    "ExecuteTime": {
     "end_time": "2024-05-03T19:17:40.038615500Z",
     "start_time": "2024-05-03T19:17:39.836838900Z"
    }
   },
   "id": "df0717a65edf1478",
   "execution_count": 4
  },
  {
   "cell_type": "code",
   "outputs": [],
   "source": [
    "users = ratings_df.userId.unique()\n",
    "movies = ratings_df.movieId.unique()"
   ],
   "metadata": {
    "collapsed": false,
    "ExecuteTime": {
     "end_time": "2024-05-04T06:42:56.992138900Z",
     "start_time": "2024-05-04T06:42:56.937127600Z"
    }
   },
   "id": "b598e51f475cc2fd",
   "execution_count": 3
  },
  {
   "cell_type": "code",
   "outputs": [],
   "source": [
    "userid2idx = {o: i for i, o in enumerate(users)}\n",
    "movieid2idx = {o: i for i, o in enumerate(movies)}\n",
    "df = ratings_df.copy(deep=True)\n",
    "df['userId'] = df['userId'].apply(lambda x: userid2idx[x])\n",
    "df['movieId'] = df['movieId'].apply(lambda x: movieid2idx[x])"
   ],
   "metadata": {
    "collapsed": false,
    "ExecuteTime": {
     "end_time": "2024-05-04T06:42:57.174232700Z",
     "start_time": "2024-05-04T06:42:56.974137Z"
    }
   },
   "id": "2243b1b7dea645a",
   "execution_count": 4
  },
  {
   "cell_type": "code",
   "outputs": [
    {
     "data": {
      "text/plain": "        userId  movieId\n0            0        0\n1            0        1\n2            0        2\n3            0        3\n4            0        4\n...        ...      ...\n99999      670     7005\n100000     670     4771\n100001     670     1329\n100002     670     1331\n100003     670     2946\n\n[100004 rows x 2 columns]",
      "text/html": "<div>\n<style scoped>\n    .dataframe tbody tr th:only-of-type {\n        vertical-align: middle;\n    }\n\n    .dataframe tbody tr th {\n        vertical-align: top;\n    }\n\n    .dataframe thead th {\n        text-align: right;\n    }\n</style>\n<table border=\"1\" class=\"dataframe\">\n  <thead>\n    <tr style=\"text-align: right;\">\n      <th></th>\n      <th>userId</th>\n      <th>movieId</th>\n    </tr>\n  </thead>\n  <tbody>\n    <tr>\n      <th>0</th>\n      <td>0</td>\n      <td>0</td>\n    </tr>\n    <tr>\n      <th>1</th>\n      <td>0</td>\n      <td>1</td>\n    </tr>\n    <tr>\n      <th>2</th>\n      <td>0</td>\n      <td>2</td>\n    </tr>\n    <tr>\n      <th>3</th>\n      <td>0</td>\n      <td>3</td>\n    </tr>\n    <tr>\n      <th>4</th>\n      <td>0</td>\n      <td>4</td>\n    </tr>\n    <tr>\n      <th>...</th>\n      <td>...</td>\n      <td>...</td>\n    </tr>\n    <tr>\n      <th>99999</th>\n      <td>670</td>\n      <td>7005</td>\n    </tr>\n    <tr>\n      <th>100000</th>\n      <td>670</td>\n      <td>4771</td>\n    </tr>\n    <tr>\n      <th>100001</th>\n      <td>670</td>\n      <td>1329</td>\n    </tr>\n    <tr>\n      <th>100002</th>\n      <td>670</td>\n      <td>1331</td>\n    </tr>\n    <tr>\n      <th>100003</th>\n      <td>670</td>\n      <td>2946</td>\n    </tr>\n  </tbody>\n</table>\n<p>100004 rows × 2 columns</p>\n</div>"
     },
     "execution_count": 5,
     "metadata": {},
     "output_type": "execute_result"
    }
   ],
   "source": [
    "df[['userId', 'movieId']]"
   ],
   "metadata": {
    "collapsed": false,
    "ExecuteTime": {
     "end_time": "2024-05-04T06:42:57.214241600Z",
     "start_time": "2024-05-04T06:42:57.146224700Z"
    }
   },
   "id": "33602c7ae76fc1c0",
   "execution_count": 5
  },
  {
   "cell_type": "code",
   "outputs": [],
   "source": [
    "train, valid = train_test_split(df, test_size=0.2)\n",
    "train, test = train_test_split(train, test_size=0.2)"
   ],
   "metadata": {
    "collapsed": false,
    "ExecuteTime": {
     "end_time": "2024-05-04T06:43:38.173598900Z",
     "start_time": "2024-05-04T06:43:38.091582100Z"
    }
   },
   "id": "9df93d010cbcc07f",
   "execution_count": 7
  },
  {
   "cell_type": "code",
   "outputs": [],
   "source": [
    "n_latent_factors = 50"
   ],
   "metadata": {
    "collapsed": false,
    "ExecuteTime": {
     "end_time": "2024-05-04T06:43:44.373754300Z",
     "start_time": "2024-05-04T06:43:44.354748800Z"
    }
   },
   "id": "1e34a56448d954da",
   "execution_count": 9
  },
  {
   "cell_type": "code",
   "outputs": [],
   "source": [
    "from keras import ops\n",
    "\n",
    "\n",
    "def rmse(y_true, y_pred):\n",
    "    squared_difference = ops.square(y_true - y_pred)\n",
    "    return ops.sqrt(ops.mean(squared_difference, axis=-1))  # Note the `axis=-1`"
   ],
   "metadata": {
    "collapsed": false,
    "ExecuteTime": {
     "end_time": "2024-05-04T06:43:43.261215700Z",
     "start_time": "2024-05-04T06:43:43.225206500Z"
    }
   },
   "id": "b59e12011d0daadc",
   "execution_count": 8
  },
  {
   "cell_type": "code",
   "outputs": [],
   "source": [
    "n_movies = len(df['movieId'].unique())\n",
    "n_users = len(df['userId'].unique())"
   ],
   "metadata": {
    "collapsed": false,
    "ExecuteTime": {
     "end_time": "2024-05-04T06:44:30.114346200Z",
     "start_time": "2024-05-04T06:44:30.027303Z"
    }
   },
   "id": "a2138a0ca1d4ba18",
   "execution_count": 11
  },
  {
   "cell_type": "markdown",
   "source": [
    "Model 1: just embeddings"
   ],
   "metadata": {
    "collapsed": false
   },
   "id": "fdea959381b07ec4"
  },
  {
   "cell_type": "code",
   "outputs": [],
   "source": [
    "user_input = Input(shape=(1,), dtype='int64')\n",
    "user_embedding = Embedding(n_users, n_latent_factors)(user_input)\n",
    "user_vec = Flatten(name='FlattenUsers')(user_embedding)\n",
    "\n",
    "movie_input = Input(shape=(1,), dtype='int64')\n",
    "movie_embedding = Embedding(n_movies, n_latent_factors)(movie_input)\n",
    "movie_vec = Flatten(name='FlattenMovies')(movie_embedding)\n",
    "\n",
    "sim = Dot(axes=1)([user_vec, movie_vec])\n",
    "emb_model = Model([user_input, movie_input], sim)\n",
    "emb_model.compile(loss=rmse)"
   ],
   "metadata": {
    "collapsed": false,
    "ExecuteTime": {
     "end_time": "2024-05-04T06:44:31.847866700Z",
     "start_time": "2024-05-04T06:44:31.643026Z"
    }
   },
   "id": "4da80faac075c06d",
   "execution_count": 12
  },
  {
   "cell_type": "code",
   "outputs": [
    {
     "name": "stdout",
     "output_type": "stream",
     "text": [
      "Epoch 1/15\n",
      "\u001B[1m1001/1001\u001B[0m \u001B[32m━━━━━━━━━━━━━━━━━━━━\u001B[0m\u001B[37m\u001B[0m \u001B[1m7s\u001B[0m 5ms/step - loss: 3.5472 - val_loss: 3.5189\n",
      "Epoch 2/15\n",
      "\u001B[1m1001/1001\u001B[0m \u001B[32m━━━━━━━━━━━━━━━━━━━━\u001B[0m\u001B[37m\u001B[0m \u001B[1m5s\u001B[0m 5ms/step - loss: 3.4642 - val_loss: 2.9840\n",
      "Epoch 3/15\n",
      "\u001B[1m1001/1001\u001B[0m \u001B[32m━━━━━━━━━━━━━━━━━━━━\u001B[0m\u001B[37m\u001B[0m \u001B[1m5s\u001B[0m 5ms/step - loss: 2.7035 - val_loss: 2.1068\n",
      "Epoch 4/15\n",
      "\u001B[1m1001/1001\u001B[0m \u001B[32m━━━━━━━━━━━━━━━━━━━━\u001B[0m\u001B[37m\u001B[0m \u001B[1m5s\u001B[0m 5ms/step - loss: 1.9288 - val_loss: 1.6440\n",
      "Epoch 5/15\n",
      "\u001B[1m1001/1001\u001B[0m \u001B[32m━━━━━━━━━━━━━━━━━━━━\u001B[0m\u001B[37m\u001B[0m \u001B[1m5s\u001B[0m 5ms/step - loss: 1.5007 - val_loss: 1.3745\n",
      "Epoch 6/15\n",
      "\u001B[1m1001/1001\u001B[0m \u001B[32m━━━━━━━━━━━━━━━━━━━━\u001B[0m\u001B[37m\u001B[0m \u001B[1m5s\u001B[0m 5ms/step - loss: 1.2529 - val_loss: 1.2190\n",
      "Epoch 7/15\n",
      "\u001B[1m1001/1001\u001B[0m \u001B[32m━━━━━━━━━━━━━━━━━━━━\u001B[0m\u001B[37m\u001B[0m \u001B[1m5s\u001B[0m 5ms/step - loss: 1.0998 - val_loss: 1.1240\n",
      "Epoch 8/15\n",
      "\u001B[1m1001/1001\u001B[0m \u001B[32m━━━━━━━━━━━━━━━━━━━━\u001B[0m\u001B[37m\u001B[0m \u001B[1m11s\u001B[0m 11ms/step - loss: 0.9981 - val_loss: 1.0592\n",
      "Epoch 9/15\n",
      "\u001B[1m1001/1001\u001B[0m \u001B[32m━━━━━━━━━━━━━━━━━━━━\u001B[0m\u001B[37m\u001B[0m \u001B[1m9s\u001B[0m 9ms/step - loss: 0.9251 - val_loss: 1.0161\n",
      "Epoch 10/15\n",
      "\u001B[1m1001/1001\u001B[0m \u001B[32m━━━━━━━━━━━━━━━━━━━━\u001B[0m\u001B[37m\u001B[0m \u001B[1m6s\u001B[0m 6ms/step - loss: 0.8706 - val_loss: 0.9825\n",
      "Epoch 11/15\n",
      "\u001B[1m1001/1001\u001B[0m \u001B[32m━━━━━━━━━━━━━━━━━━━━\u001B[0m\u001B[37m\u001B[0m \u001B[1m6s\u001B[0m 6ms/step - loss: 0.8245 - val_loss: 0.9579\n",
      "Epoch 12/15\n",
      "\u001B[1m1001/1001\u001B[0m \u001B[32m━━━━━━━━━━━━━━━━━━━━\u001B[0m\u001B[37m\u001B[0m \u001B[1m6s\u001B[0m 6ms/step - loss: 0.7944 - val_loss: 0.9381\n",
      "Epoch 13/15\n",
      "\u001B[1m1001/1001\u001B[0m \u001B[32m━━━━━━━━━━━━━━━━━━━━\u001B[0m\u001B[37m\u001B[0m \u001B[1m6s\u001B[0m 6ms/step - loss: 0.7653 - val_loss: 0.9229\n",
      "Epoch 14/15\n",
      "\u001B[1m1001/1001\u001B[0m \u001B[32m━━━━━━━━━━━━━━━━━━━━\u001B[0m\u001B[37m\u001B[0m \u001B[1m6s\u001B[0m 6ms/step - loss: 0.7371 - val_loss: 0.9099\n",
      "Epoch 15/15\n",
      "\u001B[1m1001/1001\u001B[0m \u001B[32m━━━━━━━━━━━━━━━━━━━━\u001B[0m\u001B[37m\u001B[0m \u001B[1m6s\u001B[0m 6ms/step - loss: 0.7064 - val_loss: 0.9004\n"
     ]
    }
   ],
   "source": [
    "emb_history = emb_model.fit([train.userId, train.movieId], train.rating,\n",
    "                            validation_data=([valid.userId, valid.movieId], valid.rating),\n",
    "                            batch_size=64, epochs=15, verbose=1)"
   ],
   "metadata": {
    "collapsed": false,
    "ExecuteTime": {
     "end_time": "2024-05-04T06:46:05.711150200Z",
     "start_time": "2024-05-04T06:44:32.320760800Z"
    }
   },
   "id": "c5153fd2f9d980d9",
   "execution_count": 13
  },
  {
   "cell_type": "code",
   "execution_count": 14,
   "outputs": [
    {
     "name": "stdout",
     "output_type": "stream",
     "text": [
      "\u001B[1m501/501\u001B[0m \u001B[32m━━━━━━━━━━━━━━━━━━━━\u001B[0m\u001B[37m\u001B[0m \u001B[1m2s\u001B[0m 3ms/step - loss: 0.8925\n"
     ]
    },
    {
     "data": {
      "text/plain": "0.8876381516456604"
     },
     "execution_count": 14,
     "metadata": {},
     "output_type": "execute_result"
    }
   ],
   "source": [
    "emb_model.evaluate(\n",
    "    x=(test.userId, test.movieId),\n",
    "    y=test.rating,\n",
    ")"
   ],
   "metadata": {
    "collapsed": false,
    "ExecuteTime": {
     "end_time": "2024-05-04T06:46:47.336781700Z",
     "start_time": "2024-05-04T06:46:45.552973500Z"
    }
   },
   "id": "83307eec184cb055"
  },
  {
   "cell_type": "code",
   "outputs": [],
   "source": [
    "def plot_loss(_history, saving_path: str = None):\n",
    "    rcParams['figure.figsize'] = 10, 5\n",
    "    plt.plot(_history.history['loss'], 'g')\n",
    "    plt.plot(_history.history['val_loss'], 'b')\n",
    "    plt.title('model loss')\n",
    "    plt.ylabel('loss')\n",
    "    plt.xlabel('epoch')\n",
    "    plt.legend(['train', 'valid'], loc='upper left')\n",
    "    plt.grid(True)\n",
    "\n",
    "    if saving_path is not None:\n",
    "        plt.savefig(saving_path)\n",
    "\n",
    "    plt.show()\n"
   ],
   "metadata": {
    "collapsed": false,
    "ExecuteTime": {
     "end_time": "2024-05-03T19:31:32.088233Z",
     "start_time": "2024-05-03T19:31:32.048031Z"
    }
   },
   "id": "82fadfe8ec31b258",
   "execution_count": 42
  },
  {
   "cell_type": "code",
   "outputs": [
    {
     "data": {
      "text/plain": "<Figure size 1000x500 with 1 Axes>",
      "image/png": "[encoded data removed]"
     },
     "metadata": {},
     "output_type": "display_data"
    }
   ],
   "source": [
    "plot_loss(emb_history)"
   ],
   "metadata": {
    "collapsed": false,
    "ExecuteTime": {
     "end_time": "2024-05-03T19:05:48.614849600Z",
     "start_time": "2024-05-03T19:05:48.272601600Z"
    }
   },
   "id": "d79a745302d9a089",
   "execution_count": 205
  },
  {
   "cell_type": "markdown",
   "source": [
    "Model 2: NN filtration"
   ],
   "metadata": {
    "collapsed": false
   },
   "id": "d9021dc4ef5822c1"
  },
  {
   "cell_type": "code",
   "outputs": [],
   "source": [
    "user_input = Input(shape=(1,), dtype='int64')\n",
    "user_embedding = Embedding(n_users, n_latent_factors)(user_input)\n",
    "user_vec = Flatten()(user_embedding)\n",
    "user_vec = Dropout(0.8)(user_vec)\n",
    "\n",
    "movie_input = Input(shape=(1,), dtype='int64')\n",
    "movie_embedding = Embedding(n_movies, n_latent_factors)(movie_input)\n",
    "movie_vec = Flatten()(movie_embedding)\n",
    "movie_vec = Dropout(0.8)(movie_vec)\n",
    "\n",
    "sim = Multiply()([user_vec, movie_vec])\n",
    "\n",
    "nn_inp = Dense(200, activation='relu')(sim)\n",
    "nn_inp = Dropout(0.5)(nn_inp)\n",
    "\n",
    "nn_inp = Dense(1, activation='relu')(nn_inp)\n",
    "\n",
    "nn_model = Model([user_input, movie_input], nn_inp)\n",
    "nn_model.compile(loss=rmse)"
   ],
   "metadata": {
    "collapsed": false,
    "ExecuteTime": {
     "end_time": "2024-05-04T06:47:09.241508900Z",
     "start_time": "2024-05-04T06:47:09.095380600Z"
    }
   },
   "id": "6d3cf9c67c68172c",
   "execution_count": 15
  },
  {
   "cell_type": "code",
   "outputs": [
    {
     "name": "stdout",
     "output_type": "stream",
     "text": [
      "Epoch 1/15\n",
      "\u001B[1m501/501\u001B[0m \u001B[32m━━━━━━━━━━━━━━━━━━━━\u001B[0m\u001B[37m\u001B[0m \u001B[1m7s\u001B[0m 7ms/step - loss: 1.8114 - val_loss: 0.8543\n",
      "Epoch 2/15\n",
      "\u001B[1m501/501\u001B[0m \u001B[32m━━━━━━━━━━━━━━━━━━━━\u001B[0m\u001B[37m\u001B[0m \u001B[1m3s\u001B[0m 6ms/step - loss: 0.8783 - val_loss: 0.8541\n",
      "Epoch 3/15\n",
      "\u001B[1m501/501\u001B[0m \u001B[32m━━━━━━━━━━━━━━━━━━━━\u001B[0m\u001B[37m\u001B[0m \u001B[1m3s\u001B[0m 7ms/step - loss: 0.8753 - val_loss: 0.8557\n",
      "Epoch 4/15\n",
      "\u001B[1m501/501\u001B[0m \u001B[32m━━━━━━━━━━━━━━━━━━━━\u001B[0m\u001B[37m\u001B[0m \u001B[1m3s\u001B[0m 6ms/step - loss: 0.8731 - val_loss: 0.8539\n",
      "Epoch 5/15\n",
      "\u001B[1m501/501\u001B[0m \u001B[32m━━━━━━━━━━━━━━━━━━━━\u001B[0m\u001B[37m\u001B[0m \u001B[1m3s\u001B[0m 6ms/step - loss: 0.8714 - val_loss: 0.8593\n",
      "Epoch 6/15\n",
      "\u001B[1m501/501\u001B[0m \u001B[32m━━━━━━━━━━━━━━━━━━━━\u001B[0m\u001B[37m\u001B[0m \u001B[1m3s\u001B[0m 6ms/step - loss: 0.8694 - val_loss: 0.8527\n",
      "Epoch 7/15\n",
      "\u001B[1m501/501\u001B[0m \u001B[32m━━━━━━━━━━━━━━━━━━━━\u001B[0m\u001B[37m\u001B[0m \u001B[1m3s\u001B[0m 7ms/step - loss: 0.8657 - val_loss: 0.8523\n",
      "Epoch 8/15\n",
      "\u001B[1m501/501\u001B[0m \u001B[32m━━━━━━━━━━━━━━━━━━━━\u001B[0m\u001B[37m\u001B[0m \u001B[1m3s\u001B[0m 5ms/step - loss: 0.8667 - val_loss: 0.8546\n",
      "Epoch 9/15\n",
      "\u001B[1m501/501\u001B[0m \u001B[32m━━━━━━━━━━━━━━━━━━━━\u001B[0m\u001B[37m\u001B[0m \u001B[1m3s\u001B[0m 6ms/step - loss: 0.8628 - val_loss: 0.8559\n",
      "Epoch 10/15\n",
      "\u001B[1m501/501\u001B[0m \u001B[32m━━━━━━━━━━━━━━━━━━━━\u001B[0m\u001B[37m\u001B[0m \u001B[1m3s\u001B[0m 6ms/step - loss: 0.8597 - val_loss: 0.8503\n",
      "Epoch 11/15\n",
      "\u001B[1m501/501\u001B[0m \u001B[32m━━━━━━━━━━━━━━━━━━━━\u001B[0m\u001B[37m\u001B[0m \u001B[1m3s\u001B[0m 6ms/step - loss: 0.8595 - val_loss: 0.8520\n",
      "Epoch 12/15\n",
      "\u001B[1m501/501\u001B[0m \u001B[32m━━━━━━━━━━━━━━━━━━━━\u001B[0m\u001B[37m\u001B[0m \u001B[1m3s\u001B[0m 6ms/step - loss: 0.8557 - val_loss: 0.8536\n",
      "Epoch 13/15\n",
      "\u001B[1m501/501\u001B[0m \u001B[32m━━━━━━━━━━━━━━━━━━━━\u001B[0m\u001B[37m\u001B[0m \u001B[1m3s\u001B[0m 6ms/step - loss: 0.8532 - val_loss: 0.8491\n",
      "Epoch 14/15\n",
      "\u001B[1m501/501\u001B[0m \u001B[32m━━━━━━━━━━━━━━━━━━━━\u001B[0m\u001B[37m\u001B[0m \u001B[1m3s\u001B[0m 6ms/step - loss: 0.8457 - val_loss: 0.8533\n",
      "Epoch 15/15\n",
      "\u001B[1m501/501\u001B[0m \u001B[32m━━━━━━━━━━━━━━━━━━━━\u001B[0m\u001B[37m\u001B[0m \u001B[1m4s\u001B[0m 7ms/step - loss: 0.8389 - val_loss: 0.8483\n"
     ]
    }
   ],
   "source": [
    "nn_history = nn_model.fit([train.userId, train.movieId], train.rating,\n",
    "                          validation_data=([valid.userId, valid.movieId], valid.rating),\n",
    "                          batch_size=128, epochs=15, verbose=1)"
   ],
   "metadata": {
    "collapsed": false,
    "ExecuteTime": {
     "end_time": "2024-05-04T06:47:59.779055300Z",
     "start_time": "2024-05-04T06:47:09.504568400Z"
    }
   },
   "id": "eea6ba8c8035b57e",
   "execution_count": 16
  },
  {
   "cell_type": "code",
   "execution_count": 17,
   "outputs": [
    {
     "name": "stdout",
     "output_type": "stream",
     "text": [
      "\u001B[1m501/501\u001B[0m \u001B[32m━━━━━━━━━━━━━━━━━━━━\u001B[0m\u001B[37m\u001B[0m \u001B[1m1s\u001B[0m 2ms/step - loss: 0.8394\n"
     ]
    },
    {
     "data": {
      "text/plain": "0.8367028832435608"
     },
     "execution_count": 17,
     "metadata": {},
     "output_type": "execute_result"
    }
   ],
   "source": [
    "nn_model.evaluate(\n",
    "    x=(test.userId, test.movieId),\n",
    "    y=test.rating,\n",
    ")"
   ],
   "metadata": {
    "collapsed": false,
    "ExecuteTime": {
     "end_time": "2024-05-04T06:48:01.183053100Z",
     "start_time": "2024-05-04T06:47:59.773050900Z"
    }
   },
   "id": "4f66210da3eb0fbb"
  },
  {
   "cell_type": "code",
   "outputs": [
    {
     "data": {
      "text/plain": "<Figure size 1000x500 with 1 Axes>",
      "image/png": "[encoded data removed]"
     },
     "metadata": {},
     "output_type": "display_data"
    }
   ],
   "source": [
    "plot_loss(nn_history)"
   ],
   "metadata": {
    "collapsed": false,
    "ExecuteTime": {
     "end_time": "2024-05-03T19:08:51.420950700Z",
     "start_time": "2024-05-03T19:08:51.072505700Z"
    }
   },
   "id": "6d72b4cda7f2121d",
   "execution_count": 208
  },
  {
   "cell_type": "markdown",
   "source": [
    "Model 3: ensemble "
   ],
   "metadata": {
    "collapsed": false
   },
   "id": "a62c444573bcacf3"
  },
  {
   "cell_type": "code",
   "outputs": [],
   "source": [
    "user_input = Input(shape=(1,), dtype='int64')\n",
    "user_embedding = Embedding(n_users, n_latent_factors)(user_input)\n",
    "user_vec = Flatten()(user_embedding)\n",
    "\n",
    "movie_input = Input(shape=(1,), dtype='int64')\n",
    "movie_embedding = Embedding(n_movies, n_latent_factors)(movie_input)\n",
    "movie_vec = Flatten()(movie_embedding)\n",
    "\n",
    "user_drop = Dropout(0.9)(user_vec)\n",
    "movie_drop = Dropout(0.9)(movie_vec)\n",
    "\n",
    "emd_sim = Dot(axes=1)([user_vec, movie_vec])\n",
    "nn_sim = Dot(axes=1)([user_drop, movie_drop])\n",
    "\n",
    "concated = Concatenate()([emd_sim, nn_sim])\n",
    "dense1 = Dense(200, activation='relu')(concated)\n",
    "drop1 = Dropout(0.9)(dense1)\n",
    "dense2 = Dense(96, activation='relu')(drop1)\n",
    "drop2 = Dropout(0.8)(dense2)\n",
    "dense3 = Dense(1, activation='relu')(drop2)\n",
    "\n",
    "ens_model = Model([user_input, movie_input], dense2)\n",
    "ens_model.compile(loss=rmse)"
   ],
   "metadata": {
    "collapsed": false,
    "ExecuteTime": {
     "end_time": "2024-05-04T06:48:08.313241Z",
     "start_time": "2024-05-04T06:48:08.159189300Z"
    }
   },
   "id": "c2d9c83c3ce3aef8",
   "execution_count": 18
  },
  {
   "cell_type": "code",
   "outputs": [
    {
     "name": "stdout",
     "output_type": "stream",
     "text": [
      "Epoch 1/15\n",
      "\u001B[1m126/126\u001B[0m \u001B[32m━━━━━━━━━━━━━━━━━━━━\u001B[0m\u001B[37m\u001B[0m \u001B[1m6s\u001B[0m 12ms/step - loss: 3.2288 - val_loss: 1.2449\n",
      "Epoch 2/15\n",
      "\u001B[1m126/126\u001B[0m \u001B[32m━━━━━━━━━━━━━━━━━━━━\u001B[0m\u001B[37m\u001B[0m \u001B[1m1s\u001B[0m 9ms/step - loss: 1.2683 - val_loss: 0.8804\n",
      "Epoch 3/15\n",
      "\u001B[1m126/126\u001B[0m \u001B[32m━━━━━━━━━━━━━━━━━━━━\u001B[0m\u001B[37m\u001B[0m \u001B[1m2s\u001B[0m 12ms/step - loss: 1.0948 - val_loss: 0.8609\n",
      "Epoch 4/15\n",
      "\u001B[1m126/126\u001B[0m \u001B[32m━━━━━━━━━━━━━━━━━━━━\u001B[0m\u001B[37m\u001B[0m \u001B[1m1s\u001B[0m 11ms/step - loss: 1.0582 - val_loss: 0.8568\n",
      "Epoch 5/15\n",
      "\u001B[1m126/126\u001B[0m \u001B[32m━━━━━━━━━━━━━━━━━━━━\u001B[0m\u001B[37m\u001B[0m \u001B[1m2s\u001B[0m 11ms/step - loss: 1.0359 - val_loss: 0.8650\n",
      "Epoch 6/15\n",
      "\u001B[1m126/126\u001B[0m \u001B[32m━━━━━━━━━━━━━━━━━━━━\u001B[0m\u001B[37m\u001B[0m \u001B[1m1s\u001B[0m 11ms/step - loss: 1.0286 - val_loss: 0.8567\n",
      "Epoch 7/15\n",
      "\u001B[1m126/126\u001B[0m \u001B[32m━━━━━━━━━━━━━━━━━━━━\u001B[0m\u001B[37m\u001B[0m \u001B[1m1s\u001B[0m 10ms/step - loss: 1.0140 - val_loss: 0.8613\n",
      "Epoch 8/15\n",
      "\u001B[1m126/126\u001B[0m \u001B[32m━━━━━━━━━━━━━━━━━━━━\u001B[0m\u001B[37m\u001B[0m \u001B[1m2s\u001B[0m 11ms/step - loss: 0.9967 - val_loss: 0.8697\n",
      "Epoch 9/15\n",
      "\u001B[1m126/126\u001B[0m \u001B[32m━━━━━━━━━━━━━━━━━━━━\u001B[0m\u001B[37m\u001B[0m \u001B[1m1s\u001B[0m 10ms/step - loss: 0.9872 - val_loss: 0.8597\n",
      "Epoch 10/15\n",
      "\u001B[1m126/126\u001B[0m \u001B[32m━━━━━━━━━━━━━━━━━━━━\u001B[0m\u001B[37m\u001B[0m \u001B[1m1s\u001B[0m 11ms/step - loss: 0.9811 - val_loss: 0.8562\n",
      "Epoch 11/15\n",
      "\u001B[1m126/126\u001B[0m \u001B[32m━━━━━━━━━━━━━━━━━━━━\u001B[0m\u001B[37m\u001B[0m \u001B[1m1s\u001B[0m 10ms/step - loss: 0.9672 - val_loss: 0.8543\n",
      "Epoch 12/15\n",
      "\u001B[1m126/126\u001B[0m \u001B[32m━━━━━━━━━━━━━━━━━━━━\u001B[0m\u001B[37m\u001B[0m \u001B[1m1s\u001B[0m 10ms/step - loss: 0.9538 - val_loss: 0.8538\n",
      "Epoch 13/15\n",
      "\u001B[1m126/126\u001B[0m \u001B[32m━━━━━━━━━━━━━━━━━━━━\u001B[0m\u001B[37m\u001B[0m \u001B[1m2s\u001B[0m 13ms/step - loss: 0.9341 - val_loss: 0.8519\n",
      "Epoch 14/15\n",
      "\u001B[1m126/126\u001B[0m \u001B[32m━━━━━━━━━━━━━━━━━━━━\u001B[0m\u001B[37m\u001B[0m \u001B[1m1s\u001B[0m 11ms/step - loss: 0.8926 - val_loss: 0.8241\n",
      "Epoch 15/15\n",
      "\u001B[1m126/126\u001B[0m \u001B[32m━━━━━━━━━━━━━━━━━━━━\u001B[0m\u001B[37m\u001B[0m \u001B[1m1s\u001B[0m 11ms/step - loss: 0.8109 - val_loss: 0.7993\n"
     ]
    }
   ],
   "source": [
    "ens_history = ens_model.fit([train.userId, train.movieId], train.rating,\n",
    "                          validation_data=([valid.userId, valid.movieId], valid.rating),\n",
    "                          batch_size=512, epochs=15, verbose=1)"
   ],
   "metadata": {
    "collapsed": false,
    "ExecuteTime": {
     "end_time": "2024-05-04T06:48:41.006497600Z",
     "start_time": "2024-05-04T06:48:14.898782600Z"
    }
   },
   "id": "f084391824dbbb00",
   "execution_count": 19
  },
  {
   "cell_type": "code",
   "execution_count": 20,
   "outputs": [
    {
     "name": "stdout",
     "output_type": "stream",
     "text": [
      "\u001B[1m501/501\u001B[0m \u001B[32m━━━━━━━━━━━━━━━━━━━━\u001B[0m\u001B[37m\u001B[0m \u001B[1m2s\u001B[0m 3ms/step - loss: 0.7883\n"
     ]
    },
    {
     "data": {
      "text/plain": "0.7886475920677185"
     },
     "execution_count": 20,
     "metadata": {},
     "output_type": "execute_result"
    }
   ],
   "source": [
    "ens_model.evaluate(\n",
    "    x=(test.userId, test.movieId),\n",
    "    y=test.rating,\n",
    ")"
   ],
   "metadata": {
    "collapsed": false,
    "ExecuteTime": {
     "end_time": "2024-05-04T06:48:45.636589200Z",
     "start_time": "2024-05-04T06:48:43.717887400Z"
    }
   },
   "id": "e7b4795b76f1a46e"
  },
  {
   "cell_type": "code",
   "outputs": [
    {
     "data": {
      "text/plain": "<Figure size 1000x500 with 1 Axes>",
      "image/png": "[encoded data removed]"
     },
     "metadata": {},
     "output_type": "display_data"
    }
   ],
   "source": [
    "plot_loss(ens_history, saving_path='./checkpoints/plots/ensemble_15_loss.png')"
   ],
   "metadata": {
    "collapsed": false,
    "ExecuteTime": {
     "end_time": "2024-05-03T19:32:38.940332500Z",
     "start_time": "2024-05-03T19:32:38.017086400Z"
    }
   },
   "id": "cfe122e981905d59",
   "execution_count": 46
  }
 ],
 "metadata": {
  "kernelspec": {
   "display_name": "Python 3",
   "language": "python",
   "name": "python3"
  },
  "language_info": {
   "codemirror_mode": {
    "name": "ipython",
    "version": 2
   },
   "file_extension": ".py",
   "mimetype": "text/x-python",
   "name": "python",
   "nbconvert_exporter": "python",
   "pygments_lexer": "ipython2",
   "version": "2.7.6"
  }
 },
 "nbformat": 4,
 "nbformat_minor": 5
}
