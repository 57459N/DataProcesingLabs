{
 "cells": [
  {
   "cell_type": "code",
   "execution_count": 69,
   "id": "initial_id",
   "metadata": {
    "collapsed": true,
    "ExecuteTime": {
     "end_time": "2024-05-03T14:06:39.624073Z",
     "start_time": "2024-05-03T14:06:38.011974200Z"
    }
   },
   "outputs": [],
   "source": [
    "from keras.layers import Dropout, Dense, Flatten, Activation, Input, Embedding, Dot\n",
    "from keras.models import Model\n",
    "from sklearn.model_selection import train_test_split\n",
    "from tensorflow.keras.metrics import Precision, Recall, AUC\n",
    "\n",
    "from pylab import rcParams\n",
    "\n",
    "import matplotlib.pyplot as plt\n",
    "import pandas as pd\n"
   ]
  },
  {
   "cell_type": "code",
   "outputs": [],
   "source": [
    "ratings_df = pd.read_csv('./data/movies/ratings.csv').drop('timestamp', axis=1)\n",
    "movies_df = pd.read_csv('./data/movies/movies.csv')"
   ],
   "metadata": {
    "collapsed": false,
    "ExecuteTime": {
     "end_time": "2024-05-03T13:42:35.321040700Z",
     "start_time": "2024-05-03T13:42:35.220820100Z"
    }
   },
   "id": "a4300e68207f6632",
   "execution_count": 19
  },
  {
   "cell_type": "code",
   "outputs": [],
   "source": [
    "ratings_df.head()"
   ],
   "metadata": {
    "collapsed": false
   },
   "id": "f4427d6f39ae02a8"
  },
  {
   "cell_type": "code",
   "outputs": [],
   "source": [
    "movies_df.head()"
   ],
   "metadata": {
    "collapsed": false,
    "ExecuteTime": {
     "end_time": "2024-05-03T13:44:26.641539Z",
     "start_time": "2024-05-03T13:44:26.581019Z"
    }
   },
   "id": "df0717a65edf1478",
   "execution_count": 20
  },
  {
   "cell_type": "code",
   "outputs": [],
   "source": [
    "users = ratings_df.userId.unique()\n",
    "movies = ratings_df.movieId.unique()"
   ],
   "metadata": {
    "collapsed": false,
    "ExecuteTime": {
     "end_time": "2024-05-03T13:46:32.620251600Z",
     "start_time": "2024-05-03T13:46:32.584718800Z"
    }
   },
   "id": "b598e51f475cc2fd",
   "execution_count": 23
  },
  {
   "cell_type": "code",
   "outputs": [],
   "source": [
    "userid2idx = {o: i for i, o in enumerate(users)}\n",
    "movieid2idx = {o: i for i, o in enumerate(movies)}\n",
    "df = ratings_df.copy(deep=True)\n",
    "df['userId'] = df['userId'].apply(lambda x: userid2idx[x])\n",
    "df['movieId'] = df['movieId'].apply(lambda x: movieid2idx[x])"
   ],
   "metadata": {
    "collapsed": false,
    "ExecuteTime": {
     "end_time": "2024-05-03T13:46:33.626130400Z",
     "start_time": "2024-05-03T13:46:33.410838500Z"
    }
   },
   "id": "2243b1b7dea645a",
   "execution_count": 24
  },
  {
   "cell_type": "code",
   "outputs": [
    {
     "data": {
      "text/plain": "        userId  movieId\n0            0        0\n1            0        1\n2            0        2\n3            0        3\n4            0        4\n...        ...      ...\n99999      670     7005\n100000     670     4771\n100001     670     1329\n100002     670     1331\n100003     670     2946\n\n[100004 rows x 2 columns]",
      "text/html": "<div>\n<style scoped>\n    .dataframe tbody tr th:only-of-type {\n        vertical-align: middle;\n    }\n\n    .dataframe tbody tr th {\n        vertical-align: top;\n    }\n\n    .dataframe thead th {\n        text-align: right;\n    }\n</style>\n<table border=\"1\" class=\"dataframe\">\n  <thead>\n    <tr style=\"text-align: right;\">\n      <th></th>\n      <th>userId</th>\n      <th>movieId</th>\n    </tr>\n  </thead>\n  <tbody>\n    <tr>\n      <th>0</th>\n      <td>0</td>\n      <td>0</td>\n    </tr>\n    <tr>\n      <th>1</th>\n      <td>0</td>\n      <td>1</td>\n    </tr>\n    <tr>\n      <th>2</th>\n      <td>0</td>\n      <td>2</td>\n    </tr>\n    <tr>\n      <th>3</th>\n      <td>0</td>\n      <td>3</td>\n    </tr>\n    <tr>\n      <th>4</th>\n      <td>0</td>\n      <td>4</td>\n    </tr>\n    <tr>\n      <th>...</th>\n      <td>...</td>\n      <td>...</td>\n    </tr>\n    <tr>\n      <th>99999</th>\n      <td>670</td>\n      <td>7005</td>\n    </tr>\n    <tr>\n      <th>100000</th>\n      <td>670</td>\n      <td>4771</td>\n    </tr>\n    <tr>\n      <th>100001</th>\n      <td>670</td>\n      <td>1329</td>\n    </tr>\n    <tr>\n      <th>100002</th>\n      <td>670</td>\n      <td>1331</td>\n    </tr>\n    <tr>\n      <th>100003</th>\n      <td>670</td>\n      <td>2946</td>\n    </tr>\n  </tbody>\n</table>\n<p>100004 rows × 2 columns</p>\n</div>"
     },
     "execution_count": 31,
     "metadata": {},
     "output_type": "execute_result"
    }
   ],
   "source": [
    "df[['userId', 'movieId']]"
   ],
   "metadata": {
    "collapsed": false,
    "ExecuteTime": {
     "end_time": "2024-05-03T13:49:03.412332200Z",
     "start_time": "2024-05-03T13:49:03.363197100Z"
    }
   },
   "id": "33602c7ae76fc1c0",
   "execution_count": 31
  },
  {
   "cell_type": "code",
   "outputs": [],
   "source": [
    "train, test = train_test_split(df, test_size=0.20)"
   ],
   "metadata": {
    "collapsed": false,
    "ExecuteTime": {
     "end_time": "2024-05-03T14:20:57.327369400Z",
     "start_time": "2024-05-03T14:20:57.292782400Z"
    }
   },
   "id": "9df93d010cbcc07f",
   "execution_count": 82
  },
  {
   "cell_type": "code",
   "outputs": [],
   "source": [
    "n_latent_factors = 64"
   ],
   "metadata": {
    "collapsed": false,
    "ExecuteTime": {
     "end_time": "2024-05-03T13:51:35.390859300Z",
     "start_time": "2024-05-03T13:51:35.367120400Z"
    }
   },
   "id": "1e34a56448d954da",
   "execution_count": 45
  },
  {
   "cell_type": "markdown",
   "source": [
    "Model 1: just embeddings"
   ],
   "metadata": {
    "collapsed": false
   },
   "id": "fdea959381b07ec4"
  },
  {
   "cell_type": "code",
   "outputs": [],
   "source": [
    "n_movies = len(df['movieId'].unique())\n",
    "n_users = len(df['userId'].unique())\n",
    "user_input = Input(shape=(1,), dtype='int64')\n",
    "user_embedding = Embedding(n_users, n_latent_factors)(user_input)\n",
    "user_vec = Flatten(name='FlattenUsers')(user_embedding)\n",
    "\n",
    "movie_input = Input(shape=(1,), dtype='int64')\n",
    "movie_embedding = Embedding(n_movies, n_latent_factors)(movie_input)\n",
    "movie_vec = Flatten(name='FlattenMovies')(movie_embedding)\n",
    "\n",
    "sim = Dot(axes=1)([user_vec, movie_vec])\n",
    "emb_model = Model([user_input, movie_input], sim)\n",
    "emb_model.compile(loss='mse')"
   ],
   "metadata": {
    "collapsed": false,
    "ExecuteTime": {
     "end_time": "2024-05-03T14:03:49.493583800Z",
     "start_time": "2024-05-03T14:03:49.429826400Z"
    }
   },
   "id": "4da80faac075c06d",
   "execution_count": 66
  },
  {
   "cell_type": "code",
   "outputs": [
    {
     "data": {
      "text/plain": "       userId  movieId  rating\n75287     521     1467     2.5\n44514     311      816     4.0\n39446     286     1597     4.5\n48792     357      143     5.0\n60686     440      673     4.5\n...       ...      ...     ...\n27373     198     5188     3.5\n17039     110      324     3.0\n51091     378      332     3.5\n51962     379     1591     3.5\n40231     293       74     5.0\n\n[20001 rows x 3 columns]",
      "text/html": "<div>\n<style scoped>\n    .dataframe tbody tr th:only-of-type {\n        vertical-align: middle;\n    }\n\n    .dataframe tbody tr th {\n        vertical-align: top;\n    }\n\n    .dataframe thead th {\n        text-align: right;\n    }\n</style>\n<table border=\"1\" class=\"dataframe\">\n  <thead>\n    <tr style=\"text-align: right;\">\n      <th></th>\n      <th>userId</th>\n      <th>movieId</th>\n      <th>rating</th>\n    </tr>\n  </thead>\n  <tbody>\n    <tr>\n      <th>75287</th>\n      <td>521</td>\n      <td>1467</td>\n      <td>2.5</td>\n    </tr>\n    <tr>\n      <th>44514</th>\n      <td>311</td>\n      <td>816</td>\n      <td>4.0</td>\n    </tr>\n    <tr>\n      <th>39446</th>\n      <td>286</td>\n      <td>1597</td>\n      <td>4.5</td>\n    </tr>\n    <tr>\n      <th>48792</th>\n      <td>357</td>\n      <td>143</td>\n      <td>5.0</td>\n    </tr>\n    <tr>\n      <th>60686</th>\n      <td>440</td>\n      <td>673</td>\n      <td>4.5</td>\n    </tr>\n    <tr>\n      <th>...</th>\n      <td>...</td>\n      <td>...</td>\n      <td>...</td>\n    </tr>\n    <tr>\n      <th>27373</th>\n      <td>198</td>\n      <td>5188</td>\n      <td>3.5</td>\n    </tr>\n    <tr>\n      <th>17039</th>\n      <td>110</td>\n      <td>324</td>\n      <td>3.0</td>\n    </tr>\n    <tr>\n      <th>51091</th>\n      <td>378</td>\n      <td>332</td>\n      <td>3.5</td>\n    </tr>\n    <tr>\n      <th>51962</th>\n      <td>379</td>\n      <td>1591</td>\n      <td>3.5</td>\n    </tr>\n    <tr>\n      <th>40231</th>\n      <td>293</td>\n      <td>74</td>\n      <td>5.0</td>\n    </tr>\n  </tbody>\n</table>\n<p>20001 rows × 3 columns</p>\n</div>"
     },
     "execution_count": 83,
     "metadata": {},
     "output_type": "execute_result"
    }
   ],
   "source": [
    "test"
   ],
   "metadata": {
    "collapsed": false,
    "ExecuteTime": {
     "end_time": "2024-05-03T14:21:03.194754100Z",
     "start_time": "2024-05-03T14:21:03.134208600Z"
    }
   },
   "id": "94cae09bbff3a823",
   "execution_count": 83
  },
  {
   "cell_type": "code",
   "outputs": [
    {
     "name": "stdout",
     "output_type": "stream",
     "text": [
      "Epoch 1/15\n",
      "\u001B[1m626/626\u001B[0m \u001B[32m━━━━━━━━━━━━━━━━━━━━\u001B[0m\u001B[37m\u001B[0m \u001B[1m3s\u001B[0m 4ms/step - loss: 0.3326 - val_loss: 0.3380\n",
      "Epoch 2/15\n",
      "\u001B[1m320/626\u001B[0m \u001B[32m━━━━━━━━━━\u001B[0m\u001B[37m━━━━━━━━━━\u001B[0m \u001B[1m1s\u001B[0m 4ms/step - loss: 0.3139"
     ]
    },
    {
     "name": "stderr",
     "output_type": "stream",
     "text": [
      "\n",
      "KeyboardInterrupt\n",
      "\n"
     ]
    }
   ],
   "source": [
    "emb_history = emb_model.fit([train.userId, train.movieId], train.rating,\n",
    "                            validation_data=([test.userId, test.movieId], test.rating),\n",
    "                            batch_size=128, epochs=15, verbose=1)"
   ],
   "metadata": {
    "collapsed": false,
    "ExecuteTime": {
     "end_time": "2024-05-03T14:21:30.504920100Z",
     "start_time": "2024-05-03T14:21:26.248774300Z"
    }
   },
   "id": "c5153fd2f9d980d9",
   "execution_count": 84
  },
  {
   "cell_type": "code",
   "outputs": [],
   "source": [
    "def plot_loss(_history, saving_path: str = None):\n",
    "    rcParams['figure.figsize'] = 10, 5\n",
    "    plt.plot(_history.history['loss'], 'g')\n",
    "    plt.plot(_history.history['val_loss'], 'b')\n",
    "    plt.title('model loss')\n",
    "    plt.ylabel('loss')\n",
    "    plt.xlabel('epoch')\n",
    "    plt.legend(['train', 'test'], loc='upper left')\n",
    "    plt.grid(True)\n",
    "\n",
    "    if saving_path is not None:\n",
    "        plt.savefig(saving_path)\n",
    "\n",
    "    plt.show()\n"
   ],
   "metadata": {
    "collapsed": false,
    "ExecuteTime": {
     "end_time": "2024-05-03T14:10:33.130404100Z",
     "start_time": "2024-05-03T14:10:33.105387200Z"
    }
   },
   "id": "82fadfe8ec31b258",
   "execution_count": 74
  },
  {
   "cell_type": "code",
   "outputs": [
    {
     "data": {
      "text/plain": "<Figure size 1000x500 with 1 Axes>",
      "image/png": "[encoded data removed]"
     },
     "metadata": {},
     "output_type": "display_data"
    }
   ],
   "source": [
    "plot_loss(emb_history, saving_path='./checkpoints/plots/embedded_recs_traint_test_loss.png')"
   ],
   "metadata": {
    "collapsed": false,
    "ExecuteTime": {
     "end_time": "2024-05-03T14:12:59.156123300Z",
     "start_time": "2024-05-03T14:12:58.620057500Z"
    }
   },
   "id": "d79a745302d9a089",
   "execution_count": 77
  },
  {
   "cell_type": "markdown",
   "source": [
    "Model 2: NN filtration"
   ],
   "metadata": {
    "collapsed": false
   },
   "id": "d9021dc4ef5822c1"
  },
  {
   "cell_type": "code",
   "outputs": [],
   "source": [
    "user_input = Input(shape=(1,), dtype='int64')\n",
    "user_embedding = Embedding(n_users, n_latent_factors)(user_input)\n",
    "user_vec = Flatten()(user_embedding)\n",
    "\n",
    "movie_input = Input(shape=(1,), dtype='int64')\n",
    "movie_embedding = Embedding(n_movies, n_latent_factors)(movie_input)\n",
    "movie_vec = Flatten()(movie_embedding)\n",
    "\n",
    "sim = Dot(axes=1)([user_vec, movie_vec])\n",
    "\n",
    "nn_inp = Dense(96, activation='relu')(sim)\n",
    "nn_inp = Dense(1, activation='relu')(nn_inp)\n",
    "\n",
    "nn_model = Model([user_input, movie_input], nn_inp)\n",
    "nn_model.compile(loss='mse')"
   ],
   "metadata": {
    "collapsed": false,
    "ExecuteTime": {
     "end_time": "2024-05-03T14:28:22.701218400Z",
     "start_time": "2024-05-03T14:28:22.646173Z"
    }
   },
   "id": "6d3cf9c67c68172c",
   "execution_count": 89
  },
  {
   "cell_type": "code",
   "outputs": [
    {
     "name": "stdout",
     "output_type": "stream",
     "text": [
      "Epoch 1/50\n",
      "\u001B[1m626/626\u001B[0m \u001B[32m━━━━━━━━━━━━━━━━━━━━\u001B[0m\u001B[37m\u001B[0m \u001B[1m3s\u001B[0m 4ms/step - loss: 0.0039 - val_loss: 1.5466\n",
      "Epoch 2/50\n",
      "\u001B[1m626/626\u001B[0m \u001B[32m━━━━━━━━━━━━━━━━━━━━\u001B[0m\u001B[37m\u001B[0m \u001B[1m3s\u001B[0m 5ms/step - loss: 0.0038 - val_loss: 1.5487\n",
      "Epoch 3/50\n",
      "\u001B[1m626/626\u001B[0m \u001B[32m━━━━━━━━━━━━━━━━━━━━\u001B[0m\u001B[37m\u001B[0m \u001B[1m2s\u001B[0m 4ms/step - loss: 0.0036 - val_loss: 1.5494\n",
      "Epoch 4/50\n",
      "\u001B[1m626/626\u001B[0m \u001B[32m━━━━━━━━━━━━━━━━━━━━\u001B[0m\u001B[37m\u001B[0m \u001B[1m3s\u001B[0m 5ms/step - loss: 0.0035 - val_loss: 1.5506\n",
      "Epoch 5/50\n",
      "\u001B[1m626/626\u001B[0m \u001B[32m━━━━━━━━━━━━━━━━━━━━\u001B[0m\u001B[37m\u001B[0m \u001B[1m3s\u001B[0m 5ms/step - loss: 0.0032 - val_loss: 1.5529\n",
      "Epoch 6/50\n",
      "\u001B[1m626/626\u001B[0m \u001B[32m━━━━━━━━━━━━━━━━━━━━\u001B[0m\u001B[37m\u001B[0m \u001B[1m2s\u001B[0m 4ms/step - loss: 0.0033 - val_loss: 1.5534\n",
      "Epoch 7/50\n",
      "\u001B[1m626/626\u001B[0m \u001B[32m━━━━━━━━━━━━━━━━━━━━\u001B[0m\u001B[37m\u001B[0m \u001B[1m3s\u001B[0m 5ms/step - loss: 0.0031 - val_loss: 1.5551\n",
      "Epoch 8/50\n",
      "\u001B[1m626/626\u001B[0m \u001B[32m━━━━━━━━━━━━━━━━━━━━\u001B[0m\u001B[37m\u001B[0m \u001B[1m3s\u001B[0m 4ms/step - loss: 0.0029 - val_loss: 1.5567\n",
      "Epoch 9/50\n",
      "\u001B[1m616/626\u001B[0m \u001B[32m━━━━━━━━━━━━━━━━━━━\u001B[0m\u001B[37m━\u001B[0m \u001B[1m0s\u001B[0m 4ms/step - loss: 0.0029"
     ]
    },
    {
     "name": "stderr",
     "output_type": "stream",
     "text": [
      "\n",
      "KeyboardInterrupt\n",
      "\n"
     ]
    }
   ],
   "source": [
    "nn_history = emb_model.fit([trainX.userId, trainX.movieId], trainy,\n",
    "                           validation_data=([testX.userId, testX.movieId], testy),\n",
    "                           batch_size=128, epochs=50, verbose=1)"
   ],
   "metadata": {
    "collapsed": false,
    "ExecuteTime": {
     "end_time": "2024-05-03T14:28:49.797698100Z",
     "start_time": "2024-05-03T14:28:24.460773700Z"
    }
   },
   "id": "eea6ba8c8035b57e",
   "execution_count": 90
  },
  {
   "cell_type": "code",
   "outputs": [
    {
     "data": {
      "text/plain": "<Figure size 1000x500 with 1 Axes>",
      "image/png": "[encoded data removed]"
     },
     "metadata": {},
     "output_type": "display_data"
    }
   ],
   "source": [
    "plot_loss(nn_history, saving_path='./checkpoints/plots/nn_recs_traint_test_loss.png')"
   ],
   "metadata": {
    "collapsed": false,
    "ExecuteTime": {
     "end_time": "2024-05-03T14:18:37.787964500Z",
     "start_time": "2024-05-03T14:18:37.088789500Z"
    }
   },
   "id": "6d72b4cda7f2121d",
   "execution_count": 81
  }
 ],
 "metadata": {
  "kernelspec": {
   "display_name": "Python 3",
   "language": "python",
   "name": "python3"
  },
  "language_info": {
   "codemirror_mode": {
    "name": "ipython",
    "version": 2
   },
   "file_extension": ".py",
   "mimetype": "text/x-python",
   "name": "python",
   "nbconvert_exporter": "python",
   "pygments_lexer": "ipython2",
   "version": "2.7.6"
  }
 },
 "nbformat": 4,
 "nbformat_minor": 5
}
