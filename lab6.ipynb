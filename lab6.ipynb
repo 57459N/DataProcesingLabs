{
 "cells": [
  {
   "cell_type": "code",
   "execution_count": null,
   "metadata": {
    "_cell_guid": "b1076dfc-b9ad-4769-8c92-a6c4dae69d19",
    "_uuid": "8f2839f25d086af736a60e9eeb907d3b93b6e0e5",
    "execution": {
     "iopub.execute_input": "2020-09-06T07:09:52.312915Z",
     "iopub.status.busy": "2020-09-06T07:09:52.311768Z",
     "iopub.status.idle": "2020-09-06T07:09:52.326676Z",
     "shell.execute_reply": "2020-09-06T07:09:52.326003Z"
    },
    "papermill": {
     "duration": 0.033287,
     "end_time": "2020-09-06T07:09:52.326830",
     "exception": false,
     "start_time": "2020-09-06T07:09:52.293543",
     "status": "completed"
    },
    "tags": []
   },
   "outputs": [],
   "source": [
    "import numpy as np\n",
    "import pandas as pd\n",
    "import matplotlib.pyplot as plt\n",
    "\n",
    "from sklearn.decomposition import PCA\n",
    "from sklearn.ensemble import IsolationForest\n",
    "from sklearn.preprocessing import StandardScaler\n",
    "\n",
    "from pyod.models.auto_encoder import AutoEncoder\n",
    "\n",
    "import warnings\n",
    "\n",
    "warnings.filterwarnings(\"ignore\")"
   ]
  },
  {
   "cell_type": "code",
   "execution_count": null,
   "metadata": {
    "execution": {
     "iopub.execute_input": "2020-09-06T07:09:53.775325Z",
     "iopub.status.busy": "2020-09-06T07:09:53.774466Z",
     "iopub.status.idle": "2020-09-06T07:09:54.700786Z",
     "shell.execute_reply": "2020-09-06T07:09:54.700121Z"
    },
    "papermill": {
     "duration": 0.944795,
     "end_time": "2020-09-06T07:09:54.700929",
     "exception": false,
     "start_time": "2020-09-06T07:09:53.756134",
     "status": "completed"
    },
    "tags": []
   },
   "outputs": [],
   "source": [
    "df = pd.read_csv(\"./data/healthcare_providers.csv\")"
   ]
  },
  {
   "cell_type": "code",
   "outputs": [],
   "source": [
    "df"
   ],
   "metadata": {
    "collapsed": false
   },
   "execution_count": null
  },
  {
   "cell_type": "code",
   "execution_count": null,
   "metadata": {
    "execution": {
     "iopub.execute_input": "2020-09-06T07:09:54.729530Z",
     "iopub.status.busy": "2020-09-06T07:09:54.728499Z",
     "iopub.status.idle": "2020-09-06T07:09:54.733780Z",
     "shell.execute_reply": "2020-09-06T07:09:54.733164Z"
    },
    "papermill": {
     "duration": 0.021885,
     "end_time": "2020-09-06T07:09:54.733910",
     "exception": false,
     "start_time": "2020-09-06T07:09:54.712025",
     "status": "completed"
    },
    "tags": []
   },
   "outputs": [],
   "source": [
    "df.columns"
   ]
  },
  {
   "cell_type": "code",
   "execution_count": null,
   "metadata": {
    "execution": {
     "iopub.execute_input": "2020-09-06T07:09:54.820016Z",
     "iopub.status.busy": "2020-09-06T07:09:54.819196Z",
     "iopub.status.idle": "2020-09-06T07:09:54.822433Z",
     "shell.execute_reply": "2020-09-06T07:09:54.823090Z"
    },
    "papermill": {
     "duration": 0.046907,
     "end_time": "2020-09-06T07:09:54.823275",
     "exception": false,
     "start_time": "2020-09-06T07:09:54.776368",
     "status": "completed"
    },
    "tags": []
   },
   "outputs": [],
   "source": [
    "df = df.drop(['index', 'National Provider Identifier',\n",
    "              'Last Name/Organization Name of the Provider',\n",
    "              'First Name of the Provider', 'Middle Initial of the Provider', 'Street Address 1 of the Provider',\n",
    "              'Street Address 2 of the Provider', 'Zip Code of the Provider', \"HCPCS Code\",\n",
    "              'Credentials of the Provider', 'Medicare Participation Indicator', 'State Code of the Provider',\n",
    "              'Country Code of the Provider', 'City of the Provider', 'HCPCS Description'], axis=1)\n"
   ]
  },
  {
   "cell_type": "code",
   "execution_count": null,
   "metadata": {
    "execution": {
     "iopub.execute_input": "2020-09-06T07:09:55.046025Z",
     "iopub.status.busy": "2020-09-06T07:09:55.045171Z",
     "iopub.status.idle": "2020-09-06T07:09:55.063172Z",
     "shell.execute_reply": "2020-09-06T07:09:55.063734Z"
    },
    "papermill": {
     "duration": 0.229117,
     "end_time": "2020-09-06T07:09:55.063904",
     "exception": false,
     "start_time": "2020-09-06T07:09:54.834787",
     "status": "completed"
    },
    "tags": []
   },
   "outputs": [],
   "source": [
    "df.info()"
   ]
  },
  {
   "cell_type": "code",
   "execution_count": null,
   "metadata": {
    "execution": {
     "iopub.execute_input": "2020-09-06T07:09:55.348969Z",
     "iopub.status.busy": "2020-09-06T07:09:55.347959Z",
     "iopub.status.idle": "2020-09-06T07:09:55.354247Z",
     "shell.execute_reply": "2020-09-06T07:09:55.353491Z"
    },
    "papermill": {
     "duration": 0.046015,
     "end_time": "2020-09-06T07:09:55.354373",
     "exception": false,
     "start_time": "2020-09-06T07:09:55.308358",
     "status": "completed"
    },
    "tags": []
   },
   "outputs": [],
   "source": [
    "df['Gender of the Provider'] = df['Gender of the Provider'].apply(lambda x: x if x is not np.nan else 'O')"
   ]
  },
  {
   "cell_type": "code",
   "execution_count": null,
   "metadata": {
    "execution": {
     "iopub.execute_input": "2020-09-06T07:09:55.411529Z",
     "iopub.status.busy": "2020-09-06T07:09:55.408735Z",
     "iopub.status.idle": "2020-09-06T07:09:55.416507Z",
     "shell.execute_reply": "2020-09-06T07:09:55.415769Z"
    },
    "papermill": {
     "duration": 0.049595,
     "end_time": "2020-09-06T07:09:55.416722",
     "exception": false,
     "start_time": "2020-09-06T07:09:55.367127",
     "status": "completed"
    },
    "tags": []
   },
   "outputs": [],
   "source": [
    "df.drop('Entity Type of the Provider', axis=1, inplace=True)"
   ]
  },
  {
   "cell_type": "code",
   "execution_count": null,
   "metadata": {
    "execution": {
     "iopub.execute_input": "2020-09-06T07:09:55.447851Z",
     "iopub.status.busy": "2020-09-06T07:09:55.446920Z",
     "iopub.status.idle": "2020-09-06T07:09:55.451540Z",
     "shell.execute_reply": "2020-09-06T07:09:55.450795Z"
    },
    "papermill": {
     "duration": 0.022462,
     "end_time": "2020-09-06T07:09:55.451702",
     "exception": false,
     "start_time": "2020-09-06T07:09:55.429240",
     "status": "completed"
    },
    "tags": []
   },
   "outputs": [],
   "source": [
    "df[\"Average Submitted Charge Amount\"].dtype"
   ]
  },
  {
   "cell_type": "code",
   "execution_count": null,
   "metadata": {
    "execution": {
     "iopub.execute_input": "2020-09-06T07:09:55.482679Z",
     "iopub.status.busy": "2020-09-06T07:09:55.481802Z",
     "iopub.status.idle": "2020-09-06T07:09:55.486080Z",
     "shell.execute_reply": "2020-09-06T07:09:55.486660Z"
    },
    "papermill": {
     "duration": 0.022727,
     "end_time": "2020-09-06T07:09:55.486858",
     "exception": false,
     "start_time": "2020-09-06T07:09:55.464131",
     "status": "completed"
    },
    "tags": []
   },
   "outputs": [],
   "source": [
    "df[\"Average Submitted Charge Amount\"].dtype"
   ]
  },
  {
   "cell_type": "code",
   "execution_count": null,
   "metadata": {
    "execution": {
     "iopub.execute_input": "2020-09-06T07:09:55.524085Z",
     "iopub.status.busy": "2020-09-06T07:09:55.522965Z",
     "iopub.status.idle": "2020-09-06T07:09:56.156471Z",
     "shell.execute_reply": "2020-09-06T07:09:56.155692Z"
    },
    "papermill": {
     "duration": 0.656839,
     "end_time": "2020-09-06T07:09:56.156631",
     "exception": false,
     "start_time": "2020-09-06T07:09:55.499792",
     "status": "completed"
    },
    "tags": []
   },
   "outputs": [],
   "source": [
    "def del_commas(x):\n",
    "    return x.replace(\",\", \"\")\n",
    "\n",
    "df[\"Average Medicare Allowed Amount\"] = pd.to_numeric(df[\"Average Medicare Allowed Amount\"].apply(del_commas))\n",
    "df[\"Average Submitted Charge Amount\"] = pd.to_numeric(df[\"Average Submitted Charge Amount\"].apply(del_commas))\n",
    "df[\"Average Medicare Payment Amount\"] = pd.to_numeric(df[\"Average Medicare Payment Amount\"].apply(del_commas))\n",
    "df[\"Average Medicare Standardized Amount\"] = pd.to_numeric(df[\"Average Medicare Standardized Amount\"].apply(del_commas))"
   ]
  },
  {
   "cell_type": "code",
   "outputs": [],
   "source": [
    "df.info()"
   ],
   "metadata": {
    "collapsed": false
   },
   "execution_count": null
  },
  {
   "cell_type": "code",
   "outputs": [],
   "source": [
    "import category_encoders as ce\n",
    "\n",
    "col = 'Gender of the Provider'\n",
    "encoder = ce.BinaryEncoder(cols=[col])\n",
    "dfbin = encoder.fit_transform(df[col])\n",
    "dfbin"
   ],
   "metadata": {
    "collapsed": false
   },
   "execution_count": null
  },
  {
   "cell_type": "code",
   "outputs": [],
   "source": [
    "df.drop('Provider Type', axis=1, inplace=True)"
   ],
   "metadata": {
    "collapsed": false
   },
   "execution_count": null
  },
  {
   "cell_type": "code",
   "outputs": [],
   "source": [
    "dum_df = pd.get_dummies(df, columns=['Gender of the Provider', 'HCPCS Drug Indicator', 'Place of Service'])"
   ],
   "metadata": {
    "collapsed": false
   },
   "execution_count": null
  },
  {
   "cell_type": "code",
   "outputs": [],
   "source": [
    "dum_df.info()"
   ],
   "metadata": {
    "collapsed": false
   },
   "execution_count": null
  },
  {
   "cell_type": "code",
   "outputs": [],
   "source": [
    "dum_df['Number of Services'] = dum_df['Number of Services'].apply(del_commas).apply(float)\n",
    "dum_df['Number of Medicare Beneficiaries'] = dum_df['Number of Medicare Beneficiaries'].apply(del_commas).apply(float)\n",
    "dum_df['Number of Distinct Medicare Beneficiary/Per Day Services'] = dum_df['Number of Distinct Medicare Beneficiary/Per Day Services'].apply(del_commas).apply(float)"
   ],
   "metadata": {
    "collapsed": false
   },
   "execution_count": null
  },
  {
   "cell_type": "code",
   "outputs": [],
   "source": [
    "dum_df"
   ],
   "metadata": {
    "collapsed": false
   },
   "execution_count": null
  },
  {
   "cell_type": "code",
   "execution_count": null,
   "metadata": {
    "execution": {
     "iopub.execute_input": "2020-09-06T07:09:56.196544Z",
     "iopub.status.busy": "2020-09-06T07:09:56.195651Z",
     "iopub.status.idle": "2020-09-06T07:09:59.157772Z",
     "shell.execute_reply": "2020-09-06T07:09:59.157141Z"
    },
    "papermill": {
     "duration": 2.988521,
     "end_time": "2020-09-06T07:09:59.157909",
     "exception": false,
     "start_time": "2020-09-06T07:09:56.169388",
     "status": "completed"
    },
    "tags": []
   },
   "outputs": [],
   "source": [
    "columns = dum_df.columns\n",
    "scaled = StandardScaler().fit_transform(dum_df)\n",
    "scaled_df = pd.DataFrame(scaled, columns=columns)\n",
    "scaled_df"
   ]
  },
  {
   "cell_type": "code",
   "execution_count": null,
   "metadata": {
    "execution": {
     "iopub.execute_input": "2020-09-06T07:09:59.337347Z",
     "iopub.status.busy": "2020-09-06T07:09:59.336508Z",
     "iopub.status.idle": "2020-09-06T07:10:17.913508Z",
     "shell.execute_reply": "2020-09-06T07:10:17.912758Z"
    },
    "papermill": {
     "duration": 18.601296,
     "end_time": "2020-09-06T07:10:17.913652",
     "exception": false,
     "start_time": "2020-09-06T07:09:59.312356",
     "status": "completed"
    },
    "tags": []
   },
   "outputs": [],
   "source": [
    "isolation_forest = IsolationForest(n_estimators=300, n_jobs=-1, verbose=1, random_state=0)\n",
    "Y = isolation_forest.fit_predict(scaled_df)"
   ]
  },
  {
   "cell_type": "code",
   "outputs": [
    {
     "data": {
      "text/plain": "array([ 1, -1,  1, ...,  1,  1,  1])"
     },
     "execution_count": 99,
     "metadata": {},
     "output_type": "execute_result"
    }
   ],
   "source": [
    "Y"
   ],
   "metadata": {
    "collapsed": false,
    "ExecuteTime": {
     "end_time": "2024-05-27T19:03:19.318273200Z",
     "start_time": "2024-05-27T19:03:19.267179400Z"
    }
   },
   "execution_count": 99
  },
  {
   "cell_type": "code",
   "execution_count": 100,
   "metadata": {
    "execution": {
     "iopub.execute_input": "2020-09-06T07:10:47.696353Z",
     "iopub.status.busy": "2020-09-06T07:10:47.695507Z",
     "iopub.status.idle": "2020-09-06T07:10:47.700761Z",
     "shell.execute_reply": "2020-09-06T07:10:47.700111Z"
    },
    "papermill": {
     "duration": 0.024917,
     "end_time": "2020-09-06T07:10:47.700899",
     "exception": false,
     "start_time": "2020-09-06T07:10:47.675982",
     "status": "completed"
    },
    "tags": [],
    "ExecuteTime": {
     "end_time": "2024-05-27T19:04:16.906991600Z",
     "start_time": "2024-05-27T19:04:16.855447900Z"
    }
   },
   "outputs": [],
   "source": [
    "Y[Y == 1] = 0\n",
    "Y[Y == -1] = 1"
   ]
  },
  {
   "cell_type": "code",
   "outputs": [
    {
     "data": {
      "text/plain": "            pc1       pc2\n0      0.843220 -0.485128\n1      0.003633  0.498566\n2     -0.314142 -0.066329\n3     -0.839323 -0.152415\n4     -0.701600 -0.122127\n...         ...       ...\n99995 -0.526737  0.272392\n99996 -0.746976  0.335045\n99997 -0.091614 -1.025735\n99998 -0.862585  0.213521\n99999 -0.871781  0.527406\n\n[100000 rows x 2 columns]",
      "text/html": "<div>\n<style scoped>\n    .dataframe tbody tr th:only-of-type {\n        vertical-align: middle;\n    }\n\n    .dataframe tbody tr th {\n        vertical-align: top;\n    }\n\n    .dataframe thead th {\n        text-align: right;\n    }\n</style>\n<table border=\"1\" class=\"dataframe\">\n  <thead>\n    <tr style=\"text-align: right;\">\n      <th></th>\n      <th>pc1</th>\n      <th>pc2</th>\n    </tr>\n  </thead>\n  <tbody>\n    <tr>\n      <th>0</th>\n      <td>0.843220</td>\n      <td>-0.485128</td>\n    </tr>\n    <tr>\n      <th>1</th>\n      <td>0.003633</td>\n      <td>0.498566</td>\n    </tr>\n    <tr>\n      <th>2</th>\n      <td>-0.314142</td>\n      <td>-0.066329</td>\n    </tr>\n    <tr>\n      <th>3</th>\n      <td>-0.839323</td>\n      <td>-0.152415</td>\n    </tr>\n    <tr>\n      <th>4</th>\n      <td>-0.701600</td>\n      <td>-0.122127</td>\n    </tr>\n    <tr>\n      <th>...</th>\n      <td>...</td>\n      <td>...</td>\n    </tr>\n    <tr>\n      <th>99995</th>\n      <td>-0.526737</td>\n      <td>0.272392</td>\n    </tr>\n    <tr>\n      <th>99996</th>\n      <td>-0.746976</td>\n      <td>0.335045</td>\n    </tr>\n    <tr>\n      <th>99997</th>\n      <td>-0.091614</td>\n      <td>-1.025735</td>\n    </tr>\n    <tr>\n      <th>99998</th>\n      <td>-0.862585</td>\n      <td>0.213521</td>\n    </tr>\n    <tr>\n      <th>99999</th>\n      <td>-0.871781</td>\n      <td>0.527406</td>\n    </tr>\n  </tbody>\n</table>\n<p>100000 rows × 2 columns</p>\n</div>"
     },
     "execution_count": 122,
     "metadata": {},
     "output_type": "execute_result"
    }
   ],
   "source": [
    "x_pca"
   ],
   "metadata": {
    "collapsed": false,
    "ExecuteTime": {
     "end_time": "2024-05-27T19:22:41.139224200Z",
     "start_time": "2024-05-27T19:22:40.995143100Z"
    }
   },
   "execution_count": 122
  },
  {
   "cell_type": "code",
   "execution_count": 121,
   "metadata": {
    "execution": {
     "iopub.execute_input": "2020-09-06T07:10:47.742223Z",
     "iopub.status.busy": "2020-09-06T07:10:47.741390Z",
     "iopub.status.idle": "2020-09-06T07:10:50.483511Z",
     "shell.execute_reply": "2020-09-06T07:10:50.484146Z"
    },
    "papermill": {
     "duration": 2.768647,
     "end_time": "2020-09-06T07:10:50.484316",
     "exception": false,
     "start_time": "2020-09-06T07:10:47.715669",
     "status": "completed"
    },
    "tags": [],
    "ExecuteTime": {
     "end_time": "2024-05-27T19:22:40.993638700Z",
     "start_time": "2024-05-27T19:22:37.653917900Z"
    }
   },
   "outputs": [
    {
     "data": {
      "text/plain": "<Figure size 1200x800 with 1 Axes>",
      "image/png": "[encoded data removed]"
     },
     "metadata": {},
     "output_type": "display_data"
    }
   ],
   "source": [
    "pca = PCA(2)\n",
    "x_pca = pca.fit_transform(scaled_df)\n",
    "x_pca = pd.DataFrame(x_pca)\n",
    "x_pca.columns = ['pc1', 'pc2']\n",
    "\n",
    "plt.figure(figsize=(12, 8))\n",
    "plt.title('Sample Distribution on First 2 PCAs by Class Color')\n",
    "plt.scatter(x_pca['pc1'], x_pca['pc2'], alpha=.9, c=Y)\n",
    "plt.show()"
   ]
  }
 ],
 "metadata": {
  "kernelspec": {
   "display_name": "Python 3",
   "language": "python",
   "name": "python3"
  },
  "language_info": {
   "codemirror_mode": {
    "name": "ipython",
    "version": 3
   },
   "file_extension": ".py",
   "mimetype": "text/x-python",
   "name": "python",
   "nbconvert_exporter": "python",
   "pygments_lexer": "ipython3",
   "version": "3.7.6"
  },
  "papermill": {
   "duration": 320.091536,
   "end_time": "2020-09-06T07:15:07.470403",
   "environment_variables": {},
   "exception": null,
   "input_path": "__notebook__.ipynb",
   "output_path": "__notebook__.ipynb",
   "parameters": {},
   "start_time": "2020-09-06T07:09:47.378867",
   "version": "2.1.0"
  }
 },
 "nbformat": 4,
 "nbformat_minor": 4
}
