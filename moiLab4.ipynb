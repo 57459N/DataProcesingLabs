{
 "cells": [
  {
   "cell_type": "code",
   "execution_count": 114,
   "id": "initial_id",
   "metadata": {
    "collapsed": true,
    "ExecuteTime": {
     "end_time": "2024-04-14T19:16:41.486863500Z",
     "start_time": "2024-04-14T19:16:41.468323900Z"
    }
   },
   "outputs": [],
   "source": [
    "import numpy as np\n",
    "import skfuzzy as fuzz\n",
    "from matplotlib import pyplot as plt\n",
    "import seaborn as sns\n",
    "from skfuzzy import control"
   ]
  },
  {
   "cell_type": "code",
   "outputs": [],
   "source": [
    "open_time = control.Antecedent(np.arange(10, 51, 1), 'open time')\n",
    "NS_cars = control.Antecedent(np.arange(0, 91, 1), 'NS cars')\n",
    "WE_cars = control.Antecedent(np.arange(0, 91, 1), 'WE cars')\n",
    "change_time = control.Consequent(np.arange(-20, 21, 1), 'change time')"
   ],
   "metadata": {
    "collapsed": false,
    "ExecuteTime": {
     "end_time": "2024-04-14T18:08:15.029779800Z",
     "start_time": "2024-04-14T18:08:15.000255100Z"
    }
   },
   "id": "617db13362840c6",
   "execution_count": 31
  },
  {
   "cell_type": "code",
   "outputs": [],
   "source": [
    "open_time['s'] = fuzz.trapmf(open_time.universe, [10, 10, 20, 25])\n",
    "open_time['m'] = fuzz.trapmf(open_time.universe, [20, 25, 35, 40])\n",
    "open_time['l'] = fuzz.trapmf(open_time.universe, [35, 40, 50, 50])\n",
    "\n",
    "NS_cars['xs'] = fuzz.trapmf(NS_cars.universe, [0, 0, 12, 18])\n",
    "NS_cars['s'] = fuzz.trapmf(NS_cars.universe, [15, 21, 31, 37])\n",
    "NS_cars['m'] = fuzz.trapmf(NS_cars.universe, [34, 40, 50, 56])\n",
    "NS_cars['l'] = fuzz.trapmf(NS_cars.universe, [53, 59, 69, 75])\n",
    "NS_cars['xl'] = fuzz.trapmf(NS_cars.universe, [72, 78, 90, 90])\n",
    "\n",
    "WE_cars['xs'] = fuzz.trapmf(WE_cars.universe, [0, 0, 12, 18])\n",
    "WE_cars['s'] = fuzz.trapmf(WE_cars.universe, [15, 21, 31, 37])\n",
    "WE_cars['m'] = fuzz.trapmf(WE_cars.universe, [34, 40, 50, 56])\n",
    "WE_cars['l'] = fuzz.trapmf(WE_cars.universe, [53, 59, 69, 75])\n",
    "WE_cars['xl'] = fuzz.trapmf(WE_cars.universe, [72, 78, 90, 90])\n",
    "\n",
    "change_time['s'] = fuzz.gaussmf(change_time.universe, 20, 7)\n",
    "change_time['m'] = fuzz.gaussmf(change_time.universe, 0, 7)\n",
    "change_time['l'] = fuzz.gaussmf(change_time.universe, -20, 7)"
   ],
   "metadata": {
    "collapsed": false,
    "ExecuteTime": {
     "end_time": "2024-04-14T18:08:15.780260200Z",
     "start_time": "2024-04-14T18:08:15.754249800Z"
    }
   },
   "id": "c8127f76e19230d9",
   "execution_count": 32
  },
  {
   "cell_type": "code",
   "outputs": [
    {
     "name": "stdout",
     "output_type": "stream",
     "text": [
      "control.Rule(open_time['s'] & NS_cars['xs'] & WE_cars['xs'], change_time['s']),\n",
      "control.Rule(open_time['s'] & NS_cars['xs'] & WE_cars['s'], change_time['s']),\n",
      "control.Rule(open_time['s'] & NS_cars['xs'] & WE_cars['m'], change_time['s']),\n",
      "control.Rule(open_time['s'] & NS_cars['xs'] & WE_cars['l'], change_time['m']),\n",
      "control.Rule(open_time['s'] & NS_cars['xs'] & WE_cars['xl'], change_time['m']),\n",
      "control.Rule(open_time['s'] & NS_cars['s'] & WE_cars['xs'], change_time['s']),\n",
      "control.Rule(open_time['s'] & NS_cars['s'] & WE_cars['s'], change_time['s']),\n",
      "control.Rule(open_time['s'] & NS_cars['s'] & WE_cars['m'], change_time['s']),\n",
      "control.Rule(open_time['s'] & NS_cars['s'] & WE_cars['l'], change_time['m']),\n",
      "control.Rule(open_time['s'] & NS_cars['s'] & WE_cars['xl'], change_time['m']),\n",
      "control.Rule(open_time['s'] & NS_cars['m'] & WE_cars['xs'], change_time['s']),\n",
      "control.Rule(open_time['s'] & NS_cars['m'] & WE_cars['s'], change_time['s']),\n",
      "control.Rule(open_time['s'] & NS_cars['m'] & WE_cars['m'], change_time['s']),\n",
      "control.Rule(open_time['s'] & NS_cars['m'] & WE_cars['l'], change_time['s']),\n",
      "control.Rule(open_time['s'] & NS_cars['m'] & WE_cars['xl'], change_time['m']),\n",
      "control.Rule(open_time['s'] & NS_cars['l'] & WE_cars['xs'], change_time['s']),\n",
      "control.Rule(open_time['s'] & NS_cars['l'] & WE_cars['s'], change_time['s']),\n",
      "control.Rule(open_time['s'] & NS_cars['l'] & WE_cars['m'], change_time['s']),\n",
      "control.Rule(open_time['s'] & NS_cars['l'] & WE_cars['l'], change_time['s']),\n",
      "control.Rule(open_time['s'] & NS_cars['l'] & WE_cars['xl'], change_time['s']),\n",
      "control.Rule(open_time['s'] & NS_cars['xl'] & WE_cars['xs'], change_time['s']),\n",
      "control.Rule(open_time['s'] & NS_cars['xl'] & WE_cars['s'], change_time['s']),\n",
      "control.Rule(open_time['s'] & NS_cars['xl'] & WE_cars['m'], change_time['s']),\n",
      "control.Rule(open_time['s'] & NS_cars['xl'] & WE_cars['l'], change_time['s']),\n",
      "control.Rule(open_time['s'] & NS_cars['xl'] & WE_cars['xl'], change_time['s']),\n",
      "control.Rule(open_time['m'] & NS_cars['xs'] & WE_cars['xs'], change_time['m']),\n",
      "control.Rule(open_time['m'] & NS_cars['xs'] & WE_cars['s'], change_time['m']),\n",
      "control.Rule(open_time['m'] & NS_cars['xs'] & WE_cars['m'], change_time['l']),\n",
      "control.Rule(open_time['m'] & NS_cars['xs'] & WE_cars['l'], change_time['l']),\n",
      "control.Rule(open_time['m'] & NS_cars['xs'] & WE_cars['xl'], change_time['l']),\n",
      "control.Rule(open_time['m'] & NS_cars['s'] & WE_cars['xs'], change_time['s']),\n",
      "control.Rule(open_time['m'] & NS_cars['s'] & WE_cars['s'], change_time['m']),\n",
      "control.Rule(open_time['m'] & NS_cars['s'] & WE_cars['m'], change_time['l']),\n",
      "control.Rule(open_time['m'] & NS_cars['s'] & WE_cars['l'], change_time['l']),\n",
      "control.Rule(open_time['m'] & NS_cars['s'] & WE_cars['xl'], change_time['l']),\n",
      "control.Rule(open_time['m'] & NS_cars['m'] & WE_cars['xs'], change_time['s']),\n",
      "control.Rule(open_time['m'] & NS_cars['m'] & WE_cars['s'], change_time['s']),\n",
      "control.Rule(open_time['m'] & NS_cars['m'] & WE_cars['m'], change_time['m']),\n",
      "control.Rule(open_time['m'] & NS_cars['m'] & WE_cars['l'], change_time['l']),\n",
      "control.Rule(open_time['m'] & NS_cars['m'] & WE_cars['xl'], change_time['l']),\n",
      "control.Rule(open_time['m'] & NS_cars['l'] & WE_cars['xs'], change_time['s']),\n",
      "control.Rule(open_time['m'] & NS_cars['l'] & WE_cars['s'], change_time['s']),\n",
      "control.Rule(open_time['m'] & NS_cars['l'] & WE_cars['m'], change_time['s']),\n",
      "control.Rule(open_time['m'] & NS_cars['l'] & WE_cars['l'], change_time['m']),\n",
      "control.Rule(open_time['m'] & NS_cars['l'] & WE_cars['xl'], change_time['l']),\n",
      "control.Rule(open_time['m'] & NS_cars['xl'] & WE_cars['xs'], change_time['s']),\n",
      "control.Rule(open_time['m'] & NS_cars['xl'] & WE_cars['s'], change_time['s']),\n",
      "control.Rule(open_time['m'] & NS_cars['xl'] & WE_cars['m'], change_time['s']),\n",
      "control.Rule(open_time['m'] & NS_cars['xl'] & WE_cars['l'], change_time['s']),\n",
      "control.Rule(open_time['m'] & NS_cars['xl'] & WE_cars['xl'], change_time['m']),\n",
      "control.Rule(open_time['l'] & NS_cars['xs'] & WE_cars['xs'], change_time['l']),\n",
      "control.Rule(open_time['l'] & NS_cars['xs'] & WE_cars['s'], change_time['l']),\n",
      "control.Rule(open_time['l'] & NS_cars['xs'] & WE_cars['m'], change_time['l']),\n",
      "control.Rule(open_time['l'] & NS_cars['xs'] & WE_cars['l'], change_time['l']),\n",
      "control.Rule(open_time['l'] & NS_cars['xs'] & WE_cars['xl'], change_time['l']),\n",
      "control.Rule(open_time['l'] & NS_cars['s'] & WE_cars['xs'], change_time['l']),\n",
      "control.Rule(open_time['l'] & NS_cars['s'] & WE_cars['s'], change_time['l']),\n",
      "control.Rule(open_time['l'] & NS_cars['s'] & WE_cars['m'], change_time['l']),\n",
      "control.Rule(open_time['l'] & NS_cars['s'] & WE_cars['l'], change_time['l']),\n",
      "control.Rule(open_time['l'] & NS_cars['s'] & WE_cars['xl'], change_time['l']),\n",
      "control.Rule(open_time['l'] & NS_cars['m'] & WE_cars['xs'], change_time['m']),\n",
      "control.Rule(open_time['l'] & NS_cars['m'] & WE_cars['s'], change_time['l']),\n",
      "control.Rule(open_time['l'] & NS_cars['m'] & WE_cars['m'], change_time['l']),\n",
      "control.Rule(open_time['l'] & NS_cars['m'] & WE_cars['l'], change_time['l']),\n",
      "control.Rule(open_time['l'] & NS_cars['m'] & WE_cars['xl'], change_time['l']),\n",
      "control.Rule(open_time['l'] & NS_cars['l'] & WE_cars['xs'], change_time['m']),\n",
      "control.Rule(open_time['l'] & NS_cars['l'] & WE_cars['s'], change_time['m']),\n",
      "control.Rule(open_time['l'] & NS_cars['l'] & WE_cars['m'], change_time['m']),\n",
      "control.Rule(open_time['l'] & NS_cars['l'] & WE_cars['l'], change_time['l']),\n",
      "control.Rule(open_time['l'] & NS_cars['l'] & WE_cars['xl'], change_time['l']),\n",
      "control.Rule(open_time['l'] & NS_cars['xl'] & WE_cars['xs'], change_time['m']),\n",
      "control.Rule(open_time['l'] & NS_cars['xl'] & WE_cars['s'], change_time['m']),\n",
      "control.Rule(open_time['l'] & NS_cars['xl'] & WE_cars['m'], change_time['m']),\n",
      "control.Rule(open_time['l'] & NS_cars['xl'] & WE_cars['l'], change_time['l']),\n",
      "control.Rule(open_time['l'] & NS_cars['xl'] & WE_cars['xl'], change_time['l']),\n"
     ]
    }
   ],
   "source": [
    "def parse_matlab_list(fpath):\n",
    "    times = ['s', 'm', 'l']\n",
    "    cars = ['xs', 's', 'm', 'l', 'xl']\n",
    "    with open(fpath, 'r', encoding='utf-8') as f:\n",
    "        lines = f.readlines()\n",
    "        lines = [[int(i) - 1 for i in line.split()[:4]] for line in lines]\n",
    "        for line in lines:\n",
    "            print(\n",
    "                f\"control.Rule(open_time['{times[line[0]]}'] & NS_cars['{cars[line[1]]}'] & WE_cars['{cars[line[2]]}'], change_time['{times[line[3]]}']),\")\n",
    "\n",
    "\n",
    "parse_matlab_list('matlab.txt')"
   ],
   "metadata": {
    "collapsed": false,
    "ExecuteTime": {
     "end_time": "2024-04-14T18:08:17.531393900Z",
     "start_time": "2024-04-14T18:08:17.488154Z"
    }
   },
   "id": "b09626407693074b",
   "execution_count": 33
  },
  {
   "cell_type": "code",
   "outputs": [],
   "source": [
    "cs = control.ControlSystem([\n",
    "    control.Rule(open_time['s'] & NS_cars['xs'] & WE_cars['xs'], change_time['s']),\n",
    "    control.Rule(open_time['s'] & NS_cars['xs'] & WE_cars['s'], change_time['s']),\n",
    "    control.Rule(open_time['s'] & NS_cars['xs'] & WE_cars['m'], change_time['s']),\n",
    "    control.Rule(open_time['s'] & NS_cars['xs'] & WE_cars['l'], change_time['m']),\n",
    "    control.Rule(open_time['s'] & NS_cars['xs'] & WE_cars['xl'], change_time['m']),\n",
    "    control.Rule(open_time['s'] & NS_cars['s'] & WE_cars['xs'], change_time['s']),\n",
    "    control.Rule(open_time['s'] & NS_cars['s'] & WE_cars['s'], change_time['s']),\n",
    "    control.Rule(open_time['s'] & NS_cars['s'] & WE_cars['m'], change_time['s']),\n",
    "    control.Rule(open_time['s'] & NS_cars['s'] & WE_cars['l'], change_time['m']),\n",
    "    control.Rule(open_time['s'] & NS_cars['s'] & WE_cars['xl'], change_time['m']),\n",
    "    control.Rule(open_time['s'] & NS_cars['m'] & WE_cars['xs'], change_time['s']),\n",
    "    control.Rule(open_time['s'] & NS_cars['m'] & WE_cars['s'], change_time['s']),\n",
    "    control.Rule(open_time['s'] & NS_cars['m'] & WE_cars['m'], change_time['s']),\n",
    "    control.Rule(open_time['s'] & NS_cars['m'] & WE_cars['l'], change_time['s']),\n",
    "    control.Rule(open_time['s'] & NS_cars['m'] & WE_cars['xl'], change_time['m']),\n",
    "    control.Rule(open_time['s'] & NS_cars['l'] & WE_cars['xs'], change_time['s']),\n",
    "    control.Rule(open_time['s'] & NS_cars['l'] & WE_cars['s'], change_time['s']),\n",
    "    control.Rule(open_time['s'] & NS_cars['l'] & WE_cars['m'], change_time['s']),\n",
    "    control.Rule(open_time['s'] & NS_cars['l'] & WE_cars['l'], change_time['s']),\n",
    "    control.Rule(open_time['s'] & NS_cars['l'] & WE_cars['xl'], change_time['s']),\n",
    "    control.Rule(open_time['s'] & NS_cars['xl'] & WE_cars['xs'], change_time['s']),\n",
    "    control.Rule(open_time['s'] & NS_cars['xl'] & WE_cars['s'], change_time['s']),\n",
    "    control.Rule(open_time['s'] & NS_cars['xl'] & WE_cars['m'], change_time['s']),\n",
    "    control.Rule(open_time['s'] & NS_cars['xl'] & WE_cars['l'], change_time['s']),\n",
    "    control.Rule(open_time['s'] & NS_cars['xl'] & WE_cars['xl'], change_time['s']),\n",
    "    control.Rule(open_time['m'] & NS_cars['xs'] & WE_cars['xs'], change_time['m']),\n",
    "    control.Rule(open_time['m'] & NS_cars['xs'] & WE_cars['s'], change_time['m']),\n",
    "    control.Rule(open_time['m'] & NS_cars['xs'] & WE_cars['m'], change_time['l']),\n",
    "    control.Rule(open_time['m'] & NS_cars['xs'] & WE_cars['l'], change_time['l']),\n",
    "    control.Rule(open_time['m'] & NS_cars['xs'] & WE_cars['xl'], change_time['l']),\n",
    "    control.Rule(open_time['m'] & NS_cars['s'] & WE_cars['xs'], change_time['s']),\n",
    "    control.Rule(open_time['m'] & NS_cars['s'] & WE_cars['s'], change_time['m']),\n",
    "    control.Rule(open_time['m'] & NS_cars['s'] & WE_cars['m'], change_time['l']),\n",
    "    control.Rule(open_time['m'] & NS_cars['s'] & WE_cars['l'], change_time['l']),\n",
    "    control.Rule(open_time['m'] & NS_cars['s'] & WE_cars['xl'], change_time['l']),\n",
    "    control.Rule(open_time['m'] & NS_cars['m'] & WE_cars['xs'], change_time['s']),\n",
    "    control.Rule(open_time['m'] & NS_cars['m'] & WE_cars['s'], change_time['s']),\n",
    "    control.Rule(open_time['m'] & NS_cars['m'] & WE_cars['m'], change_time['m']),\n",
    "    control.Rule(open_time['m'] & NS_cars['m'] & WE_cars['l'], change_time['l']),\n",
    "    control.Rule(open_time['m'] & NS_cars['m'] & WE_cars['xl'], change_time['l']),\n",
    "    control.Rule(open_time['m'] & NS_cars['l'] & WE_cars['xs'], change_time['s']),\n",
    "    control.Rule(open_time['m'] & NS_cars['l'] & WE_cars['s'], change_time['s']),\n",
    "    control.Rule(open_time['m'] & NS_cars['l'] & WE_cars['m'], change_time['s']),\n",
    "    control.Rule(open_time['m'] & NS_cars['l'] & WE_cars['l'], change_time['m']),\n",
    "    control.Rule(open_time['m'] & NS_cars['l'] & WE_cars['xl'], change_time['l']),\n",
    "    control.Rule(open_time['m'] & NS_cars['xl'] & WE_cars['xs'], change_time['s']),\n",
    "    control.Rule(open_time['m'] & NS_cars['xl'] & WE_cars['s'], change_time['s']),\n",
    "    control.Rule(open_time['m'] & NS_cars['xl'] & WE_cars['m'], change_time['s']),\n",
    "    control.Rule(open_time['m'] & NS_cars['xl'] & WE_cars['l'], change_time['s']),\n",
    "    control.Rule(open_time['m'] & NS_cars['xl'] & WE_cars['xl'], change_time['m']),\n",
    "    control.Rule(open_time['l'] & NS_cars['xs'] & WE_cars['xs'], change_time['l']),\n",
    "    control.Rule(open_time['l'] & NS_cars['xs'] & WE_cars['s'], change_time['l']),\n",
    "    control.Rule(open_time['l'] & NS_cars['xs'] & WE_cars['m'], change_time['l']),\n",
    "    control.Rule(open_time['l'] & NS_cars['xs'] & WE_cars['l'], change_time['l']),\n",
    "    control.Rule(open_time['l'] & NS_cars['xs'] & WE_cars['xl'], change_time['l']),\n",
    "    control.Rule(open_time['l'] & NS_cars['s'] & WE_cars['xs'], change_time['l']),\n",
    "    control.Rule(open_time['l'] & NS_cars['s'] & WE_cars['s'], change_time['l']),\n",
    "    control.Rule(open_time['l'] & NS_cars['s'] & WE_cars['m'], change_time['l']),\n",
    "    control.Rule(open_time['l'] & NS_cars['s'] & WE_cars['l'], change_time['l']),\n",
    "    control.Rule(open_time['l'] & NS_cars['s'] & WE_cars['xl'], change_time['l']),\n",
    "    control.Rule(open_time['l'] & NS_cars['m'] & WE_cars['xs'], change_time['m']),\n",
    "    control.Rule(open_time['l'] & NS_cars['m'] & WE_cars['s'], change_time['l']),\n",
    "    control.Rule(open_time['l'] & NS_cars['m'] & WE_cars['m'], change_time['l']),\n",
    "    control.Rule(open_time['l'] & NS_cars['m'] & WE_cars['l'], change_time['l']),\n",
    "    control.Rule(open_time['l'] & NS_cars['m'] & WE_cars['xl'], change_time['l']),\n",
    "    control.Rule(open_time['l'] & NS_cars['l'] & WE_cars['xs'], change_time['m']),\n",
    "    control.Rule(open_time['l'] & NS_cars['l'] & WE_cars['s'], change_time['m']),\n",
    "    control.Rule(open_time['l'] & NS_cars['l'] & WE_cars['m'], change_time['m']),\n",
    "    control.Rule(open_time['l'] & NS_cars['l'] & WE_cars['l'], change_time['l']),\n",
    "    control.Rule(open_time['l'] & NS_cars['l'] & WE_cars['xl'], change_time['l']),\n",
    "    control.Rule(open_time['l'] & NS_cars['xl'] & WE_cars['xs'], change_time['m']),\n",
    "    control.Rule(open_time['l'] & NS_cars['xl'] & WE_cars['s'], change_time['m']),\n",
    "    control.Rule(open_time['l'] & NS_cars['xl'] & WE_cars['m'], change_time['m']),\n",
    "    control.Rule(open_time['l'] & NS_cars['xl'] & WE_cars['l'], change_time['l']),\n",
    "    control.Rule(open_time['l'] & NS_cars['xl'] & WE_cars['xl'], change_time['l'])\n",
    "])\n",
    "\n",
    "sim = control.ControlSystemSimulation(cs)"
   ],
   "metadata": {
    "collapsed": false,
    "ExecuteTime": {
     "end_time": "2024-04-14T18:10:19.567786900Z",
     "start_time": "2024-04-14T18:10:16.377596600Z"
    }
   },
   "id": "1a4196f7c99634a8",
   "execution_count": 43
  },
  {
   "cell_type": "code",
   "outputs": [
    {
     "data": {
      "text/plain": "14.405319578804047"
     },
     "execution_count": 51,
     "metadata": {},
     "output_type": "execute_result"
    }
   ],
   "source": [
    "sim.input['open time'] = 1\n",
    "sim.input['NS cars'] = 10\n",
    "sim.input['WE cars'] = 1\n",
    "\n",
    "sim.compute()\n",
    "sim.output['change time']\n",
    "\n"
   ],
   "metadata": {
    "collapsed": false,
    "ExecuteTime": {
     "end_time": "2024-04-14T18:11:28.040293100Z",
     "start_time": "2024-04-14T18:11:28.015262300Z"
    }
   },
   "id": "dbb0c0e4c0b0bde1",
   "execution_count": 51
  },
  {
   "cell_type": "code",
   "outputs": [],
   "source": [
    "def recompute(open_time, NS, WE) -> float:\n",
    "    sim.input['open time'] = open_time\n",
    "    sim.input['NS cars'] = NS\n",
    "    sim.input['WE cars'] = WE\n",
    "    sim.compute()\n",
    "    return sim.output['change time']"
   ],
   "metadata": {
    "collapsed": false,
    "ExecuteTime": {
     "end_time": "2024-04-14T19:25:14.217196100Z",
     "start_time": "2024-04-14T19:25:14.186587300Z"
    }
   },
   "id": "a371c5b7c2e3c6d3",
   "execution_count": 131
  },
  {
   "cell_type": "code",
   "outputs": [],
   "source": [
    "def simulate(open_time, NS, WE, count=100, seed=0, fuzzy=False) -> np.ndarray:\n",
    "    np.random.seed(seed)\n",
    "\n",
    "    time_waits = []\n",
    "    for i in range(count):\n",
    "        cars_to_pass = np.sqrt(open_time / np.random.random() * 0.6)\n",
    "        NS = max(0, NS - cars_to_pass)\n",
    "        WE = max(0, WE - cars_to_pass)\n",
    "    \n",
    "        time_waits.append((NS + WE) * open_time)\n",
    "\n",
    "        NS += np.random.randint(5, 30)\n",
    "        WE += np.random.randint(5, 30)\n",
    "    \n",
    "        if fuzzy:\n",
    "            open_time += recompute(open_time, NS, WE)\n",
    "    return np.array(time_waits, dtype=float)"
   ],
   "metadata": {
    "collapsed": false,
    "ExecuteTime": {
     "end_time": "2024-04-14T19:44:09.549454900Z",
     "start_time": "2024-04-14T19:44:09.522936900Z"
    }
   },
   "id": "429c2c85419801e",
   "execution_count": 184
  },
  {
   "cell_type": "code",
   "outputs": [
    {
     "data": {
      "text/plain": "<Figure size 640x480 with 1 Axes>",
      "image/png": "[encoded data removed]"
     },
     "metadata": {},
     "output_type": "display_data"
    }
   ],
   "source": [
    "sim_amount = 1000\n",
    "seed = 0\n",
    "_open = 30\n",
    "_NS = 10\n",
    "_WE = 10\n",
    "\n",
    "time_waits_fuzzy = simulate(_open, _NS, _WE, count=sim_amount, seed=seed, fuzzy=True)\n",
    "time_waits_normal = simulate(_open, _NS, _WE, count=sim_amount, seed=seed, fuzzy=False)\n",
    "\n",
    "plt.plot(time_waits_fuzzy / sim_amount / 60, color='red')\n",
    "plt.plot(time_waits_normal / sim_amount / 60, color='blue')\n",
    "plt.show()"
   ],
   "metadata": {
    "collapsed": false,
    "ExecuteTime": {
     "end_time": "2024-04-14T19:44:12.809677300Z",
     "start_time": "2024-04-14T19:44:11.712079400Z"
    }
   },
   "id": "63cd18740353f822",
   "execution_count": 185
  },
  {
   "cell_type": "code",
   "outputs": [
    {
     "data": {
      "text/plain": "[256.38263080231764,\n 671.5567536093276,\n 2389.1923413626832,\n 4489.629302811189,\n 5758.538335068313,\n 8318.510320010657,\n 9883.918375104484,\n 10251.525040482167,\n 11192.95319414724,\n 11963.058614486472,\n 13694.10651840866,\n 16090.435392945696,\n 17798.22438224475,\n 19548.507745414012,\n 21316.24657795888,\n 22820.876335763256,\n 24112.93469955448,\n 25368.163056344187,\n 27847.318356880984,\n 29503.51395123184,\n 31176.401241593085,\n 32450.350002215622,\n 33005.19117624406,\n 34105.72130466165,\n 35079.50415732971,\n 35885.36756300876,\n 37134.42488685637,\n 37993.261822626795,\n 39181.41623241208,\n 40962.43073866104,\n 41383.75385580317,\n 42427.003764365174,\n 43971.930669004694,\n 45888.243962107095,\n 46887.70302344398,\n 48333.63827845796,\n 48622.45214392995,\n 49687.70216047326,\n 50912.49788944489,\n 51359.05132552974,\n 52253.68692817522,\n 53537.18010153399,\n 54267.36806608,\n 54820.611922710574,\n 55869.42164589987,\n 57788.32860215842,\n 59319.417288789446,\n 61074.31861479663,\n 62470.77567932392,\n 63198.135758635995,\n 64516.53658894258,\n 65058.982452532066,\n 66223.0835783633,\n 67875.52428696214,\n 68539.94691235454,\n 69646.5329638444,\n 71271.06278519072,\n 72622.58366781594,\n 73768.13016950747,\n 75261.25211187368,\n 75604.65191859915,\n 76786.6635633537,\n 77998.93112705165,\n 77356.95270779467,\n 79463.01379145018,\n 81739.19138086894,\n 82953.58024633853,\n 84451.37939406943,\n 85441.8260576113,\n 87278.92127096112,\n 89216.52080085012,\n 91472.74732985756,\n 93260.81700735912,\n 93930.87975471427,\n 94692.44634497723,\n 96220.83218792791,\n 98016.37222953045,\n 99108.75634262516,\n 100873.39522982792,\n 102125.43335506457,\n 103478.71236391072,\n 104211.74989070278,\n 104600.34856564342,\n 105213.57884518942,\n 73159.74362361334,\n 73819.47606287384,\n 74563.35028340586,\n 76461.91400299428,\n 77687.41230542545,\n 78576.79062108691,\n 79566.171226724,\n 80332.29547377798,\n 81499.98177595687,\n 82647.45912618388,\n 83626.99075897019,\n 85748.45744238909,\n 87904.07910493363,\n 88897.53084038511,\n 89685.64299580791,\n 90801.83901686553]"
     },
     "execution_count": 128,
     "metadata": {},
     "output_type": "execute_result"
    }
   ],
   "source": [
    "time_waits"
   ],
   "metadata": {
    "collapsed": false,
    "ExecuteTime": {
     "end_time": "2024-04-14T19:24:41.989111200Z",
     "start_time": "2024-04-14T19:24:41.943564300Z"
    }
   },
   "id": "c4626f7218f90551",
   "execution_count": 128
  }
 ],
 "metadata": {
  "kernelspec": {
   "display_name": "Python 3",
   "language": "python",
   "name": "python3"
  },
  "language_info": {
   "codemirror_mode": {
    "name": "ipython",
    "version": 2
   },
   "file_extension": ".py",
   "mimetype": "text/x-python",
   "name": "python",
   "nbconvert_exporter": "python",
   "pygments_lexer": "ipython2",
   "version": "2.7.6"
  }
 },
 "nbformat": 4,
 "nbformat_minor": 5
}
