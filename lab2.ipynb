{
 "cells": [
  {
   "cell_type": "code",
   "execution_count": 118,
   "id": "initial_id",
   "metadata": {
    "collapsed": true,
    "ExecuteTime": {
     "end_time": "2024-03-14T19:47:23.269689600Z",
     "start_time": "2024-03-14T19:47:23.039172700Z"
    }
   },
   "outputs": [
    {
     "name": "stderr",
     "output_type": "stream",
     "text": [
      "[nltk_data] Downloading package stopwords to\n",
      "[nltk_data]     C:\\Users\\57459N\\AppData\\Roaming\\nltk_data...\n",
      "[nltk_data]   Package stopwords is already up-to-date!\n"
     ]
    },
    {
     "data": {
      "text/plain": "True"
     },
     "execution_count": 118,
     "metadata": {},
     "output_type": "execute_result"
    }
   ],
   "source": [
    "import re\n",
    "import string\n",
    "\n",
    "import nltk\n",
    "import numpy\n",
    "import numpy as np\n",
    "import pandas as pd\n",
    "import seaborn as sns\n",
    "from keras_preprocessing.sequence import pad_sequences\n",
    "from matplotlib import pyplot as plt\n",
    "from sklearn.ensemble import RandomForestClassifier\n",
    "from sklearn.metrics import accuracy_score, precision_score, recall_score, f1_score, roc_auc_score, roc_curve, \\\n",
    "    confusion_matrix, classification_report\n",
    "from sklearn.model_selection import train_test_split\n",
    "from sklearn.feature_extraction.text import TfidfVectorizer\n",
    "from keras_preprocessing.text import Tokenizer\n",
    "from nltk.corpus import stopwords\n",
    "from nltk.stem.porter import PorterStemmer\n",
    "from tqdm import tqdm\n",
    "from itertools import product\n",
    "\n",
    "\n",
    "nltk.download('stopwords')"
   ]
  },
  {
   "cell_type": "code",
   "outputs": [],
   "source": [
    "def plot_confusion_matrix_and_print_metrics(y_pred, y_true):\n",
    "    conf_matrix = confusion_matrix(y_true, y_pred)\n",
    "    ax = sns.heatmap(conf_matrix, annot=True, annot_kws={\"size\": 16}, fmt=\"d\")\n",
    "    ax.set_xlabel(\"Predicted\", fontsize=14, labelpad=20)\n",
    "    ax.xaxis.set_ticklabels(['No Spam', 'Spam'])\n",
    "    ax.set_ylabel(\"Actual\", fontsize=14, labelpad=20)\n",
    "    ax.yaxis.set_ticklabels(['No Spam', 'Spam'])\n",
    "    plt.show()\n",
    "    print(conf_matrix)\n",
    "    print(classification_report(y_true, y_pred))\n",
    "\n",
    "\n",
    "def print_model(_model, _preds, trues):\n",
    "    print(model)\n",
    "    print(f'\\taccuracy: {accuracy_score(_preds, trues)}')\n",
    "    print(f'\\tprecision: {precision_score(trues, _preds)}')\n",
    "    print(f'\\trecall: {recall_score(trues, preds)}')\n",
    "    print(f'\\tf1: {f1_score(_preds, trues)}')\n",
    "    print(f'\\troc_auc: {roc_auc_score(_preds, trues)}')\n",
    "\n",
    "def train_and_eval_model(max_features: int, max_depth: int, verbose=False) -> float:\n",
    "    vectorizer = TfidfVectorizer(stop_words='english', max_features=max_features)\n",
    "    X = vectorizer.fit_transform(corpus).toarray()\n",
    "    y = data['spam']\n",
    "    X_train, X_test, y_train, y_test = train_test_split(X, y, test_size=0.5, random_state=0)\n",
    "    rf_clf = RandomForestClassifier(max_depth=max_depth, n_jobs=-1)\n",
    "    rf_clf.fit(X_train, y_train)\n",
    "\n",
    "    ns_probs = [0 for _ in range(len(y_test))]\n",
    "\n",
    "    preds = rf_clf.predict(X_test)\n",
    "    probs = rf_clf.predict_proba(X_test)[:, 1]\n",
    "    if verbose:\n",
    "        fpr, tpr, _ = roc_curve(y_test, probs)\n",
    "        plt.plot(fpr, tpr)\n",
    "        fpr, tpr, _ = roc_curve(y_test, ns_probs)\n",
    "        plt.plot(fpr, tpr)\n",
    "\n",
    "        plt.figure()\n",
    "        plot_confusion_matrix_and_print_metrics(preds, y_test)\n",
    "        print_model(rf_clf, preds, y_test)\n",
    "\n",
    "    return roc_auc_score(y_test, preds)"
   ],
   "metadata": {
    "collapsed": false,
    "ExecuteTime": {
     "end_time": "2024-03-14T19:45:49.379591100Z",
     "start_time": "2024-03-14T19:45:49.342978500Z"
    }
   },
   "id": "be4a993739287d31",
   "execution_count": 116
  },
  {
   "cell_type": "code",
   "outputs": [
    {
     "data": {
      "text/plain": "                                                text  spam\n0  Subject: naturally irresistible your corporate...     1\n1  Subject: the stock trading gunslinger  fanny i...     1\n2  Subject: unbelievable new homes made easy  im ...     1\n3  Subject: 4 color printing special  request add...     1\n4  Subject: do not have money , get software cds ...     1\n5  Subject: great nnews  hello , welcome to medzo...     1\n6  Subject: here ' s a hot play in motion  homela...     1\n7  Subject: save your money buy getting this thin...     1\n8  Subject: undeliverable : home based business f...     1\n9  Subject: save your money buy getting this thin...     1",
      "text/html": "<div>\n<style scoped>\n    .dataframe tbody tr th:only-of-type {\n        vertical-align: middle;\n    }\n\n    .dataframe tbody tr th {\n        vertical-align: top;\n    }\n\n    .dataframe thead th {\n        text-align: right;\n    }\n</style>\n<table border=\"1\" class=\"dataframe\">\n  <thead>\n    <tr style=\"text-align: right;\">\n      <th></th>\n      <th>text</th>\n      <th>spam</th>\n    </tr>\n  </thead>\n  <tbody>\n    <tr>\n      <th>0</th>\n      <td>Subject: naturally irresistible your corporate...</td>\n      <td>1</td>\n    </tr>\n    <tr>\n      <th>1</th>\n      <td>Subject: the stock trading gunslinger  fanny i...</td>\n      <td>1</td>\n    </tr>\n    <tr>\n      <th>2</th>\n      <td>Subject: unbelievable new homes made easy  im ...</td>\n      <td>1</td>\n    </tr>\n    <tr>\n      <th>3</th>\n      <td>Subject: 4 color printing special  request add...</td>\n      <td>1</td>\n    </tr>\n    <tr>\n      <th>4</th>\n      <td>Subject: do not have money , get software cds ...</td>\n      <td>1</td>\n    </tr>\n    <tr>\n      <th>5</th>\n      <td>Subject: great nnews  hello , welcome to medzo...</td>\n      <td>1</td>\n    </tr>\n    <tr>\n      <th>6</th>\n      <td>Subject: here ' s a hot play in motion  homela...</td>\n      <td>1</td>\n    </tr>\n    <tr>\n      <th>7</th>\n      <td>Subject: save your money buy getting this thin...</td>\n      <td>1</td>\n    </tr>\n    <tr>\n      <th>8</th>\n      <td>Subject: undeliverable : home based business f...</td>\n      <td>1</td>\n    </tr>\n    <tr>\n      <th>9</th>\n      <td>Subject: save your money buy getting this thin...</td>\n      <td>1</td>\n    </tr>\n  </tbody>\n</table>\n</div>"
     },
     "execution_count": 3,
     "metadata": {},
     "output_type": "execute_result"
    }
   ],
   "source": [
    "data = pd.read_csv('data/dataset_lab2.csv')\n",
    "data.head(10)"
   ],
   "metadata": {
    "collapsed": false,
    "ExecuteTime": {
     "end_time": "2024-03-14T18:21:08.862830300Z",
     "start_time": "2024-03-14T18:21:08.572171200Z"
    }
   },
   "id": "5ae56f952c7ced8c",
   "execution_count": 3
  },
  {
   "cell_type": "code",
   "outputs": [
    {
     "data": {
      "text/plain": "0       [naturally, irresistible, your, corporate, ide...\n1       [the, stock, trading, gunslinger, fanny, is, m...\n2       [unbelievable, new, homes, made, easy, im, wan...\n3       [4, color, printing, special, request, additio...\n4       [do, not, have, money, get, software, cds, fro...\n                              ...                        \n5723    [re, research, and, development, charges, to, ...\n5724    [re, receipts, from, visit, jim, thanks, again...\n5725    [re, enron, case, study, update, wow, all, on,...\n5726    [re, interest, david, please, call, shirley, c...\n5727    [news, aurora, 5, 2, update, aurora, version, ...\nName: text, Length: 5728, dtype: object"
     },
     "execution_count": 4,
     "metadata": {},
     "output_type": "execute_result"
    }
   ],
   "source": [
    "text = data['text']\n",
    "\n",
    "# Only words and digits separated with space, then lower< then split, then remove common word 'subject'   \n",
    "text = text.apply(lambda x:\n",
    "                  re.sub('[^a-zA-Z0-9]+', ' ', x)\n",
    "                  .lower()\n",
    "                  .split()\n",
    "                  [1:])\n",
    "text"
   ],
   "metadata": {
    "collapsed": false,
    "ExecuteTime": {
     "end_time": "2024-03-14T18:21:09.900888600Z",
     "start_time": "2024-03-14T18:21:08.869350100Z"
    }
   },
   "id": "d1f813ec6d7c1da",
   "execution_count": 4
  },
  {
   "cell_type": "code",
   "outputs": [
    {
     "name": "stdout",
     "output_type": "stream",
     "text": [
      "['naturally', 'irresistible', 'corporate', 'identity', 'lt', 'really', 'hard', 'recollect', 'company', 'market', 'full', 'suqgestions', 'information', 'isoverwhelminq', 'good', 'catchy', 'logo', 'stylish', 'statlonery', 'outstanding', 'website', 'make', 'task', 'much', 'easier', 'promise', 'havinq', 'ordered', 'iogo', 'company', 'automaticaily', 'become', 'world', 'ieader', 'isguite', 'ciear', 'without', 'good', 'products', 'effective', 'business', 'organization', 'practicable', 'aim', 'hotat', 'nowadays', 'market', 'promise', 'marketing', 'efforts', 'become', 'much', 'effective', 'list', 'clear', 'benefits', 'creativeness', 'hand', 'made', 'original', 'logos', 'specially', 'done', 'reflect', 'distinctive', 'company', 'image', 'convenience', 'logo', 'stationery', 'provided', 'formats', 'easy', 'use', 'content', 'management', 'system', 'letsyou', 'change', 'website', 'content', 'even', 'structure', 'promptness', 'see', 'logo', 'drafts', 'within', 'three', 'business', 'days', 'affordability', 'marketing', 'break', 'make', 'gaps', 'budget', '100', 'satisfaction', 'guaranteed', 'provide', 'unlimited', 'amount', 'changes', 'extra', 'fees', 'surethat', 'love', 'result', 'collaboration', 'look', 'portfolio', 'interested']\n",
      "['natur', 'irresist', 'corpor', 'ident', 'lt', 'realli', 'hard', 'recollect', 'compani', 'market', 'full', 'suqgest', 'inform', 'isoverwhelminq', 'good', 'catchi', 'logo', 'stylish', 'statloneri', 'outstand', 'websit', 'make', 'task', 'much', 'easier', 'promis', 'havinq', 'order', 'iogo', 'compani', 'automaticaili', 'becom', 'world', 'ieader', 'isguit', 'ciear', 'without', 'good', 'product', 'effect', 'busi', 'organ', 'practic', 'aim', 'hotat', 'nowaday', 'market', 'promis', 'market', 'effort', 'becom', 'much', 'effect', 'list', 'clear', 'benefit', 'creativ', 'hand', 'made', 'origin', 'logo', 'special', 'done', 'reflect', 'distinct', 'compani', 'imag', 'conveni', 'logo', 'stationeri', 'provid', 'format', 'easi', 'use', 'content', 'manag', 'system', 'letsyou', 'chang', 'websit', 'content', 'even', 'structur', 'prompt', 'see', 'logo', 'draft', 'within', 'three', 'busi', 'day', 'afford', 'market', 'break', 'make', 'gap', 'budget', '100', 'satisfact', 'guarante', 'provid', 'unlimit', 'amount', 'chang', 'extra', 'fee', 'surethat', 'love', 'result', 'collabor', 'look', 'portfolio', 'interest']\n"
     ]
    }
   ],
   "source": [
    "ps = PorterStemmer()\n",
    "stops = set(stopwords.words('english'))\n",
    "# remove stops\n",
    "text = text.map(lambda l: list(filter(lambda x: x not in stops, l)))\n",
    "print(text[0])\n",
    "# stem\n",
    "text = text.map(lambda l: list(map(lambda x: ps.stem(x), l)))\n",
    "print(text[0])"
   ],
   "metadata": {
    "collapsed": false,
    "ExecuteTime": {
     "end_time": "2024-03-14T18:21:32.547040400Z",
     "start_time": "2024-03-14T18:21:09.904884900Z"
    }
   },
   "id": "20e138a78b40402e",
   "execution_count": 5
  },
  {
   "cell_type": "code",
   "outputs": [
    {
     "data": {
      "text/plain": "0       natur irresist corpor ident lt realli hard rec...\n1       stock trade gunsling fanni merril muzo colza a...\n2       unbeliev new home made easi im want show homeo...\n3       4 color print special request addit inform cli...\n4       money get softwar cd softwar compat great grow...\n                              ...                        \n5723    research develop charg gpg forward shirley cre...\n5724    receipt visit jim thank invit visit lsu shirle...\n5725    enron case studi updat wow day super thank muc...\n5726    interest david pleas call shirley crenshaw ass...\n5727    news aurora 5 2 updat aurora version 5 2 faste...\nName: text, Length: 5728, dtype: object"
     },
     "execution_count": 6,
     "metadata": {},
     "output_type": "execute_result"
    }
   ],
   "source": [
    "corpus = text.map(lambda x: ' '.join(x))\n",
    "\n",
    "corpus"
   ],
   "metadata": {
    "collapsed": false,
    "ExecuteTime": {
     "end_time": "2024-03-14T18:21:32.587060300Z",
     "start_time": "2024-03-14T18:21:32.543041500Z"
    }
   },
   "id": "633eb4f7b3238bea",
   "execution_count": 6
  },
  {
   "cell_type": "code",
   "outputs": [],
   "source": [
    "feats = range(150, 250, 25)\n",
    "depths = range(9, 15)\n",
    "\n",
    "roc_scores = np.array([[train_and_eval_model(f, d) for f in feats] for d in depths])"
   ],
   "metadata": {
    "collapsed": false,
    "ExecuteTime": {
     "end_time": "2024-03-14T19:54:05.897830500Z",
     "start_time": "2024-03-14T19:53:29.832228600Z"
    }
   },
   "id": "65c78ea8a8551df",
   "execution_count": 121
  },
  {
   "cell_type": "code",
   "outputs": [
    {
     "data": {
      "text/plain": "[]"
     },
     "execution_count": 122,
     "metadata": {},
     "output_type": "execute_result"
    },
    {
     "data": {
      "text/plain": "<Figure size 640x480 with 2 Axes>",
      "image/png": "[encoded data removed]"
     },
     "metadata": {},
     "output_type": "display_data"
    }
   ],
   "source": [
    "sns.heatmap(roc_scores)\n",
    "plt.plot()"
   ],
   "metadata": {
    "collapsed": false,
    "ExecuteTime": {
     "end_time": "2024-03-14T19:54:08.873132500Z",
     "start_time": "2024-03-14T19:54:08.430044900Z"
    }
   },
   "id": "69ac8321558d4c8f",
   "execution_count": 122
  },
  {
   "cell_type": "code",
   "outputs": [
    {
     "name": "stdout",
     "output_type": "stream",
     "text": [
      "score\tfeats depth\n",
      "0.96180, [150  14]\n",
      "0.96076, [225   9]\n",
      "0.95955, [225  13]\n",
      "0.95525, [225  14]\n",
      "0.95525, [200  14]\n"
     ]
    }
   ],
   "source": [
    "top = 5\n",
    "flat = roc_scores.flatten()\n",
    "ind = np.argpartition(flat, -top)[-top:]\n",
    "ind = ind[np.argsort(flat[ind])[::-1]]\n",
    "best_params = np.array(list(product(feats, depths)))[ind]\n",
    "print('score\\tfeats depth')\n",
    "for i, j in zip(best_params, flat[ind]):\n",
    "    print(f'{j:.5f}, {i}')"
   ],
   "metadata": {
    "collapsed": false,
    "ExecuteTime": {
     "end_time": "2024-03-14T19:54:43.142796700Z",
     "start_time": "2024-03-14T19:54:43.117275700Z"
    }
   },
   "id": "94d8a02287de496f",
   "execution_count": 124
  },
  {
   "cell_type": "code",
   "outputs": [],
   "source": [
    "tokenizer = Tokenizer(num_words=1000)\n",
    "tokenizer.fit_on_texts(corpus)\n",
    "sequences = tokenizer.texts_to_sequences(corpus)"
   ],
   "metadata": {
    "collapsed": false,
    "ExecuteTime": {
     "end_time": "2024-03-14T18:21:36.672431800Z",
     "start_time": "2024-03-14T18:21:35.511050800Z"
    }
   },
   "id": "fcec135d5e8384b6",
   "execution_count": 13
  },
  {
   "cell_type": "code",
   "outputs": [],
   "source": [
    "sequences_matrix = pad_sequences(sequences, maxlen=150)"
   ],
   "metadata": {
    "collapsed": false,
    "ExecuteTime": {
     "end_time": "2024-03-14T18:21:36.736555900Z",
     "start_time": "2024-03-14T18:21:36.672431800Z"
    }
   },
   "id": "6f5799e0fdfaa61c",
   "execution_count": 14
  },
  {
   "cell_type": "code",
   "outputs": [
    {
     "data": {
      "text/plain": "array([[  0,   0,   0, ...,  48, 522,  60],\n       [  0,   0,   0, ...,  33, 237, 727],\n       [  0,   0,   0, ..., 235,  48, 360],\n       ...,\n       [245, 379,  68, ..., 421, 239, 421],\n       [  0,   0,   0, ...,  60,   3,   8],\n       [ 19,  42, 662, ...,  59,  19, 231]])"
     },
     "execution_count": 15,
     "metadata": {},
     "output_type": "execute_result"
    }
   ],
   "source": [
    "sequences_matrix"
   ],
   "metadata": {
    "collapsed": false,
    "ExecuteTime": {
     "end_time": "2024-03-14T18:21:36.751351700Z",
     "start_time": "2024-03-14T18:21:36.736555900Z"
    }
   },
   "id": "b0b681e37e854f9c",
   "execution_count": 15
  }
 ],
 "metadata": {
  "kernelspec": {
   "display_name": "Python 3",
   "language": "python",
   "name": "python3"
  },
  "language_info": {
   "codemirror_mode": {
    "name": "ipython",
    "version": 2
   },
   "file_extension": ".py",
   "mimetype": "text/x-python",
   "name": "python",
   "nbconvert_exporter": "python",
   "pygments_lexer": "ipython2",
   "version": "2.7.6"
  }
 },
 "nbformat": 4,
 "nbformat_minor": 5
}
