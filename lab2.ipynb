{
 "cells": [
  {
   "cell_type": "code",
   "execution_count": 23,
   "id": "initial_id",
   "metadata": {
    "collapsed": true,
    "ExecuteTime": {
     "end_time": "2024-03-14T23:22:55.693243900Z",
     "start_time": "2024-03-14T23:22:55.603757700Z"
    }
   },
   "outputs": [
    {
     "name": "stderr",
     "output_type": "stream",
     "text": [
      "[nltk_data] Downloading package stopwords to\n",
      "[nltk_data]     C:\\Users\\57459N\\AppData\\Roaming\\nltk_data...\n",
      "[nltk_data]   Package stopwords is already up-to-date!\n"
     ]
    },
    {
     "data": {
      "text/plain": "True"
     },
     "execution_count": 23,
     "metadata": {},
     "output_type": "execute_result"
    }
   ],
   "source": [
    "import re\n",
    "\n",
    "import nltk\n",
    "import numpy as np\n",
    "import pandas as pd\n",
    "import seaborn as sns\n",
    "from tensorflow.keras import layers, losses, metrics, optimizers\n",
    "import tensorflow as tf\n",
    "from tensorflow.keras import Sequential\n",
    "# noinspection PyInterpreter\n",
    "from tensorflow.keras.metrics import AUC, Precision, Recall, F1Score\n",
    "from keras_preprocessing.sequence import pad_sequences\n",
    "from matplotlib import pyplot as plt\n",
    "from sklearn.ensemble import RandomForestClassifier\n",
    "from sklearn.metrics import accuracy_score, precision_score, recall_score, f1_score, roc_auc_score, roc_curve, \\\n",
    "    confusion_matrix, classification_report\n",
    "from sklearn.model_selection import train_test_split\n",
    "from sklearn.feature_extraction.text import TfidfVectorizer\n",
    "from keras_preprocessing.text import Tokenizer\n",
    "from nltk.corpus import stopwords\n",
    "from nltk.stem.porter import PorterStemmer\n",
    "from itertools import product\n",
    "\n",
    "\n",
    "nltk.download('stopwords')"
   ]
  },
  {
   "cell_type": "code",
   "outputs": [],
   "source": [
    "def plot_confusion_matrix_and_print_metrics(y_pred, y_true):\n",
    "    conf_matrix = confusion_matrix(y_true, y_pred)\n",
    "    ax = sns.heatmap(conf_matrix, annot=True, annot_kws={\"size\": 16}, fmt=\"d\")\n",
    "    ax.set_xlabel(\"Predicted\", fontsize=14, labelpad=20)\n",
    "    ax.xaxis.set_ticklabels(['No Spam', 'Spam'])\n",
    "    ax.set_ylabel(\"Actual\", fontsize=14, labelpad=20)\n",
    "    ax.yaxis.set_ticklabels(['No Spam', 'Spam'])\n",
    "    plt.show()\n",
    "    print(conf_matrix)\n",
    "    print(classification_report(y_true, y_pred))\n",
    "\n",
    "\n",
    "def print_model(_model, preds, trues):\n",
    "    print(_model)\n",
    "    print(f'\\taccuracy: {accuracy_score(preds, trues)}')\n",
    "    print(f'\\tprecision: {precision_score(trues, preds)}')\n",
    "    print(f'\\trecall: {recall_score(trues, preds)}')\n",
    "    print(f'\\tf1: {f1_score(preds, trues)}')\n",
    "    print(f'\\troc_auc: {roc_auc_score(preds, trues)}')\n",
    "\n",
    "def visualize_model(preds, trues, probs=None):\n",
    "    if probs is not None:\n",
    "        ns_probs = [0 for _ in range(len(trues))]\n",
    "        fpr, tpr, _ = roc_curve(trues, probs)\n",
    "        plt.plot(fpr, tpr)\n",
    "        fpr, tpr, _ = roc_curve(trues, ns_probs)\n",
    "        plt.plot(fpr, tpr)\n",
    "\n",
    "    plt.figure()\n",
    "    plot_confusion_matrix_and_print_metrics(preds, trues)\n",
    "    \n",
    "\n",
    "def train_and_eval_model(max_features: int, max_depth: int, verbose=False) -> float:\n",
    "    vectorizer = TfidfVectorizer(stop_words='english', max_features=max_features)\n",
    "    X = vectorizer.fit_transform(corpus).toarray()\n",
    "    y = data['spam']\n",
    "    X_train, X_test, y_train, y_test = train_test_split(X, y, test_size=0.5, random_state=0)\n",
    "    rf_clf = RandomForestClassifier(max_depth=max_depth, n_jobs=-1)\n",
    "    rf_clf.fit(X_train, y_train)\n",
    "\n",
    "    probs = rf_clf.predict_proba(X_test)[:, 1]\n",
    "    preds = rf_clf.predict(X_test)\n",
    "    \n",
    "    if verbose:\n",
    "        visualize_model(preds, y_test, probs)\n",
    "        print_model(rf_clf, preds, y_test)\n",
    "        \n",
    "\n",
    "    return roc_auc_score(y_test, preds)"
   ],
   "metadata": {
    "collapsed": false,
    "ExecuteTime": {
     "end_time": "2024-03-14T23:20:28.018359600Z",
     "start_time": "2024-03-14T23:20:27.942974700Z"
    }
   },
   "id": "be4a993739287d31",
   "execution_count": 3
  },
  {
   "cell_type": "code",
   "outputs": [
    {
     "data": {
      "text/plain": "                                                text  spam\n0  Subject: naturally irresistible your corporate...     1\n1  Subject: the stock trading gunslinger  fanny i...     1\n2  Subject: unbelievable new homes made easy  im ...     1\n3  Subject: 4 color printing special  request add...     1\n4  Subject: do not have money , get software cds ...     1\n5  Subject: great nnews  hello , welcome to medzo...     1\n6  Subject: here ' s a hot play in motion  homela...     1\n7  Subject: save your money buy getting this thin...     1\n8  Subject: undeliverable : home based business f...     1\n9  Subject: save your money buy getting this thin...     1",
      "text/html": "<div>\n<style scoped>\n    .dataframe tbody tr th:only-of-type {\n        vertical-align: middle;\n    }\n\n    .dataframe tbody tr th {\n        vertical-align: top;\n    }\n\n    .dataframe thead th {\n        text-align: right;\n    }\n</style>\n<table border=\"1\" class=\"dataframe\">\n  <thead>\n    <tr style=\"text-align: right;\">\n      <th></th>\n      <th>text</th>\n      <th>spam</th>\n    </tr>\n  </thead>\n  <tbody>\n    <tr>\n      <th>0</th>\n      <td>Subject: naturally irresistible your corporate...</td>\n      <td>1</td>\n    </tr>\n    <tr>\n      <th>1</th>\n      <td>Subject: the stock trading gunslinger  fanny i...</td>\n      <td>1</td>\n    </tr>\n    <tr>\n      <th>2</th>\n      <td>Subject: unbelievable new homes made easy  im ...</td>\n      <td>1</td>\n    </tr>\n    <tr>\n      <th>3</th>\n      <td>Subject: 4 color printing special  request add...</td>\n      <td>1</td>\n    </tr>\n    <tr>\n      <th>4</th>\n      <td>Subject: do not have money , get software cds ...</td>\n      <td>1</td>\n    </tr>\n    <tr>\n      <th>5</th>\n      <td>Subject: great nnews  hello , welcome to medzo...</td>\n      <td>1</td>\n    </tr>\n    <tr>\n      <th>6</th>\n      <td>Subject: here ' s a hot play in motion  homela...</td>\n      <td>1</td>\n    </tr>\n    <tr>\n      <th>7</th>\n      <td>Subject: save your money buy getting this thin...</td>\n      <td>1</td>\n    </tr>\n    <tr>\n      <th>8</th>\n      <td>Subject: undeliverable : home based business f...</td>\n      <td>1</td>\n    </tr>\n    <tr>\n      <th>9</th>\n      <td>Subject: save your money buy getting this thin...</td>\n      <td>1</td>\n    </tr>\n  </tbody>\n</table>\n</div>"
     },
     "execution_count": 4,
     "metadata": {},
     "output_type": "execute_result"
    }
   ],
   "source": [
    "data = pd.read_csv('data/dataset_lab2.csv')\n",
    "data.head(10)"
   ],
   "metadata": {
    "collapsed": false,
    "ExecuteTime": {
     "end_time": "2024-03-14T23:20:28.195804800Z",
     "start_time": "2024-03-14T23:20:27.973982300Z"
    }
   },
   "id": "5ae56f952c7ced8c",
   "execution_count": 4
  },
  {
   "cell_type": "code",
   "outputs": [
    {
     "data": {
      "text/plain": "0       [naturally, irresistible, your, corporate, ide...\n1       [the, stock, trading, gunslinger, fanny, is, m...\n2       [unbelievable, new, homes, made, easy, im, wan...\n3       [4, color, printing, special, request, additio...\n4       [do, not, have, money, get, software, cds, fro...\n                              ...                        \n5723    [re, research, and, development, charges, to, ...\n5724    [re, receipts, from, visit, jim, thanks, again...\n5725    [re, enron, case, study, update, wow, all, on,...\n5726    [re, interest, david, please, call, shirley, c...\n5727    [news, aurora, 5, 2, update, aurora, version, ...\nName: text, Length: 5728, dtype: object"
     },
     "execution_count": 5,
     "metadata": {},
     "output_type": "execute_result"
    }
   ],
   "source": [
    "text = data['text']\n",
    "\n",
    "# Only words and digits separated with space, then lower< then split, then remove common word 'subject'   \n",
    "text = text.apply(lambda x:\n",
    "                  re.sub('[^a-zA-Z0-9]+', ' ', x)\n",
    "                  .lower()\n",
    "                  .split()\n",
    "                  [1:])\n",
    "text"
   ],
   "metadata": {
    "collapsed": false,
    "ExecuteTime": {
     "end_time": "2024-03-14T23:20:28.850995500Z",
     "start_time": "2024-03-14T23:20:28.152278300Z"
    }
   },
   "id": "d1f813ec6d7c1da",
   "execution_count": 5
  },
  {
   "cell_type": "code",
   "outputs": [
    {
     "name": "stdout",
     "output_type": "stream",
     "text": [
      "['naturally', 'irresistible', 'corporate', 'identity', 'lt', 'really', 'hard', 'recollect', 'company', 'market', 'full', 'suqgestions', 'information', 'isoverwhelminq', 'good', 'catchy', 'logo', 'stylish', 'statlonery', 'outstanding', 'website', 'make', 'task', 'much', 'easier', 'promise', 'havinq', 'ordered', 'iogo', 'company', 'automaticaily', 'become', 'world', 'ieader', 'isguite', 'ciear', 'without', 'good', 'products', 'effective', 'business', 'organization', 'practicable', 'aim', 'hotat', 'nowadays', 'market', 'promise', 'marketing', 'efforts', 'become', 'much', 'effective', 'list', 'clear', 'benefits', 'creativeness', 'hand', 'made', 'original', 'logos', 'specially', 'done', 'reflect', 'distinctive', 'company', 'image', 'convenience', 'logo', 'stationery', 'provided', 'formats', 'easy', 'use', 'content', 'management', 'system', 'letsyou', 'change', 'website', 'content', 'even', 'structure', 'promptness', 'see', 'logo', 'drafts', 'within', 'three', 'business', 'days', 'affordability', 'marketing', 'break', 'make', 'gaps', 'budget', '100', 'satisfaction', 'guaranteed', 'provide', 'unlimited', 'amount', 'changes', 'extra', 'fees', 'surethat', 'love', 'result', 'collaboration', 'look', 'portfolio', 'interested']\n",
      "['natur', 'irresist', 'corpor', 'ident', 'lt', 'realli', 'hard', 'recollect', 'compani', 'market', 'full', 'suqgest', 'inform', 'isoverwhelminq', 'good', 'catchi', 'logo', 'stylish', 'statloneri', 'outstand', 'websit', 'make', 'task', 'much', 'easier', 'promis', 'havinq', 'order', 'iogo', 'compani', 'automaticaili', 'becom', 'world', 'ieader', 'isguit', 'ciear', 'without', 'good', 'product', 'effect', 'busi', 'organ', 'practic', 'aim', 'hotat', 'nowaday', 'market', 'promis', 'market', 'effort', 'becom', 'much', 'effect', 'list', 'clear', 'benefit', 'creativ', 'hand', 'made', 'origin', 'logo', 'special', 'done', 'reflect', 'distinct', 'compani', 'imag', 'conveni', 'logo', 'stationeri', 'provid', 'format', 'easi', 'use', 'content', 'manag', 'system', 'letsyou', 'chang', 'websit', 'content', 'even', 'structur', 'prompt', 'see', 'logo', 'draft', 'within', 'three', 'busi', 'day', 'afford', 'market', 'break', 'make', 'gap', 'budget', '100', 'satisfact', 'guarante', 'provid', 'unlimit', 'amount', 'chang', 'extra', 'fee', 'surethat', 'love', 'result', 'collabor', 'look', 'portfolio', 'interest']\n"
     ]
    }
   ],
   "source": [
    "ps = PorterStemmer()\n",
    "stops = set(stopwords.words('english'))\n",
    "# remove stops\n",
    "text = text.map(lambda l: list(filter(lambda x: x not in stops, l)))\n",
    "print(text[0])\n",
    "# stem\n",
    "text = text.map(lambda l: list(map(lambda x: ps.stem(x), l)))\n",
    "print(text[0])"
   ],
   "metadata": {
    "collapsed": false,
    "ExecuteTime": {
     "end_time": "2024-03-14T23:20:52.431384200Z",
     "start_time": "2024-03-14T23:20:28.829482800Z"
    }
   },
   "id": "20e138a78b40402e",
   "execution_count": 6
  },
  {
   "cell_type": "code",
   "outputs": [
    {
     "data": {
      "text/plain": "0       natur irresist corpor ident lt realli hard rec...\n1       stock trade gunsling fanni merril muzo colza a...\n2       unbeliev new home made easi im want show homeo...\n3       4 color print special request addit inform cli...\n4       money get softwar cd softwar compat great grow...\n                              ...                        \n5723    research develop charg gpg forward shirley cre...\n5724    receipt visit jim thank invit visit lsu shirle...\n5725    enron case studi updat wow day super thank muc...\n5726    interest david pleas call shirley crenshaw ass...\n5727    news aurora 5 2 updat aurora version 5 2 faste...\nName: text, Length: 5728, dtype: object"
     },
     "execution_count": 7,
     "metadata": {},
     "output_type": "execute_result"
    }
   ],
   "source": [
    "corpus = text.map(lambda x: ' '.join(x))\n",
    "\n",
    "corpus"
   ],
   "metadata": {
    "collapsed": false,
    "ExecuteTime": {
     "end_time": "2024-03-14T23:20:52.490539600Z",
     "start_time": "2024-03-14T23:20:52.428384200Z"
    }
   },
   "id": "633eb4f7b3238bea",
   "execution_count": 7
  },
  {
   "cell_type": "code",
   "outputs": [
    {
     "data": {
      "text/plain": "<Figure size 640x480 with 1 Axes>",
      "image/png": "[encoded data removed]"
     },
     "metadata": {},
     "output_type": "display_data"
    },
    {
     "data": {
      "text/plain": "<Figure size 640x480 with 2 Axes>",
      "image/png": "[encoded data removed]"
     },
     "metadata": {},
     "output_type": "display_data"
    },
    {
     "name": "stdout",
     "output_type": "stream",
     "text": [
      "[[2089   82]\n",
      " [  36  657]]\n",
      "              precision    recall  f1-score   support\n",
      "\n",
      "           0       0.98      0.96      0.97      2171\n",
      "           1       0.89      0.95      0.92       693\n",
      "\n",
      "    accuracy                           0.96      2864\n",
      "   macro avg       0.94      0.96      0.95      2864\n",
      "weighted avg       0.96      0.96      0.96      2864\n",
      "\n",
      "RandomForestClassifier(max_depth=14, n_jobs=-1)\n",
      "\taccuracy: 0.9587988826815642\n",
      "\tprecision: 0.8890392422192152\n",
      "\trecall: 0.948051948051948\n",
      "\tf1: 0.9175977653631285\n",
      "\troc_auc: 0.9360490328743135\n"
     ]
    }
   ],
   "source": [
    "feats = [150]\n",
    "depths = [14]\n",
    "\n",
    "roc_scores = np.array([[train_and_eval_model(f, d, verbose=True) for f in feats] for d in depths])"
   ],
   "metadata": {
    "collapsed": false,
    "ExecuteTime": {
     "end_time": "2024-03-14T23:20:54.804912200Z",
     "start_time": "2024-03-14T23:20:52.476524700Z"
    }
   },
   "id": "65c78ea8a8551df",
   "execution_count": 8
  },
  {
   "cell_type": "code",
   "outputs": [
    {
     "data": {
      "text/plain": "[]"
     },
     "execution_count": 9,
     "metadata": {},
     "output_type": "execute_result"
    },
    {
     "data": {
      "text/plain": "<Figure size 640x480 with 2 Axes>",
      "image/png": "[encoded data removed]"
     },
     "metadata": {},
     "output_type": "display_data"
    }
   ],
   "source": [
    "sns.heatmap(roc_scores)\n",
    "plt.plot()"
   ],
   "metadata": {
    "collapsed": false,
    "ExecuteTime": {
     "end_time": "2024-03-14T23:20:55.043058600Z",
     "start_time": "2024-03-14T23:20:54.747868Z"
    }
   },
   "id": "69ac8321558d4c8f",
   "execution_count": 9
  },
  {
   "cell_type": "code",
   "outputs": [
    {
     "name": "stdout",
     "output_type": "stream",
     "text": [
      "top 5 is too big. got only 1 scores\n"
     ]
    }
   ],
   "source": [
    "top = 5\n",
    "if len(roc_scores) >= top:\n",
    "    flat = roc_scores.flatten()\n",
    "    ind = np.argpartition(flat, -top)[-top:]\n",
    "    ind = ind[np.argsort(flat[ind])[::-1]]\n",
    "    best_params = np.array(list(product(feats, depths)))[ind]\n",
    "    print('score\\tfeats depth')\n",
    "    for i, j in zip(best_params, flat[ind]):\n",
    "        print(f'{j:.5f}, {i}')\n",
    "else:\n",
    "    print(f'top {top} is too big. got only {len(roc_scores)} scores')"
   ],
   "metadata": {
    "collapsed": false,
    "ExecuteTime": {
     "end_time": "2024-03-14T23:20:55.136107600Z",
     "start_time": "2024-03-14T23:20:55.048059600Z"
    }
   },
   "id": "94d8a02287de496f",
   "execution_count": 10
  },
  {
   "cell_type": "code",
   "outputs": [],
   "source": [
    "vectorizer = TfidfVectorizer(stop_words='english', max_features=150)\n",
    "X = vectorizer.fit_transform(corpus).toarray()\n",
    "y = data['spam']\n",
    "X_train, X_test, y_train, y_test = train_test_split(X, y, test_size=0.2, random_state=0)\n"
   ],
   "metadata": {
    "collapsed": false,
    "ExecuteTime": {
     "end_time": "2024-03-14T23:20:56.138684300Z",
     "start_time": "2024-03-14T23:20:55.104584400Z"
    }
   },
   "id": "c4d849e15734f999",
   "execution_count": 11
  },
  {
   "cell_type": "markdown",
   "source": [
    "LSTM"
   ],
   "metadata": {
    "collapsed": false
   },
   "id": "75356f5d3994eb22"
  },
  {
   "cell_type": "code",
   "outputs": [],
   "source": [
    "y =abs( y-1)\n",
    "text_train, text_test, y_train, y_test = train_test_split(corpus, y, test_size=0.2, random_state=0)"
   ],
   "metadata": {
    "collapsed": false,
    "ExecuteTime": {
     "end_time": "2024-03-14T23:20:56.156263900Z",
     "start_time": "2024-03-14T23:20:56.141694700Z"
    }
   },
   "id": "fcec135d5e8384b6",
   "execution_count": 12
  },
  {
   "cell_type": "code",
   "outputs": [],
   "source": [
    "tokenizer = Tokenizer(num_words=500)\n",
    "tokenizer.fit_on_texts(text_train)\n",
    "sequences = tokenizer.texts_to_sequences(text_train)"
   ],
   "metadata": {
    "collapsed": false,
    "ExecuteTime": {
     "end_time": "2024-03-14T23:20:57.108999400Z",
     "start_time": "2024-03-14T23:20:56.157773300Z"
    }
   },
   "id": "f9998687ddc4f54b",
   "execution_count": 13
  },
  {
   "cell_type": "code",
   "outputs": [],
   "source": [
    "sequences_matrix = pad_sequences(sequences, maxlen=150)"
   ],
   "metadata": {
    "collapsed": false,
    "ExecuteTime": {
     "end_time": "2024-03-14T23:20:57.170727400Z",
     "start_time": "2024-03-14T23:20:57.115998900Z"
    }
   },
   "id": "6f5799e0fdfaa61c",
   "execution_count": 14
  },
  {
   "cell_type": "code",
   "outputs": [
    {
     "data": {
      "text/plain": "array([[  0,   0,   0, ..., 194, 134, 135],\n       [  0,   0,   0, ...,  52,  27,  66],\n       [  0,   0,   0, ...,  70, 159, 349],\n       ...,\n       [  0,   0,   0, ..., 297, 351, 275],\n       [  0,   0,   0, ..., 193, 312,  12],\n       [  0,   0,   0, ..., 194,  68,  51]])"
     },
     "execution_count": 15,
     "metadata": {},
     "output_type": "execute_result"
    }
   ],
   "source": [
    "sequences_matrix"
   ],
   "metadata": {
    "collapsed": false,
    "ExecuteTime": {
     "end_time": "2024-03-14T23:20:57.175727600Z",
     "start_time": "2024-03-14T23:20:57.161549500Z"
    }
   },
   "id": "b0b681e37e854f9c",
   "execution_count": 15
  },
  {
   "cell_type": "code",
   "outputs": [
    {
     "data": {
      "text/plain": "[]"
     },
     "execution_count": 16,
     "metadata": {},
     "output_type": "execute_result"
    }
   ],
   "source": [
    "tf.config.experimental.list_physical_devices('GPU')"
   ],
   "metadata": {
    "collapsed": false,
    "ExecuteTime": {
     "end_time": "2024-03-14T23:20:57.253278300Z",
     "start_time": "2024-03-14T23:20:57.175727600Z"
    }
   },
   "id": "e3dc016930f45f94",
   "execution_count": 16
  },
  {
   "cell_type": "code",
   "outputs": [
    {
     "name": "stdout",
     "output_type": "stream",
     "text": [
      "Epoch 1/5\n",
      "\u001B[1m33/33\u001B[0m \u001B[32m━━━━━━━━━━━━━━━━━━━━\u001B[0m\u001B[37m\u001B[0m \u001B[1m9s\u001B[0m 163ms/step - accuracy: 0.7506 - auc: 0.6112 - f1_score: 0.8596 - loss: 0.5884 - precision: 0.7760 - recall: 0.9408 - val_accuracy: 0.9346 - val_auc: 0.9796 - val_f1_score: 0.8695 - val_loss: 0.2726 - val_precision: 0.9549 - val_recall: 0.9603\n",
      "Epoch 2/5\n",
      "\u001B[1m33/33\u001B[0m \u001B[32m━━━━━━━━━━━━━━━━━━━━\u001B[0m\u001B[37m\u001B[0m \u001B[1m4s\u001B[0m 133ms/step - accuracy: 0.9183 - auc: 0.9380 - f1_score: 0.8586 - loss: 0.2731 - precision: 0.9389 - recall: 0.9539 - val_accuracy: 0.9717 - val_auc: 0.9929 - val_f1_score: 0.8695 - val_loss: 0.1148 - val_precision: 0.9857 - val_recall: 0.9773\n",
      "Epoch 3/5\n",
      "\u001B[1m33/33\u001B[0m \u001B[32m━━━━━━━━━━━━━━━━━━━━\u001B[0m\u001B[37m\u001B[0m \u001B[1m4s\u001B[0m 133ms/step - accuracy: 0.9334 - auc: 0.9084 - f1_score: 0.8644 - loss: 0.2755 - precision: 0.9440 - recall: 0.9711 - val_accuracy: 0.9739 - val_auc: 0.9967 - val_f1_score: 0.8695 - val_loss: 0.0753 - val_precision: 0.9858 - val_recall: 0.9802\n",
      "Epoch 4/5\n",
      "\u001B[1m33/33\u001B[0m \u001B[32m━━━━━━━━━━━━━━━━━━━━\u001B[0m\u001B[37m\u001B[0m \u001B[1m4s\u001B[0m 132ms/step - accuracy: 0.9789 - auc: 0.9954 - f1_score: 0.8667 - loss: 0.0799 - precision: 0.9915 - recall: 0.9808 - val_accuracy: 0.9717 - val_auc: 0.9958 - val_f1_score: 0.8695 - val_loss: 0.0808 - val_precision: 0.9830 - val_recall: 0.9802\n",
      "Epoch 5/5\n",
      "\u001B[1m33/33\u001B[0m \u001B[32m━━━━━━━━━━━━━━━━━━━━\u001B[0m\u001B[37m\u001B[0m \u001B[1m4s\u001B[0m 130ms/step - accuracy: 0.9802 - auc: 0.9967 - f1_score: 0.8617 - loss: 0.0623 - precision: 0.9924 - recall: 0.9813 - val_accuracy: 0.9782 - val_auc: 0.9959 - val_f1_score: 0.8695 - val_loss: 0.0683 - val_precision: 0.9971 - val_recall: 0.9745\n"
     ]
    },
    {
     "data": {
      "text/plain": "<keras.src.callbacks.history.History at 0x1a13b0b94b0>"
     },
     "execution_count": 24,
     "metadata": {},
     "output_type": "execute_result"
    }
   ],
   "source": [
    "with tf.device('/GPU:0'):\n",
    "    model = Sequential([\n",
    "        layers.Embedding(input_dim=500, output_dim=32),\n",
    "        layers.LSTM(64),\n",
    "        layers.Dense(1, activation='sigmoid')\n",
    "    ])\n",
    "\n",
    "model.compile(loss=losses.binary_crossentropy,\n",
    "                   optimizer=optimizers.RMSprop(), metrics=['accuracy', F1Score, AUC, Precision, Recall])\n",
    "model.fit(sequences_matrix, y_train, batch_size=128,\n",
    "               epochs=5, validation_split=0.1)"
   ],
   "metadata": {
    "collapsed": false,
    "ExecuteTime": {
     "end_time": "2024-03-14T23:23:30.519220100Z",
     "start_time": "2024-03-14T23:23:03.271942900Z"
    }
   },
   "id": "2ef3457c197e04b9",
   "execution_count": 24
  },
  {
   "cell_type": "markdown",
   "source": [],
   "metadata": {
    "collapsed": false
   },
   "id": "56fb82bd20384c17"
  },
  {
   "cell_type": "code",
   "outputs": [
    {
     "name": "stdout",
     "output_type": "stream",
     "text": [
      "\u001B[1m36/36\u001B[0m \u001B[32m━━━━━━━━━━━━━━━━━━━━\u001B[0m\u001B[37m\u001B[0m \u001B[1m1s\u001B[0m 25ms/step - accuracy: 0.9651 - auc: 0.9938 - f1_score: 0.8574 - loss: 0.0929 - precision: 0.9856 - recall: 0.9675\n"
     ]
    },
    {
     "data": {
      "text/plain": "[0.09104713797569275,\n 0.9659686088562012,\n 0.9932700991630554,\n 0.8714917898178101,\n 0.9850917458534241,\n 0.9706214666366577]"
     },
     "execution_count": 25,
     "metadata": {},
     "output_type": "execute_result"
    }
   ],
   "source": [
    "test_s = tokenizer.texts_to_sequences(text_test)\n",
    "test_sm = pad_sequences(test_s, maxlen=150)\n",
    "model.evaluate(test_sm, y_test)\n",
    "\n",
    "# visualize_model(classifier.fit(X_test), y_test)"
   ],
   "metadata": {
    "collapsed": false,
    "ExecuteTime": {
     "end_time": "2024-03-14T23:23:31.626216Z",
     "start_time": "2024-03-14T23:23:30.608894500Z"
    }
   },
   "id": "31eaaf68f0c9003c",
   "execution_count": 25
  },
  {
   "cell_type": "code",
   "outputs": [],
   "source": [],
   "metadata": {
    "collapsed": false,
    "ExecuteTime": {
     "end_time": "2024-03-14T23:21:22.642322600Z",
     "start_time": "2024-03-14T23:21:22.598729200Z"
    }
   },
   "id": "46c812eac6ec912d",
   "execution_count": 18
  },
  {
   "cell_type": "code",
   "outputs": [],
   "source": [],
   "metadata": {
    "collapsed": false,
    "ExecuteTime": {
     "end_time": "2024-03-14T23:21:22.644322500Z",
     "start_time": "2024-03-14T23:21:22.613759100Z"
    }
   },
   "id": "1910211195879e9b",
   "execution_count": 18
  }
 ],
 "metadata": {
  "kernelspec": {
   "display_name": "Python 3",
   "language": "python",
   "name": "python3"
  },
  "language_info": {
   "codemirror_mode": {
    "name": "ipython",
    "version": 2
   },
   "file_extension": ".py",
   "mimetype": "text/x-python",
   "name": "python",
   "nbconvert_exporter": "python",
   "pygments_lexer": "ipython2",
   "version": "2.7.6"
  }
 },
 "nbformat": 4,
 "nbformat_minor": 5
}
