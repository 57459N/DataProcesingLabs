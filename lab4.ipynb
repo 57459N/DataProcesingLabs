{
 "cells": [
  {
   "cell_type": "code",
   "execution_count": null,
   "id": "initial_id",
   "metadata": {
    "collapsed": true,
    "is_executing": true,
    "ExecuteTime": {
     "start_time": "2024-04-24T11:12:13.295702800Z"
    }
   },
   "outputs": [],
   "source": [
    "import cv2\n",
    "from matplotlib import pyplot as plt\n",
    "import numpy as np\n",
    "import pandas as pd\n",
    "\n",
    "from sklearn.model_selection import train_test_split\n",
    "from tensorflow.keras.metrics import Precision, Recall, AUC\n",
    "from tensorflow.keras.callbacks import Callback, ModelCheckpoint\n"
   ]
  },
  {
   "cell_type": "code",
   "execution_count": null,
   "outputs": [],
   "source": [
    "data_dir = 'data/sign_data'\n",
    "train_dir = f'{data_dir}/train'\n",
    "test_dir = f'{data_dir}/test'\n",
    "\n",
    "train_df = pd.read_csv(f\"{data_dir}/train_data.csv\", header=None)\n",
    "test_df = pd.read_csv(f\"{data_dir}/test_data.csv\", header=None)\n",
    "train_df.columns = [\"orig_path\", \"comp_path\", \"is_forg\"]\n",
    "test_df.columns = [\"orig_path\", \"comp_path\", \"is_forg\"]\n",
    "\n",
    "metrics = ['accuracy', 'precision', 'recall', 'auc']"
   ],
   "metadata": {
    "collapsed": false,
    "is_executing": true
   },
   "id": "4d1e2bb861fa6136"
  },
  {
   "cell_type": "code",
   "outputs": [],
   "source": [
    "train_df.head()"
   ],
   "metadata": {
    "collapsed": false,
    "is_executing": true
   },
   "id": "57b889769787718a",
   "execution_count": null
  },
  {
   "cell_type": "code",
   "outputs": [],
   "source": [
    "filenames = pd.concat([train_df.orig_path, train_df.comp_path], axis=0).unique()\n",
    "images = {}\n",
    "\n",
    "_dir = train_dir\n",
    "\n",
    "width, height = 224, 224\n",
    "shape = (width, height)\n",
    "for filename in filenames:\n",
    "    image = cv2.imread(f'{_dir}/{filename}', cv2.IMREAD_GRAYSCALE)\n",
    "    try:\n",
    "        image = cv2.resize(image, shape)\n",
    "    except Exception as e:\n",
    "        print(f'ERROR: {_dir}/{filename}')\n",
    "        raise e\n",
    "\n",
    "    image = image.reshape(shape)\n",
    "    image = np.asarray(image, dtype=np.float16)\n",
    "    images[filename] = image"
   ],
   "metadata": {
    "collapsed": false,
    "ExecuteTime": {
     "end_time": "2024-04-20T20:20:12.606193800Z",
     "start_time": "2024-04-20T20:20:06.794213800Z"
    }
   },
   "id": "e0b2fd34ce559e87",
   "execution_count": 4
  },
  {
   "cell_type": "code",
   "outputs": [],
   "source": [
    "class DataLoader:\n",
    "    def __init__(self, dataset: pd.DataFrame, batch_size: int, _dir: str, shape: (int, int)):\n",
    "        self.dataset = dataset\n",
    "        self.batch_size = batch_size\n",
    "        self.dir = _dir\n",
    "        self.shape = shape\n",
    "\n",
    "    def shuffle(self):\n",
    "        return self.dataset.sample(frac=1)\n",
    "\n",
    "    def generate(self):\n",
    "        num_samples = len(self.dataset)\n",
    "        while True:\n",
    "            self.dataset = self.shuffle()\n",
    "            for batch_begin in range(1, num_samples, self.batch_size):\n",
    "                batch = self.dataset[batch_begin:batch_begin + self.batch_size]\n",
    "                origs = np.array([images[i] for i in batch['orig_path']], dtype=np.float32)\n",
    "                comps = np.array([images[i] for i in batch['comp_path']], dtype=np.float32)\n",
    "                is_forgs = np.asarray(batch['is_forg'])\n",
    "\n",
    "                yield (origs, comps), is_forgs"
   ],
   "metadata": {
    "collapsed": false,
    "ExecuteTime": {
     "end_time": "2024-04-20T20:20:12.649331Z",
     "start_time": "2024-04-20T20:20:12.616765200Z"
    }
   },
   "id": "ab5a67ba32f7c810",
   "execution_count": 5
  },
  {
   "cell_type": "code",
   "outputs": [
    {
     "data": {
      "text/plain": "\u001B[1mModel: \"functional_31\"\u001B[0m\n",
      "text/html": "<pre style=\"white-space:pre;overflow-x:auto;line-height:normal;font-family:Menlo,'DejaVu Sans Mono',consolas,'Courier New',monospace\"><span style=\"font-weight: bold\">Model: \"functional_31\"</span>\n</pre>\n"
     },
     "metadata": {},
     "output_type": "display_data"
    },
    {
     "data": {
      "text/plain": "┏━━━━━━━━━━━━━━━━━━━━━┳━━━━━━━━━━━━━━━━━━━┳━━━━━━━━━━━━┳━━━━━━━━━━━━━━━━━━━┓\n┃\u001B[1m \u001B[0m\u001B[1mLayer (type)       \u001B[0m\u001B[1m \u001B[0m┃\u001B[1m \u001B[0m\u001B[1mOutput Shape     \u001B[0m\u001B[1m \u001B[0m┃\u001B[1m \u001B[0m\u001B[1m   Param #\u001B[0m\u001B[1m \u001B[0m┃\u001B[1m \u001B[0m\u001B[1mConnected to     \u001B[0m\u001B[1m \u001B[0m┃\n┡━━━━━━━━━━━━━━━━━━━━━╇━━━━━━━━━━━━━━━━━━━╇━━━━━━━━━━━━╇━━━━━━━━━━━━━━━━━━━┩\n│ input_layer_21      │ (\u001B[38;5;45mNone\u001B[0m, \u001B[38;5;34m224\u001B[0m, \u001B[38;5;34m224\u001B[0m)  │          \u001B[38;5;34m0\u001B[0m │ -                 │\n│ (\u001B[38;5;33mInputLayer\u001B[0m)        │                   │            │                   │\n├─────────────────────┼───────────────────┼────────────┼───────────────────┤\n│ input_layer_22      │ (\u001B[38;5;45mNone\u001B[0m, \u001B[38;5;34m224\u001B[0m, \u001B[38;5;34m224\u001B[0m)  │          \u001B[38;5;34m0\u001B[0m │ -                 │\n│ (\u001B[38;5;33mInputLayer\u001B[0m)        │                   │            │                   │\n├─────────────────────┼───────────────────┼────────────┼───────────────────┤\n│ functional_29       │ (\u001B[38;5;45mNone\u001B[0m, \u001B[38;5;34m26\u001B[0m, \u001B[38;5;34m128\u001B[0m)   │     \u001B[38;5;34m52,448\u001B[0m │ input_layer_21[\u001B[38;5;34m0\u001B[0m… │\n│ (\u001B[38;5;33mFunctional\u001B[0m)        │                   │            │ input_layer_22[\u001B[38;5;34m0\u001B[0m… │\n├─────────────────────┼───────────────────┼────────────┼───────────────────┤\n│ subtract_7          │ (\u001B[38;5;45mNone\u001B[0m, \u001B[38;5;34m26\u001B[0m, \u001B[38;5;34m128\u001B[0m)   │          \u001B[38;5;34m0\u001B[0m │ functional_29[\u001B[38;5;34m0\u001B[0m]… │\n│ (\u001B[38;5;33mSubtract\u001B[0m)          │                   │            │ functional_29[\u001B[38;5;34m1\u001B[0m]… │\n├─────────────────────┼───────────────────┼────────────┼───────────────────┤\n│ conv1d_31 (\u001B[38;5;33mConv1D\u001B[0m)  │ (\u001B[38;5;45mNone\u001B[0m, \u001B[38;5;34m24\u001B[0m, \u001B[38;5;34m128\u001B[0m)   │     \u001B[38;5;34m49,280\u001B[0m │ subtract_7[\u001B[38;5;34m0\u001B[0m][\u001B[38;5;34m0\u001B[0m]  │\n├─────────────────────┼───────────────────┼────────────┼───────────────────┤\n│ max_pooling1d_31    │ (\u001B[38;5;45mNone\u001B[0m, \u001B[38;5;34m12\u001B[0m, \u001B[38;5;34m128\u001B[0m)   │          \u001B[38;5;34m0\u001B[0m │ conv1d_31[\u001B[38;5;34m0\u001B[0m][\u001B[38;5;34m0\u001B[0m]   │\n│ (\u001B[38;5;33mMaxPooling1D\u001B[0m)      │                   │            │                   │\n├─────────────────────┼───────────────────┼────────────┼───────────────────┤\n│ flatten_7 (\u001B[38;5;33mFlatten\u001B[0m) │ (\u001B[38;5;45mNone\u001B[0m, \u001B[38;5;34m1536\u001B[0m)      │          \u001B[38;5;34m0\u001B[0m │ max_pooling1d_31… │\n├─────────────────────┼───────────────────┼────────────┼───────────────────┤\n│ dense_14 (\u001B[38;5;33mDense\u001B[0m)    │ (\u001B[38;5;45mNone\u001B[0m, \u001B[38;5;34m512\u001B[0m)       │    \u001B[38;5;34m786,944\u001B[0m │ flatten_7[\u001B[38;5;34m0\u001B[0m][\u001B[38;5;34m0\u001B[0m]   │\n├─────────────────────┼───────────────────┼────────────┼───────────────────┤\n│ dense_15 (\u001B[38;5;33mDense\u001B[0m)    │ (\u001B[38;5;45mNone\u001B[0m, \u001B[38;5;34m1\u001B[0m)         │        \u001B[38;5;34m513\u001B[0m │ dense_14[\u001B[38;5;34m0\u001B[0m][\u001B[38;5;34m0\u001B[0m]    │\n└─────────────────────┴───────────────────┴────────────┴───────────────────┘\n",
      "text/html": "<pre style=\"white-space:pre;overflow-x:auto;line-height:normal;font-family:Menlo,'DejaVu Sans Mono',consolas,'Courier New',monospace\">┏━━━━━━━━━━━━━━━━━━━━━┳━━━━━━━━━━━━━━━━━━━┳━━━━━━━━━━━━┳━━━━━━━━━━━━━━━━━━━┓\n┃<span style=\"font-weight: bold\"> Layer (type)        </span>┃<span style=\"font-weight: bold\"> Output Shape      </span>┃<span style=\"font-weight: bold\">    Param # </span>┃<span style=\"font-weight: bold\"> Connected to      </span>┃\n┡━━━━━━━━━━━━━━━━━━━━━╇━━━━━━━━━━━━━━━━━━━╇━━━━━━━━━━━━╇━━━━━━━━━━━━━━━━━━━┩\n│ input_layer_21      │ (<span style=\"color: #00d7ff; text-decoration-color: #00d7ff\">None</span>, <span style=\"color: #00af00; text-decoration-color: #00af00\">224</span>, <span style=\"color: #00af00; text-decoration-color: #00af00\">224</span>)  │          <span style=\"color: #00af00; text-decoration-color: #00af00\">0</span> │ -                 │\n│ (<span style=\"color: #0087ff; text-decoration-color: #0087ff\">InputLayer</span>)        │                   │            │                   │\n├─────────────────────┼───────────────────┼────────────┼───────────────────┤\n│ input_layer_22      │ (<span style=\"color: #00d7ff; text-decoration-color: #00d7ff\">None</span>, <span style=\"color: #00af00; text-decoration-color: #00af00\">224</span>, <span style=\"color: #00af00; text-decoration-color: #00af00\">224</span>)  │          <span style=\"color: #00af00; text-decoration-color: #00af00\">0</span> │ -                 │\n│ (<span style=\"color: #0087ff; text-decoration-color: #0087ff\">InputLayer</span>)        │                   │            │                   │\n├─────────────────────┼───────────────────┼────────────┼───────────────────┤\n│ functional_29       │ (<span style=\"color: #00d7ff; text-decoration-color: #00d7ff\">None</span>, <span style=\"color: #00af00; text-decoration-color: #00af00\">26</span>, <span style=\"color: #00af00; text-decoration-color: #00af00\">128</span>)   │     <span style=\"color: #00af00; text-decoration-color: #00af00\">52,448</span> │ input_layer_21[<span style=\"color: #00af00; text-decoration-color: #00af00\">0</span>… │\n│ (<span style=\"color: #0087ff; text-decoration-color: #0087ff\">Functional</span>)        │                   │            │ input_layer_22[<span style=\"color: #00af00; text-decoration-color: #00af00\">0</span>… │\n├─────────────────────┼───────────────────┼────────────┼───────────────────┤\n│ subtract_7          │ (<span style=\"color: #00d7ff; text-decoration-color: #00d7ff\">None</span>, <span style=\"color: #00af00; text-decoration-color: #00af00\">26</span>, <span style=\"color: #00af00; text-decoration-color: #00af00\">128</span>)   │          <span style=\"color: #00af00; text-decoration-color: #00af00\">0</span> │ functional_29[<span style=\"color: #00af00; text-decoration-color: #00af00\">0</span>]… │\n│ (<span style=\"color: #0087ff; text-decoration-color: #0087ff\">Subtract</span>)          │                   │            │ functional_29[<span style=\"color: #00af00; text-decoration-color: #00af00\">1</span>]… │\n├─────────────────────┼───────────────────┼────────────┼───────────────────┤\n│ conv1d_31 (<span style=\"color: #0087ff; text-decoration-color: #0087ff\">Conv1D</span>)  │ (<span style=\"color: #00d7ff; text-decoration-color: #00d7ff\">None</span>, <span style=\"color: #00af00; text-decoration-color: #00af00\">24</span>, <span style=\"color: #00af00; text-decoration-color: #00af00\">128</span>)   │     <span style=\"color: #00af00; text-decoration-color: #00af00\">49,280</span> │ subtract_7[<span style=\"color: #00af00; text-decoration-color: #00af00\">0</span>][<span style=\"color: #00af00; text-decoration-color: #00af00\">0</span>]  │\n├─────────────────────┼───────────────────┼────────────┼───────────────────┤\n│ max_pooling1d_31    │ (<span style=\"color: #00d7ff; text-decoration-color: #00d7ff\">None</span>, <span style=\"color: #00af00; text-decoration-color: #00af00\">12</span>, <span style=\"color: #00af00; text-decoration-color: #00af00\">128</span>)   │          <span style=\"color: #00af00; text-decoration-color: #00af00\">0</span> │ conv1d_31[<span style=\"color: #00af00; text-decoration-color: #00af00\">0</span>][<span style=\"color: #00af00; text-decoration-color: #00af00\">0</span>]   │\n│ (<span style=\"color: #0087ff; text-decoration-color: #0087ff\">MaxPooling1D</span>)      │                   │            │                   │\n├─────────────────────┼───────────────────┼────────────┼───────────────────┤\n│ flatten_7 (<span style=\"color: #0087ff; text-decoration-color: #0087ff\">Flatten</span>) │ (<span style=\"color: #00d7ff; text-decoration-color: #00d7ff\">None</span>, <span style=\"color: #00af00; text-decoration-color: #00af00\">1536</span>)      │          <span style=\"color: #00af00; text-decoration-color: #00af00\">0</span> │ max_pooling1d_31… │\n├─────────────────────┼───────────────────┼────────────┼───────────────────┤\n│ dense_14 (<span style=\"color: #0087ff; text-decoration-color: #0087ff\">Dense</span>)    │ (<span style=\"color: #00d7ff; text-decoration-color: #00d7ff\">None</span>, <span style=\"color: #00af00; text-decoration-color: #00af00\">512</span>)       │    <span style=\"color: #00af00; text-decoration-color: #00af00\">786,944</span> │ flatten_7[<span style=\"color: #00af00; text-decoration-color: #00af00\">0</span>][<span style=\"color: #00af00; text-decoration-color: #00af00\">0</span>]   │\n├─────────────────────┼───────────────────┼────────────┼───────────────────┤\n│ dense_15 (<span style=\"color: #0087ff; text-decoration-color: #0087ff\">Dense</span>)    │ (<span style=\"color: #00d7ff; text-decoration-color: #00d7ff\">None</span>, <span style=\"color: #00af00; text-decoration-color: #00af00\">1</span>)         │        <span style=\"color: #00af00; text-decoration-color: #00af00\">513</span> │ dense_14[<span style=\"color: #00af00; text-decoration-color: #00af00\">0</span>][<span style=\"color: #00af00; text-decoration-color: #00af00\">0</span>]    │\n└─────────────────────┴───────────────────┴────────────┴───────────────────┘\n</pre>\n"
     },
     "metadata": {},
     "output_type": "display_data"
    },
    {
     "data": {
      "text/plain": "\u001B[1m Total params: \u001B[0m\u001B[38;5;34m889,185\u001B[0m (3.39 MB)\n",
      "text/html": "<pre style=\"white-space:pre;overflow-x:auto;line-height:normal;font-family:Menlo,'DejaVu Sans Mono',consolas,'Courier New',monospace\"><span style=\"font-weight: bold\"> Total params: </span><span style=\"color: #00af00; text-decoration-color: #00af00\">889,185</span> (3.39 MB)\n</pre>\n"
     },
     "metadata": {},
     "output_type": "display_data"
    },
    {
     "data": {
      "text/plain": "\u001B[1m Trainable params: \u001B[0m\u001B[38;5;34m889,185\u001B[0m (3.39 MB)\n",
      "text/html": "<pre style=\"white-space:pre;overflow-x:auto;line-height:normal;font-family:Menlo,'DejaVu Sans Mono',consolas,'Courier New',monospace\"><span style=\"font-weight: bold\"> Trainable params: </span><span style=\"color: #00af00; text-decoration-color: #00af00\">889,185</span> (3.39 MB)\n</pre>\n"
     },
     "metadata": {},
     "output_type": "display_data"
    },
    {
     "data": {
      "text/plain": "\u001B[1m Non-trainable params: \u001B[0m\u001B[38;5;34m0\u001B[0m (0.00 B)\n",
      "text/html": "<pre style=\"white-space:pre;overflow-x:auto;line-height:normal;font-family:Menlo,'DejaVu Sans Mono',consolas,'Courier New',monospace\"><span style=\"font-weight: bold\"> Non-trainable params: </span><span style=\"color: #00af00; text-decoration-color: #00af00\">0</span> (0.00 B)\n</pre>\n"
     },
     "metadata": {},
     "output_type": "display_data"
    },
    {
     "data": {
      "text/plain": "<Functional name=functional_31, built=True>"
     },
     "execution_count": 39,
     "metadata": {},
     "output_type": "execute_result"
    }
   ],
   "source": [
    "from tensorflow.keras import layers, losses, metrics, optimizers\n",
    "from tensorflow.keras import Model\n",
    "\n",
    "x1 = layers.Input(shape=(width, height))\n",
    "x2 = layers.Input(shape=(width, height))\n",
    "# параллельная модель\n",
    "inputs = layers.Input(shape=(width, height))\n",
    "feature = layers.Conv1D(32, 3, activation='relu')(inputs)\n",
    "feature = layers.MaxPooling1D(2)(feature)\n",
    "feature = layers.Conv1D(64, 3, activation='relu')(feature)\n",
    "feature = layers.MaxPooling1D(2)(feature)\n",
    "feature = layers.Conv1D(128, 3, activation='relu')(feature)\n",
    "feature = layers.MaxPooling1D(2)(feature)\n",
    "feature_model = Model(inputs=inputs, outputs=feature)\n",
    "\n",
    "x1_net = feature_model(x1)\n",
    "x2_net = feature_model(x2)\n",
    "net = layers.Subtract()([x1_net, x2_net])\n",
    "net = layers.Conv1D(128, 3, activation='relu')(net)\n",
    "net = layers.MaxPooling1D(2)(net)\n",
    "net = layers.Flatten()(net)\n",
    "net = layers.Dense(512, activation='relu')(net)\n",
    "net = layers.Dense(1, activation='softmax')(net)\n",
    "classifier = Model(inputs=[x1, x2], outputs=net)\n",
    "classifier.compile(loss='binary_crossentropy',\n",
    "                   optimizer=optimizers.Adam(), metrics=['accuracy', Precision(), Recall(), AUC()])\n",
    "classifier.summary()\n",
    "classifier"
   ],
   "metadata": {
    "collapsed": false,
    "ExecuteTime": {
     "end_time": "2024-04-20T20:43:04.311787400Z",
     "start_time": "2024-04-20T20:43:04.161261800Z"
    }
   },
   "id": "ca4297658abf52b",
   "execution_count": 39
  },
  {
   "cell_type": "code",
   "outputs": [],
   "source": [
    "checkpoint_filepath = './checkpoints/best/signatures_e30.keras'\n",
    "model_checkpoint_callback = ModelCheckpoint(\n",
    "    filepath=checkpoint_filepath,\n",
    "    monitor='val_loss',\n",
    "    mode='min',\n",
    "    save_best_only=True,\n",
    "    verbose=1,\n",
    "    save_freq='epoch'\n",
    ")"
   ],
   "metadata": {
    "collapsed": false,
    "ExecuteTime": {
     "end_time": "2024-04-20T20:43:05.014431900Z",
     "start_time": "2024-04-20T20:43:04.983820600Z"
    }
   },
   "id": "1688d8e4fb3931eb",
   "execution_count": 40
  },
  {
   "cell_type": "code",
   "outputs": [],
   "source": [
    "batch_size = 512\n",
    "train_set, val_set = train_test_split(train_df, test_size=0.6)\n",
    "\n",
    "train_loader = DataLoader(dataset=train_set, batch_size=batch_size, _dir=f'{data_dir}/train', shape=(width, height))\n",
    "val_loader = DataLoader(dataset=val_set, batch_size=batch_size, _dir=f'{data_dir}/train', shape=(width, height))\n",
    "# next(train_loader.generate())"
   ],
   "metadata": {
    "collapsed": false,
    "ExecuteTime": {
     "end_time": "2024-04-20T20:43:05.545341500Z",
     "start_time": "2024-04-20T20:43:05.530817300Z"
    }
   },
   "id": "120a4dbe14e5bc34",
   "execution_count": 41
  },
  {
   "cell_type": "code",
   "outputs": [
    {
     "name": "stdout",
     "output_type": "stream",
     "text": [
      "Epoch 1/30\n",
      "\u001B[1m18/18\u001B[0m \u001B[32m━━━━━━━━━━━━━━━━━━━━\u001B[0m\u001B[37m\u001B[0m \u001B[1m0s\u001B[0m 445ms/step - accuracy: 0.5019 - auc_7: 0.5029 - loss: 19.6282 - precision_7: 0.4614 - recall_7: 0.5363\n",
      "Epoch 1: val_loss improved from inf to 0.95461, saving model to ./checkpoints/best/signatures_e30.keras\n",
      "\u001B[1m18/18\u001B[0m \u001B[32m━━━━━━━━━━━━━━━━━━━━\u001B[0m\u001B[37m\u001B[0m \u001B[1m20s\u001B[0m 945ms/step - accuracy: 0.5021 - auc_7: 0.5030 - loss: 19.1640 - precision_7: 0.4615 - recall_7: 0.5340 - val_accuracy: 0.5430 - val_auc_7: 0.5052 - val_loss: 0.9546 - val_precision_7: 0.0000e+00 - val_recall_7: 0.0000e+00\n",
      "Epoch 2/30\n",
      "\u001B[1m18/18\u001B[0m \u001B[32m━━━━━━━━━━━━━━━━━━━━\u001B[0m\u001B[37m\u001B[0m \u001B[1m0s\u001B[0m 372ms/step - accuracy: 0.5525 - auc_7: 0.5438 - loss: 0.7634 - precision_7: 0.6739 - recall_7: 0.0305\n",
      "Epoch 2: val_loss improved from 0.95461 to 0.68225, saving model to ./checkpoints/best/signatures_e30.keras\n",
      "\u001B[1m18/18\u001B[0m \u001B[32m━━━━━━━━━━━━━━━━━━━━\u001B[0m\u001B[37m\u001B[0m \u001B[1m13s\u001B[0m 785ms/step - accuracy: 0.5531 - auc_7: 0.5441 - loss: 0.7608 - precision_7: 0.6727 - recall_7: 0.0344 - val_accuracy: 0.5853 - val_auc_7: 0.6098 - val_loss: 0.6822 - val_precision_7: 0.5857 - val_recall_7: 0.3097\n",
      "Epoch 3/30\n",
      "\u001B[1m18/18\u001B[0m \u001B[32m━━━━━━━━━━━━━━━━━━━━\u001B[0m\u001B[37m\u001B[0m \u001B[1m0s\u001B[0m 344ms/step - accuracy: 0.5811 - auc_7: 0.5984 - loss: 0.6831 - precision_7: 0.5535 - recall_7: 0.3313\n",
      "Epoch 3: val_loss improved from 0.68225 to 0.67578, saving model to ./checkpoints/best/signatures_e30.keras\n",
      "\u001B[1m18/18\u001B[0m \u001B[32m━━━━━━━━━━━━━━━━━━━━\u001B[0m\u001B[37m\u001B[0m \u001B[1m13s\u001B[0m 732ms/step - accuracy: 0.5817 - auc_7: 0.5995 - loss: 0.6829 - precision_7: 0.5550 - recall_7: 0.3330 - val_accuracy: 0.6100 - val_auc_7: 0.6470 - val_loss: 0.6758 - val_precision_7: 0.6052 - val_recall_7: 0.4164\n",
      "Epoch 4/30\n",
      "\u001B[1m18/18\u001B[0m \u001B[32m━━━━━━━━━━━━━━━━━━━━\u001B[0m\u001B[37m\u001B[0m \u001B[1m0s\u001B[0m 336ms/step - accuracy: 0.6323 - auc_7: 0.6815 - loss: 0.6648 - precision_7: 0.6278 - recall_7: 0.4752\n",
      "Epoch 4: val_loss improved from 0.67578 to 0.62205, saving model to ./checkpoints/best/signatures_e30.keras\n",
      "\u001B[1m18/18\u001B[0m \u001B[32m━━━━━━━━━━━━━━━━━━━━\u001B[0m\u001B[37m\u001B[0m \u001B[1m12s\u001B[0m 673ms/step - accuracy: 0.6327 - auc_7: 0.6820 - loss: 0.6643 - precision_7: 0.6271 - recall_7: 0.4800 - val_accuracy: 0.6579 - val_auc_7: 0.7634 - val_loss: 0.6220 - val_precision_7: 0.5921 - val_recall_7: 0.8039\n",
      "Epoch 5/30\n",
      "\u001B[1m18/18\u001B[0m \u001B[32m━━━━━━━━━━━━━━━━━━━━\u001B[0m\u001B[37m\u001B[0m \u001B[1m0s\u001B[0m 338ms/step - accuracy: 0.7069 - auc_7: 0.7966 - loss: 0.5852 - precision_7: 0.6593 - recall_7: 0.7724\n",
      "Epoch 5: val_loss improved from 0.62205 to 0.50251, saving model to ./checkpoints/best/signatures_e30.keras\n",
      "\u001B[1m18/18\u001B[0m \u001B[32m━━━━━━━━━━━━━━━━━━━━\u001B[0m\u001B[37m\u001B[0m \u001B[1m12s\u001B[0m 667ms/step - accuracy: 0.7081 - auc_7: 0.7973 - loss: 0.5837 - precision_7: 0.6610 - recall_7: 0.7706 - val_accuracy: 0.7691 - val_auc_7: 0.8348 - val_loss: 0.5025 - val_precision_7: 0.7750 - val_recall_7: 0.6921\n",
      "Epoch 6/30\n",
      "\u001B[1m18/18\u001B[0m \u001B[32m━━━━━━━━━━━━━━━━━━━━\u001B[0m\u001B[37m\u001B[0m \u001B[1m0s\u001B[0m 318ms/step - accuracy: 0.7730 - auc_7: 0.8522 - loss: 0.4766 - precision_7: 0.7666 - recall_7: 0.7361\n",
      "Epoch 6: val_loss improved from 0.50251 to 0.45969, saving model to ./checkpoints/best/signatures_e30.keras\n",
      "\u001B[1m18/18\u001B[0m \u001B[32m━━━━━━━━━━━━━━━━━━━━\u001B[0m\u001B[37m\u001B[0m \u001B[1m12s\u001B[0m 658ms/step - accuracy: 0.7736 - auc_7: 0.8525 - loss: 0.4758 - precision_7: 0.7673 - recall_7: 0.7365 - val_accuracy: 0.7840 - val_auc_7: 0.8592 - val_loss: 0.4597 - val_precision_7: 0.7618 - val_recall_7: 0.7759\n",
      "Epoch 7/30\n",
      "\u001B[1m18/18\u001B[0m \u001B[32m━━━━━━━━━━━━━━━━━━━━\u001B[0m\u001B[37m\u001B[0m \u001B[1m0s\u001B[0m 329ms/step - accuracy: 0.8087 - auc_7: 0.8831 - loss: 0.4190 - precision_7: 0.7990 - recall_7: 0.7638\n",
      "Epoch 7: val_loss improved from 0.45969 to 0.43365, saving model to ./checkpoints/best/signatures_e30.keras\n",
      "\u001B[1m18/18\u001B[0m \u001B[32m━━━━━━━━━━━━━━━━━━━━\u001B[0m\u001B[37m\u001B[0m \u001B[1m11s\u001B[0m 655ms/step - accuracy: 0.8087 - auc_7: 0.8832 - loss: 0.4188 - precision_7: 0.7993 - recall_7: 0.7637 - val_accuracy: 0.8102 - val_auc_7: 0.8734 - val_loss: 0.4337 - val_precision_7: 0.8472 - val_recall_7: 0.7091\n",
      "Epoch 8/30\n",
      "\u001B[1m18/18\u001B[0m \u001B[32m━━━━━━━━━━━━━━━━━━━━\u001B[0m\u001B[37m\u001B[0m \u001B[1m0s\u001B[0m 372ms/step - accuracy: 0.8230 - auc_7: 0.8967 - loss: 0.3976 - precision_7: 0.8294 - recall_7: 0.7792\n",
      "Epoch 8: val_loss improved from 0.43365 to 0.39488, saving model to ./checkpoints/best/signatures_e30.keras\n",
      "\u001B[1m18/18\u001B[0m \u001B[32m━━━━━━━━━━━━━━━━━━━━\u001B[0m\u001B[37m\u001B[0m \u001B[1m13s\u001B[0m 735ms/step - accuracy: 0.8234 - auc_7: 0.8971 - loss: 0.3971 - precision_7: 0.8294 - recall_7: 0.7801 - val_accuracy: 0.8266 - val_auc_7: 0.8983 - val_loss: 0.3949 - val_precision_7: 0.8408 - val_recall_7: 0.7650\n",
      "Epoch 9/30\n",
      "\u001B[1m18/18\u001B[0m \u001B[32m━━━━━━━━━━━━━━━━━━━━\u001B[0m\u001B[37m\u001B[0m \u001B[1m0s\u001B[0m 326ms/step - accuracy: 0.8546 - auc_7: 0.9251 - loss: 0.3495 - precision_7: 0.8553 - recall_7: 0.8214\n",
      "Epoch 9: val_loss improved from 0.39488 to 0.39128, saving model to ./checkpoints/best/signatures_e30.keras\n",
      "\u001B[1m18/18\u001B[0m \u001B[32m━━━━━━━━━━━━━━━━━━━━\u001B[0m\u001B[37m\u001B[0m \u001B[1m12s\u001B[0m 670ms/step - accuracy: 0.8543 - auc_7: 0.9248 - loss: 0.3499 - precision_7: 0.8544 - recall_7: 0.8213 - val_accuracy: 0.8289 - val_auc_7: 0.8982 - val_loss: 0.3913 - val_precision_7: 0.8480 - val_recall_7: 0.7678\n",
      "Epoch 10/30\n",
      "\u001B[1m18/18\u001B[0m \u001B[32m━━━━━━━━━━━━━━━━━━━━\u001B[0m\u001B[37m\u001B[0m \u001B[1m0s\u001B[0m 330ms/step - accuracy: 0.8724 - auc_7: 0.9383 - loss: 0.3164 - precision_7: 0.8831 - recall_7: 0.8347\n",
      "Epoch 10: val_loss improved from 0.39128 to 0.32612, saving model to ./checkpoints/best/signatures_e30.keras\n",
      "\u001B[1m18/18\u001B[0m \u001B[32m━━━━━━━━━━━━━━━━━━━━\u001B[0m\u001B[37m\u001B[0m \u001B[1m11s\u001B[0m 650ms/step - accuracy: 0.8726 - auc_7: 0.9385 - loss: 0.3159 - precision_7: 0.8831 - recall_7: 0.8351 - val_accuracy: 0.8600 - val_auc_7: 0.9312 - val_loss: 0.3261 - val_precision_7: 0.8510 - val_recall_7: 0.8364\n",
      "Epoch 11/30\n",
      "\u001B[1m18/18\u001B[0m \u001B[32m━━━━━━━━━━━━━━━━━━━━\u001B[0m\u001B[37m\u001B[0m \u001B[1m0s\u001B[0m 329ms/step - accuracy: 0.8876 - auc_7: 0.9537 - loss: 0.2761 - precision_7: 0.8866 - recall_7: 0.8676\n",
      "Epoch 11: val_loss improved from 0.32612 to 0.31277, saving model to ./checkpoints/best/signatures_e30.keras\n",
      "\u001B[1m18/18\u001B[0m \u001B[32m━━━━━━━━━━━━━━━━━━━━\u001B[0m\u001B[37m\u001B[0m \u001B[1m11s\u001B[0m 649ms/step - accuracy: 0.8878 - auc_7: 0.9537 - loss: 0.2759 - precision_7: 0.8869 - recall_7: 0.8676 - val_accuracy: 0.8656 - val_auc_7: 0.9362 - val_loss: 0.3128 - val_precision_7: 0.8737 - val_recall_7: 0.8257\n",
      "Epoch 12/30\n",
      "\u001B[1m18/18\u001B[0m \u001B[32m━━━━━━━━━━━━━━━━━━━━\u001B[0m\u001B[37m\u001B[0m \u001B[1m0s\u001B[0m 328ms/step - accuracy: 0.9030 - auc_7: 0.9626 - loss: 0.2501 - precision_7: 0.9097 - recall_7: 0.8711\n",
      "Epoch 12: val_loss improved from 0.31277 to 0.29828, saving model to ./checkpoints/best/signatures_e30.keras\n",
      "\u001B[1m18/18\u001B[0m \u001B[32m━━━━━━━━━━━━━━━━━━━━\u001B[0m\u001B[37m\u001B[0m \u001B[1m11s\u001B[0m 650ms/step - accuracy: 0.9031 - auc_7: 0.9626 - loss: 0.2501 - precision_7: 0.9097 - recall_7: 0.8715 - val_accuracy: 0.8786 - val_auc_7: 0.9425 - val_loss: 0.2983 - val_precision_7: 0.8840 - val_recall_7: 0.8437\n",
      "Epoch 13/30\n",
      "\u001B[1m18/18\u001B[0m \u001B[32m━━━━━━━━━━━━━━━━━━━━\u001B[0m\u001B[37m\u001B[0m \u001B[1m0s\u001B[0m 327ms/step - accuracy: 0.9123 - auc_7: 0.9705 - loss: 0.2254 - precision_7: 0.9207 - recall_7: 0.8885\n",
      "Epoch 13: val_loss improved from 0.29828 to 0.27104, saving model to ./checkpoints/best/signatures_e30.keras\n",
      "\u001B[1m18/18\u001B[0m \u001B[32m━━━━━━━━━━━━━━━━━━━━\u001B[0m\u001B[37m\u001B[0m \u001B[1m11s\u001B[0m 643ms/step - accuracy: 0.9125 - auc_7: 0.9706 - loss: 0.2251 - precision_7: 0.9206 - recall_7: 0.8890 - val_accuracy: 0.8877 - val_auc_7: 0.9530 - val_loss: 0.2710 - val_precision_7: 0.8793 - val_recall_7: 0.8730\n",
      "Epoch 14/30\n",
      "\u001B[1m18/18\u001B[0m \u001B[32m━━━━━━━━━━━━━━━━━━━━\u001B[0m\u001B[37m\u001B[0m \u001B[1m0s\u001B[0m 321ms/step - accuracy: 0.9317 - auc_7: 0.9807 - loss: 0.1862 - precision_7: 0.9373 - recall_7: 0.9100\n",
      "Epoch 14: val_loss improved from 0.27104 to 0.24316, saving model to ./checkpoints/best/signatures_e30.keras\n",
      "\u001B[1m18/18\u001B[0m \u001B[32m━━━━━━━━━━━━━━━━━━━━\u001B[0m\u001B[37m\u001B[0m \u001B[1m12s\u001B[0m 654ms/step - accuracy: 0.9319 - auc_7: 0.9808 - loss: 0.1859 - precision_7: 0.9375 - recall_7: 0.9102 - val_accuracy: 0.9039 - val_auc_7: 0.9616 - val_loss: 0.2432 - val_precision_7: 0.9121 - val_recall_7: 0.8755\n",
      "Epoch 15/30\n",
      "\u001B[1m18/18\u001B[0m \u001B[32m━━━━━━━━━━━━━━━━━━━━\u001B[0m\u001B[37m\u001B[0m \u001B[1m0s\u001B[0m 336ms/step - accuracy: 0.9464 - auc_7: 0.9864 - loss: 0.1607 - precision_7: 0.9482 - recall_7: 0.9346\n",
      "Epoch 15: val_loss improved from 0.24316 to 0.22288, saving model to ./checkpoints/best/signatures_e30.keras\n",
      "\u001B[1m18/18\u001B[0m \u001B[32m━━━━━━━━━━━━━━━━━━━━\u001B[0m\u001B[37m\u001B[0m \u001B[1m12s\u001B[0m 673ms/step - accuracy: 0.9466 - auc_7: 0.9865 - loss: 0.1603 - precision_7: 0.9485 - recall_7: 0.9346 - val_accuracy: 0.9080 - val_auc_7: 0.9682 - val_loss: 0.2229 - val_precision_7: 0.9023 - val_recall_7: 0.8943\n",
      "Epoch 16/30\n",
      "\u001B[1m18/18\u001B[0m \u001B[32m━━━━━━━━━━━━━━━━━━━━\u001B[0m\u001B[37m\u001B[0m \u001B[1m0s\u001B[0m 347ms/step - accuracy: 0.9560 - auc_7: 0.9903 - loss: 0.1340 - precision_7: 0.9574 - recall_7: 0.9467\n",
      "Epoch 16: val_loss improved from 0.22288 to 0.19713, saving model to ./checkpoints/best/signatures_e30.keras\n",
      "\u001B[1m18/18\u001B[0m \u001B[32m━━━━━━━━━━━━━━━━━━━━\u001B[0m\u001B[37m\u001B[0m \u001B[1m12s\u001B[0m 694ms/step - accuracy: 0.9562 - auc_7: 0.9903 - loss: 0.1336 - precision_7: 0.9574 - recall_7: 0.9470 - val_accuracy: 0.9214 - val_auc_7: 0.9762 - val_loss: 0.1971 - val_precision_7: 0.9012 - val_recall_7: 0.9300\n",
      "Epoch 17/30\n",
      "\u001B[1m18/18\u001B[0m \u001B[32m━━━━━━━━━━━━━━━━━━━━\u001B[0m\u001B[37m\u001B[0m \u001B[1m0s\u001B[0m 353ms/step - accuracy: 0.9680 - auc_7: 0.9943 - loss: 0.1070 - precision_7: 0.9694 - recall_7: 0.9598\n",
      "Epoch 17: val_loss improved from 0.19713 to 0.16893, saving model to ./checkpoints/best/signatures_e30.keras\n",
      "\u001B[1m18/18\u001B[0m \u001B[32m━━━━━━━━━━━━━━━━━━━━\u001B[0m\u001B[37m\u001B[0m \u001B[1m12s\u001B[0m 682ms/step - accuracy: 0.9681 - auc_7: 0.9944 - loss: 0.1066 - precision_7: 0.9695 - recall_7: 0.9598 - val_accuracy: 0.9353 - val_auc_7: 0.9807 - val_loss: 0.1689 - val_precision_7: 0.9323 - val_recall_7: 0.9240\n",
      "Epoch 18/30\n",
      "\u001B[1m18/18\u001B[0m \u001B[32m━━━━━━━━━━━━━━━━━━━━\u001B[0m\u001B[37m\u001B[0m \u001B[1m0s\u001B[0m 330ms/step - accuracy: 0.9780 - auc_7: 0.9970 - loss: 0.0827 - precision_7: 0.9857 - recall_7: 0.9669\n",
      "Epoch 18: val_loss did not improve from 0.16893\n",
      "\u001B[1m18/18\u001B[0m \u001B[32m━━━━━━━━━━━━━━━━━━━━\u001B[0m\u001B[37m\u001B[0m \u001B[1m12s\u001B[0m 675ms/step - accuracy: 0.9780 - auc_7: 0.9969 - loss: 0.0826 - precision_7: 0.9856 - recall_7: 0.9671 - val_accuracy: 0.9330 - val_auc_7: 0.9794 - val_loss: 0.1784 - val_precision_7: 0.9467 - val_recall_7: 0.9054\n",
      "Epoch 19/30\n",
      "\u001B[1m18/18\u001B[0m \u001B[32m━━━━━━━━━━━━━━━━━━━━\u001B[0m\u001B[37m\u001B[0m \u001B[1m0s\u001B[0m 330ms/step - accuracy: 0.9788 - auc_7: 0.9972 - loss: 0.0748 - precision_7: 0.9817 - recall_7: 0.9722\n",
      "Epoch 19: val_loss improved from 0.16893 to 0.14181, saving model to ./checkpoints/best/signatures_e30.keras\n",
      "\u001B[1m18/18\u001B[0m \u001B[32m━━━━━━━━━━━━━━━━━━━━\u001B[0m\u001B[37m\u001B[0m \u001B[1m12s\u001B[0m 682ms/step - accuracy: 0.9789 - auc_7: 0.9973 - loss: 0.0745 - precision_7: 0.9817 - recall_7: 0.9725 - val_accuracy: 0.9480 - val_auc_7: 0.9863 - val_loss: 0.1418 - val_precision_7: 0.9524 - val_recall_7: 0.9328\n",
      "Epoch 20/30\n",
      "\u001B[1m18/18\u001B[0m \u001B[32m━━━━━━━━━━━━━━━━━━━━\u001B[0m\u001B[37m\u001B[0m \u001B[1m0s\u001B[0m 319ms/step - accuracy: 0.9912 - auc_7: 0.9987 - loss: 0.0524 - precision_7: 0.9931 - recall_7: 0.9873\n",
      "Epoch 20: val_loss improved from 0.14181 to 0.13584, saving model to ./checkpoints/best/signatures_e30.keras\n",
      "\u001B[1m18/18\u001B[0m \u001B[32m━━━━━━━━━━━━━━━━━━━━\u001B[0m\u001B[37m\u001B[0m \u001B[1m12s\u001B[0m 661ms/step - accuracy: 0.9912 - auc_7: 0.9987 - loss: 0.0522 - precision_7: 0.9931 - recall_7: 0.9873 - val_accuracy: 0.9498 - val_auc_7: 0.9878 - val_loss: 0.1358 - val_precision_7: 0.9402 - val_recall_7: 0.9505\n",
      "Epoch 21/30\n",
      "\u001B[1m18/18\u001B[0m \u001B[32m━━━━━━━━━━━━━━━━━━━━\u001B[0m\u001B[37m\u001B[0m \u001B[1m0s\u001B[0m 344ms/step - accuracy: 0.9933 - auc_7: 0.9995 - loss: 0.0390 - precision_7: 0.9947 - recall_7: 0.9904\n",
      "Epoch 21: val_loss improved from 0.13584 to 0.12621, saving model to ./checkpoints/best/signatures_e30.keras\n",
      "\u001B[1m18/18\u001B[0m \u001B[32m━━━━━━━━━━━━━━━━━━━━\u001B[0m\u001B[37m\u001B[0m \u001B[1m12s\u001B[0m 679ms/step - accuracy: 0.9933 - auc_7: 0.9995 - loss: 0.0390 - precision_7: 0.9947 - recall_7: 0.9904 - val_accuracy: 0.9535 - val_auc_7: 0.9890 - val_loss: 0.1262 - val_precision_7: 0.9450 - val_recall_7: 0.9545\n",
      "Epoch 22/30\n",
      "\u001B[1m18/18\u001B[0m \u001B[32m━━━━━━━━━━━━━━━━━━━━\u001B[0m\u001B[37m\u001B[0m \u001B[1m0s\u001B[0m 324ms/step - accuracy: 0.9974 - auc_7: 0.9987 - loss: 0.0322 - precision_7: 0.9995 - recall_7: 0.9948\n",
      "Epoch 22: val_loss improved from 0.12621 to 0.12092, saving model to ./checkpoints/best/signatures_e30.keras\n",
      "\u001B[1m18/18\u001B[0m \u001B[32m━━━━━━━━━━━━━━━━━━━━\u001B[0m\u001B[37m\u001B[0m \u001B[1m11s\u001B[0m 644ms/step - accuracy: 0.9974 - auc_7: 0.9987 - loss: 0.0321 - precision_7: 0.9994 - recall_7: 0.9948 - val_accuracy: 0.9553 - val_auc_7: 0.9897 - val_loss: 0.1209 - val_precision_7: 0.9491 - val_recall_7: 0.9527\n",
      "Epoch 23/30\n",
      "\u001B[1m18/18\u001B[0m \u001B[32m━━━━━━━━━━━━━━━━━━━━\u001B[0m\u001B[37m\u001B[0m \u001B[1m0s\u001B[0m 339ms/step - accuracy: 0.9976 - auc_7: 0.9995 - loss: 0.0261 - precision_7: 0.9964 - recall_7: 0.9983\n",
      "Epoch 23: val_loss improved from 0.12092 to 0.11169, saving model to ./checkpoints/best/signatures_e30.keras\n",
      "\u001B[1m18/18\u001B[0m \u001B[32m━━━━━━━━━━━━━━━━━━━━\u001B[0m\u001B[37m\u001B[0m \u001B[1m12s\u001B[0m 661ms/step - accuracy: 0.9976 - auc_7: 0.9995 - loss: 0.0259 - precision_7: 0.9965 - recall_7: 0.9982 - val_accuracy: 0.9579 - val_auc_7: 0.9911 - val_loss: 0.1117 - val_precision_7: 0.9609 - val_recall_7: 0.9466\n",
      "Epoch 24/30\n",
      "\u001B[1m18/18\u001B[0m \u001B[32m━━━━━━━━━━━━━━━━━━━━\u001B[0m\u001B[37m\u001B[0m \u001B[1m0s\u001B[0m 339ms/step - accuracy: 0.9982 - auc_7: 0.9990 - loss: 0.0234 - precision_7: 0.9994 - recall_7: 0.9966\n",
      "Epoch 24: val_loss improved from 0.11169 to 0.10759, saving model to ./checkpoints/best/signatures_e30.keras\n",
      "\u001B[1m18/18\u001B[0m \u001B[32m━━━━━━━━━━━━━━━━━━━━\u001B[0m\u001B[37m\u001B[0m \u001B[1m12s\u001B[0m 686ms/step - accuracy: 0.9982 - auc_7: 0.9990 - loss: 0.0233 - precision_7: 0.9994 - recall_7: 0.9966 - val_accuracy: 0.9612 - val_auc_7: 0.9916 - val_loss: 0.1076 - val_precision_7: 0.9625 - val_recall_7: 0.9517\n",
      "Epoch 25/30\n",
      "\u001B[1m18/18\u001B[0m \u001B[32m━━━━━━━━━━━━━━━━━━━━\u001B[0m\u001B[37m\u001B[0m \u001B[1m0s\u001B[0m 336ms/step - accuracy: 0.9993 - auc_7: 0.9996 - loss: 0.0164 - precision_7: 0.9992 - recall_7: 0.9994\n",
      "Epoch 25: val_loss did not improve from 0.10759\n",
      "\u001B[1m18/18\u001B[0m \u001B[32m━━━━━━━━━━━━━━━━━━━━\u001B[0m\u001B[37m\u001B[0m \u001B[1m12s\u001B[0m 661ms/step - accuracy: 0.9993 - auc_7: 0.9996 - loss: 0.0164 - precision_7: 0.9992 - recall_7: 0.9994 - val_accuracy: 0.9571 - val_auc_7: 0.9901 - val_loss: 0.1192 - val_precision_7: 0.9608 - val_recall_7: 0.9444\n",
      "Epoch 26/30\n",
      "\u001B[1m18/18\u001B[0m \u001B[32m━━━━━━━━━━━━━━━━━━━━\u001B[0m\u001B[37m\u001B[0m \u001B[1m0s\u001B[0m 343ms/step - accuracy: 0.9988 - auc_7: 0.9989 - loss: 0.0184 - precision_7: 0.9995 - recall_7: 0.9978\n",
      "Epoch 26: val_loss improved from 0.10759 to 0.10194, saving model to ./checkpoints/best/signatures_e30.keras\n",
      "\u001B[1m18/18\u001B[0m \u001B[32m━━━━━━━━━━━━━━━━━━━━\u001B[0m\u001B[37m\u001B[0m \u001B[1m12s\u001B[0m 679ms/step - accuracy: 0.9988 - auc_7: 0.9989 - loss: 0.0183 - precision_7: 0.9995 - recall_7: 0.9978 - val_accuracy: 0.9624 - val_auc_7: 0.9925 - val_loss: 0.1019 - val_precision_7: 0.9674 - val_recall_7: 0.9501\n",
      "Epoch 27/30\n",
      "\u001B[1m18/18\u001B[0m \u001B[32m━━━━━━━━━━━━━━━━━━━━\u001B[0m\u001B[37m\u001B[0m \u001B[1m0s\u001B[0m 323ms/step - accuracy: 0.9997 - auc_7: 0.9998 - loss: 0.0107 - precision_7: 0.9996 - recall_7: 0.9997\n",
      "Epoch 27: val_loss improved from 0.10194 to 0.09626, saving model to ./checkpoints/best/signatures_e30.keras\n",
      "\u001B[1m18/18\u001B[0m \u001B[32m━━━━━━━━━━━━━━━━━━━━\u001B[0m\u001B[37m\u001B[0m \u001B[1m11s\u001B[0m 648ms/step - accuracy: 0.9997 - auc_7: 0.9998 - loss: 0.0107 - precision_7: 0.9996 - recall_7: 0.9997 - val_accuracy: 0.9658 - val_auc_7: 0.9928 - val_loss: 0.0963 - val_precision_7: 0.9705 - val_recall_7: 0.9540\n",
      "Epoch 28/30\n",
      "\u001B[1m18/18\u001B[0m \u001B[32m━━━━━━━━━━━━━━━━━━━━\u001B[0m\u001B[37m\u001B[0m \u001B[1m0s\u001B[0m 339ms/step - accuracy: 0.9994 - auc_7: 0.9994 - loss: 0.0112 - precision_7: 1.0000 - recall_7: 0.9987\n",
      "Epoch 28: val_loss did not improve from 0.09626\n",
      "\u001B[1m18/18\u001B[0m \u001B[32m━━━━━━━━━━━━━━━━━━━━\u001B[0m\u001B[37m\u001B[0m \u001B[1m11s\u001B[0m 652ms/step - accuracy: 0.9994 - auc_7: 0.9994 - loss: 0.0112 - precision_7: 1.0000 - recall_7: 0.9987 - val_accuracy: 0.9657 - val_auc_7: 0.9932 - val_loss: 0.0967 - val_precision_7: 0.9642 - val_recall_7: 0.9607\n",
      "Epoch 29/30\n",
      "\u001B[1m18/18\u001B[0m \u001B[32m━━━━━━━━━━━━━━━━━━━━\u001B[0m\u001B[37m\u001B[0m \u001B[1m0s\u001B[0m 334ms/step - accuracy: 0.9999 - auc_7: 1.0000 - loss: 0.0077 - precision_7: 1.0000 - recall_7: 0.9997\n",
      "Epoch 29: val_loss improved from 0.09626 to 0.09567, saving model to ./checkpoints/best/signatures_e30.keras\n",
      "\u001B[1m18/18\u001B[0m \u001B[32m━━━━━━━━━━━━━━━━━━━━\u001B[0m\u001B[37m\u001B[0m \u001B[1m12s\u001B[0m 688ms/step - accuracy: 0.9999 - auc_7: 1.0000 - loss: 0.0076 - precision_7: 1.0000 - recall_7: 0.9997 - val_accuracy: 0.9655 - val_auc_7: 0.9932 - val_loss: 0.0957 - val_precision_7: 0.9723 - val_recall_7: 0.9514\n",
      "Epoch 30/30\n",
      "\u001B[1m18/18\u001B[0m \u001B[32m━━━━━━━━━━━━━━━━━━━━\u001B[0m\u001B[37m\u001B[0m \u001B[1m0s\u001B[0m 331ms/step - accuracy: 0.9992 - auc_7: 0.9996 - loss: 0.0102 - precision_7: 1.0000 - recall_7: 0.9982\n",
      "Epoch 30: val_loss improved from 0.09567 to 0.09283, saving model to ./checkpoints/best/signatures_e30.keras\n",
      "\u001B[1m18/18\u001B[0m \u001B[32m━━━━━━━━━━━━━━━━━━━━\u001B[0m\u001B[37m\u001B[0m \u001B[1m11s\u001B[0m 656ms/step - accuracy: 0.9992 - auc_7: 0.9996 - loss: 0.0101 - precision_7: 1.0000 - recall_7: 0.9982 - val_accuracy: 0.9679 - val_auc_7: 0.9937 - val_loss: 0.0928 - val_precision_7: 0.9664 - val_recall_7: 0.9631\n"
     ]
    }
   ],
   "source": [
    "\n",
    "history = classifier.fit(\n",
    "    train_loader.generate(),\n",
    "    verbose=1,\n",
    "    steps_per_epoch=int(len(train_set) / batch_size),\n",
    "    epochs=30,\n",
    "    validation_data=val_loader.generate(),\n",
    "    validation_steps=int(len(val_set) / batch_size),\n",
    "    callbacks=[model_checkpoint_callback]\n",
    ")"
   ],
   "metadata": {
    "collapsed": false,
    "ExecuteTime": {
     "end_time": "2024-04-20T20:49:09.292454400Z",
     "start_time": "2024-04-20T20:43:06.268004700Z"
    }
   },
   "id": "2a6cd6bc54d169f2",
   "execution_count": 42
  },
  {
   "cell_type": "code",
   "outputs": [],
   "source": [
    "classifier.save_weights('./checkpoints/checkpoint1.ckpt')"
   ],
   "metadata": {
    "collapsed": false,
    "ExecuteTime": {
     "end_time": "2024-04-20T19:02:35.543403Z",
     "start_time": "2024-04-20T19:02:35.483799600Z"
    }
   },
   "id": "7e68949ab9aef6b5",
   "execution_count": 17
  },
  {
   "cell_type": "code",
   "outputs": [
    {
     "data": {
      "text/plain": "'D:\\\\python\\\\DataProcessingLabs'"
     },
     "execution_count": 11,
     "metadata": {},
     "output_type": "execute_result"
    }
   ],
   "source": [
    "import os\n",
    "\n",
    "os.getcwd()"
   ],
   "metadata": {
    "collapsed": false,
    "ExecuteTime": {
     "end_time": "2024-04-20T16:37:40.184933100Z",
     "start_time": "2024-04-20T16:37:40.131832300Z"
    }
   },
   "id": "88f050e94fd69376",
   "execution_count": 11
  }
 ],
 "metadata": {
  "kernelspec": {
   "display_name": "Python 3",
   "language": "python",
   "name": "python3"
  },
  "language_info": {
   "codemirror_mode": {
    "name": "ipython",
    "version": 2
   },
   "file_extension": ".py",
   "mimetype": "text/x-python",
   "name": "python",
   "nbconvert_exporter": "python",
   "pygments_lexer": "ipython2",
   "version": "2.7.6"
  }
 },
 "nbformat": 4,
 "nbformat_minor": 5
}
