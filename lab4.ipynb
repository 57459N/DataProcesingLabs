{
 "cells": [
  {
   "cell_type": "code",
   "execution_count": 2,
   "id": "initial_id",
   "metadata": {
    "collapsed": true,
    "ExecuteTime": {
     "end_time": "2024-04-18T11:23:16.456471600Z",
     "start_time": "2024-04-18T11:23:16.452470200Z"
    }
   },
   "outputs": [],
   "source": [
    "import pandas as pd"
   ]
  },
  {
   "cell_type": "code",
   "execution_count": 15,
   "outputs": [],
   "source": [
    "train_csv = pd.read_csv(\"data/sign_data/train_data.csv\", header=None)\n",
    "test_csv = pd.read_csv(\"data/sign_data/test_data.csv\", header=None)\n",
    "train_csv.columns = [\"id\", \"path\", \"forg\"]\n",
    "test_csv.columns = [\"id\", \"path\", \"forg\"]"
   ],
   "metadata": {
    "collapsed": false,
    "ExecuteTime": {
     "end_time": "2024-04-18T11:28:37.358881700Z",
     "start_time": "2024-04-18T11:28:37.293363900Z"
    }
   },
   "id": "4d1e2bb861fa6136"
  },
  {
   "cell_type": "code",
   "execution_count": 17,
   "outputs": [
    {
     "data": {
      "text/plain": "               id                     path  forg\n0  068/09_068.png  068_forg/03_0113068.PNG     1\n1  068/09_068.png  068_forg/01_0124068.PNG     1\n2  068/09_068.png  068_forg/02_0124068.PNG     1\n3  068/09_068.png  068_forg/01_0113068.PNG     1\n4  068/09_068.png  068_forg/04_0124068.PNG     1",
      "text/html": "<div>\n<style scoped>\n    .dataframe tbody tr th:only-of-type {\n        vertical-align: middle;\n    }\n\n    .dataframe tbody tr th {\n        vertical-align: top;\n    }\n\n    .dataframe thead th {\n        text-align: right;\n    }\n</style>\n<table border=\"1\" class=\"dataframe\">\n  <thead>\n    <tr style=\"text-align: right;\">\n      <th></th>\n      <th>id</th>\n      <th>path</th>\n      <th>forg</th>\n    </tr>\n  </thead>\n  <tbody>\n    <tr>\n      <th>0</th>\n      <td>068/09_068.png</td>\n      <td>068_forg/03_0113068.PNG</td>\n      <td>1</td>\n    </tr>\n    <tr>\n      <th>1</th>\n      <td>068/09_068.png</td>\n      <td>068_forg/01_0124068.PNG</td>\n      <td>1</td>\n    </tr>\n    <tr>\n      <th>2</th>\n      <td>068/09_068.png</td>\n      <td>068_forg/02_0124068.PNG</td>\n      <td>1</td>\n    </tr>\n    <tr>\n      <th>3</th>\n      <td>068/09_068.png</td>\n      <td>068_forg/01_0113068.PNG</td>\n      <td>1</td>\n    </tr>\n    <tr>\n      <th>4</th>\n      <td>068/09_068.png</td>\n      <td>068_forg/04_0124068.PNG</td>\n      <td>1</td>\n    </tr>\n  </tbody>\n</table>\n</div>"
     },
     "execution_count": 17,
     "metadata": {},
     "output_type": "execute_result"
    }
   ],
   "source": [
    "train_csv.head()"
   ],
   "metadata": {
    "collapsed": false,
    "ExecuteTime": {
     "end_time": "2024-04-18T11:29:36.488986500Z",
     "start_time": "2024-04-18T11:29:36.392996100Z"
    }
   },
   "id": "38082e4400182336"
  },
  {
   "cell_type": "code",
   "execution_count": null,
   "outputs": [],
   "source": [],
   "metadata": {
    "collapsed": false
   },
   "id": "8c0bad604242b51b"
  }
 ],
 "metadata": {
  "kernelspec": {
   "display_name": "Python 3",
   "language": "python",
   "name": "python3"
  },
  "language_info": {
   "codemirror_mode": {
    "name": "ipython",
    "version": 2
   },
   "file_extension": ".py",
   "mimetype": "text/x-python",
   "name": "python",
   "nbconvert_exporter": "python",
   "pygments_lexer": "ipython2",
   "version": "2.7.6"
  }
 },
 "nbformat": 4,
 "nbformat_minor": 5
}
