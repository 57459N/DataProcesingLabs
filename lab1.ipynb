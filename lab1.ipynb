{
 "cells": [
  {
   "cell_type": "code",
   "execution_count": 432,
   "id": "initial_id",
   "metadata": {
    "collapsed": true,
    "ExecuteTime": {
     "end_time": "2024-02-29T17:52:28.959288600Z",
     "start_time": "2024-02-29T17:52:28.932883400Z"
    }
   },
   "outputs": [],
   "source": [
    "import pandas as pd\n",
    "import numpy as np\n",
    "import matplotlib.pyplot as plt\n",
    "from datetime import datetime\n",
    "from copy import deepcopy\n",
    "\n",
    "from sklearn.linear_model import LogisticRegression\n",
    "from sklearn.metrics import accuracy_score, precision_score, recall_score, f1_score\n",
    "from sklearn.model_selection import train_test_split, GridSearchCV\n",
    "from sklearn.preprocessing import StandardScaler\n"
   ]
  },
  {
   "cell_type": "code",
   "outputs": [],
   "source": [
    "df_save = pd.read_csv('./data/dataset_lab1.csv', sep=',')\n",
    "df = deepcopy(df_save)"
   ],
   "metadata": {
    "collapsed": false,
    "ExecuteTime": {
     "end_time": "2024-02-29T16:47:50.321088100Z",
     "start_time": "2024-02-29T16:47:50.139928800Z"
    }
   },
   "id": "57c81d27d5279e95",
   "execution_count": 321
  },
  {
   "cell_type": "code",
   "outputs": [
    {
     "data": {
      "text/plain": "          URL  URL_LENGTH  NUMBER_SPECIAL_CHARACTERS     CHARSET  \\\n0      M0_109          16                          7  iso-8859-1   \n1     B0_2314          16                          6       UTF-8   \n2      B0_911          16                          6    us-ascii   \n3      B0_113          17                          6  ISO-8859-1   \n4      B0_403          17                          6       UTF-8   \n...       ...         ...                        ...         ...   \n1776    M4_48         194                         16       UTF-8   \n1777    M4_41         198                         17       UTF-8   \n1778   B0_162         201                         34       utf-8   \n1779  B0_1152         234                         34  ISO-8859-1   \n1780   B0_676         249                         40       utf-8   \n\n                      SERVER  CONTENT_LENGTH WHOIS_COUNTRY WHOIS_STATEPRO  \\\n0                      nginx           263.0           NaN            NaN   \n1              Apache/2.4.10         15087.0           NaN            NaN   \n2      Microsoft-HTTPAPI/2.0           324.0           NaN            NaN   \n3                      nginx           162.0            US             AK   \n4                        NaN        124140.0            US             TX   \n...                      ...             ...           ...            ...   \n1776                  Apache             NaN            ES      Barcelona   \n1777                  Apache             NaN            ES      Barcelona   \n1778  Apache/2.2.16 (Debian)          8904.0            US             FL   \n1779        cloudflare-nginx             NaN            US             CA   \n1780       Microsoft-IIS/8.5         24435.0            US      Wisconsin   \n\n         WHOIS_REGDATE WHOIS_UPDATED_DATE  ...  DIST_REMOTE_TCP_PORT  \\\n0     10/10/2015 18:21                NaN  ...                     0   \n1                  NaN                NaN  ...                     7   \n2                  NaN                NaN  ...                     0   \n3       7/10/1997 4:00    12/09/2013 0:45  ...                    22   \n4      12/05/1996 0:00    11/04/2017 0:00  ...                     2   \n...                ...                ...  ...                   ...   \n1776   17/09/2008 0:00     2/09/2016 0:00  ...                     0   \n1777   17/09/2008 0:00     2/09/2016 0:00  ...                     0   \n1778   15/02/1999 0:00    15/07/2015 0:00  ...                     2   \n1779    1/04/1998 0:00     9/12/2016 0:00  ...                     0   \n1780   14/11/2008 0:00    20/11/2013 0:00  ...                     6   \n\n      REMOTE_IPS  APP_BYTES  SOURCE_APP_PACKETS  REMOTE_APP_PACKETS  \\\n0              2        700                   9                  10   \n1              4       1230                  17                  19   \n2              0          0                   0                   0   \n3              3       3812                  39                  37   \n4              5       4278                  61                  62   \n...          ...        ...                 ...                 ...   \n1776           0          0                   0                   3   \n1777           0          0                   0                   2   \n1778           6       6631                  87                  89   \n1779           0          0                   0                   0   \n1780          11       2314                  25                  28   \n\n      SOURCE_APP_BYTES  REMOTE_APP_BYTES  APP_PACKETS  DNS_QUERY_TIMES  Type  \n0                 1153               832            9              2.0     1  \n1                 1265              1230           17              0.0     0  \n2                    0                 0            0              0.0     0  \n3                18784              4380           39              8.0     0  \n4               129889              4586           61              4.0     0  \n...                ...               ...          ...              ...   ...  \n1776               186                 0            0              0.0     1  \n1777               124                 0            0              0.0     1  \n1778            132181              6945           87              4.0     0  \n1779                 0                 0            0              0.0     0  \n1780              3039              2776           25              6.0     0  \n\n[1781 rows x 21 columns]",
      "text/html": "<div>\n<style scoped>\n    .dataframe tbody tr th:only-of-type {\n        vertical-align: middle;\n    }\n\n    .dataframe tbody tr th {\n        vertical-align: top;\n    }\n\n    .dataframe thead th {\n        text-align: right;\n    }\n</style>\n<table border=\"1\" class=\"dataframe\">\n  <thead>\n    <tr style=\"text-align: right;\">\n      <th></th>\n      <th>URL</th>\n      <th>URL_LENGTH</th>\n      <th>NUMBER_SPECIAL_CHARACTERS</th>\n      <th>CHARSET</th>\n      <th>SERVER</th>\n      <th>CONTENT_LENGTH</th>\n      <th>WHOIS_COUNTRY</th>\n      <th>WHOIS_STATEPRO</th>\n      <th>WHOIS_REGDATE</th>\n      <th>WHOIS_UPDATED_DATE</th>\n      <th>...</th>\n      <th>DIST_REMOTE_TCP_PORT</th>\n      <th>REMOTE_IPS</th>\n      <th>APP_BYTES</th>\n      <th>SOURCE_APP_PACKETS</th>\n      <th>REMOTE_APP_PACKETS</th>\n      <th>SOURCE_APP_BYTES</th>\n      <th>REMOTE_APP_BYTES</th>\n      <th>APP_PACKETS</th>\n      <th>DNS_QUERY_TIMES</th>\n      <th>Type</th>\n    </tr>\n  </thead>\n  <tbody>\n    <tr>\n      <th>0</th>\n      <td>M0_109</td>\n      <td>16</td>\n      <td>7</td>\n      <td>iso-8859-1</td>\n      <td>nginx</td>\n      <td>263.0</td>\n      <td>NaN</td>\n      <td>NaN</td>\n      <td>10/10/2015 18:21</td>\n      <td>NaN</td>\n      <td>...</td>\n      <td>0</td>\n      <td>2</td>\n      <td>700</td>\n      <td>9</td>\n      <td>10</td>\n      <td>1153</td>\n      <td>832</td>\n      <td>9</td>\n      <td>2.0</td>\n      <td>1</td>\n    </tr>\n    <tr>\n      <th>1</th>\n      <td>B0_2314</td>\n      <td>16</td>\n      <td>6</td>\n      <td>UTF-8</td>\n      <td>Apache/2.4.10</td>\n      <td>15087.0</td>\n      <td>NaN</td>\n      <td>NaN</td>\n      <td>NaN</td>\n      <td>NaN</td>\n      <td>...</td>\n      <td>7</td>\n      <td>4</td>\n      <td>1230</td>\n      <td>17</td>\n      <td>19</td>\n      <td>1265</td>\n      <td>1230</td>\n      <td>17</td>\n      <td>0.0</td>\n      <td>0</td>\n    </tr>\n    <tr>\n      <th>2</th>\n      <td>B0_911</td>\n      <td>16</td>\n      <td>6</td>\n      <td>us-ascii</td>\n      <td>Microsoft-HTTPAPI/2.0</td>\n      <td>324.0</td>\n      <td>NaN</td>\n      <td>NaN</td>\n      <td>NaN</td>\n      <td>NaN</td>\n      <td>...</td>\n      <td>0</td>\n      <td>0</td>\n      <td>0</td>\n      <td>0</td>\n      <td>0</td>\n      <td>0</td>\n      <td>0</td>\n      <td>0</td>\n      <td>0.0</td>\n      <td>0</td>\n    </tr>\n    <tr>\n      <th>3</th>\n      <td>B0_113</td>\n      <td>17</td>\n      <td>6</td>\n      <td>ISO-8859-1</td>\n      <td>nginx</td>\n      <td>162.0</td>\n      <td>US</td>\n      <td>AK</td>\n      <td>7/10/1997 4:00</td>\n      <td>12/09/2013 0:45</td>\n      <td>...</td>\n      <td>22</td>\n      <td>3</td>\n      <td>3812</td>\n      <td>39</td>\n      <td>37</td>\n      <td>18784</td>\n      <td>4380</td>\n      <td>39</td>\n      <td>8.0</td>\n      <td>0</td>\n    </tr>\n    <tr>\n      <th>4</th>\n      <td>B0_403</td>\n      <td>17</td>\n      <td>6</td>\n      <td>UTF-8</td>\n      <td>NaN</td>\n      <td>124140.0</td>\n      <td>US</td>\n      <td>TX</td>\n      <td>12/05/1996 0:00</td>\n      <td>11/04/2017 0:00</td>\n      <td>...</td>\n      <td>2</td>\n      <td>5</td>\n      <td>4278</td>\n      <td>61</td>\n      <td>62</td>\n      <td>129889</td>\n      <td>4586</td>\n      <td>61</td>\n      <td>4.0</td>\n      <td>0</td>\n    </tr>\n    <tr>\n      <th>...</th>\n      <td>...</td>\n      <td>...</td>\n      <td>...</td>\n      <td>...</td>\n      <td>...</td>\n      <td>...</td>\n      <td>...</td>\n      <td>...</td>\n      <td>...</td>\n      <td>...</td>\n      <td>...</td>\n      <td>...</td>\n      <td>...</td>\n      <td>...</td>\n      <td>...</td>\n      <td>...</td>\n      <td>...</td>\n      <td>...</td>\n      <td>...</td>\n      <td>...</td>\n      <td>...</td>\n    </tr>\n    <tr>\n      <th>1776</th>\n      <td>M4_48</td>\n      <td>194</td>\n      <td>16</td>\n      <td>UTF-8</td>\n      <td>Apache</td>\n      <td>NaN</td>\n      <td>ES</td>\n      <td>Barcelona</td>\n      <td>17/09/2008 0:00</td>\n      <td>2/09/2016 0:00</td>\n      <td>...</td>\n      <td>0</td>\n      <td>0</td>\n      <td>0</td>\n      <td>0</td>\n      <td>3</td>\n      <td>186</td>\n      <td>0</td>\n      <td>0</td>\n      <td>0.0</td>\n      <td>1</td>\n    </tr>\n    <tr>\n      <th>1777</th>\n      <td>M4_41</td>\n      <td>198</td>\n      <td>17</td>\n      <td>UTF-8</td>\n      <td>Apache</td>\n      <td>NaN</td>\n      <td>ES</td>\n      <td>Barcelona</td>\n      <td>17/09/2008 0:00</td>\n      <td>2/09/2016 0:00</td>\n      <td>...</td>\n      <td>0</td>\n      <td>0</td>\n      <td>0</td>\n      <td>0</td>\n      <td>2</td>\n      <td>124</td>\n      <td>0</td>\n      <td>0</td>\n      <td>0.0</td>\n      <td>1</td>\n    </tr>\n    <tr>\n      <th>1778</th>\n      <td>B0_162</td>\n      <td>201</td>\n      <td>34</td>\n      <td>utf-8</td>\n      <td>Apache/2.2.16 (Debian)</td>\n      <td>8904.0</td>\n      <td>US</td>\n      <td>FL</td>\n      <td>15/02/1999 0:00</td>\n      <td>15/07/2015 0:00</td>\n      <td>...</td>\n      <td>2</td>\n      <td>6</td>\n      <td>6631</td>\n      <td>87</td>\n      <td>89</td>\n      <td>132181</td>\n      <td>6945</td>\n      <td>87</td>\n      <td>4.0</td>\n      <td>0</td>\n    </tr>\n    <tr>\n      <th>1779</th>\n      <td>B0_1152</td>\n      <td>234</td>\n      <td>34</td>\n      <td>ISO-8859-1</td>\n      <td>cloudflare-nginx</td>\n      <td>NaN</td>\n      <td>US</td>\n      <td>CA</td>\n      <td>1/04/1998 0:00</td>\n      <td>9/12/2016 0:00</td>\n      <td>...</td>\n      <td>0</td>\n      <td>0</td>\n      <td>0</td>\n      <td>0</td>\n      <td>0</td>\n      <td>0</td>\n      <td>0</td>\n      <td>0</td>\n      <td>0.0</td>\n      <td>0</td>\n    </tr>\n    <tr>\n      <th>1780</th>\n      <td>B0_676</td>\n      <td>249</td>\n      <td>40</td>\n      <td>utf-8</td>\n      <td>Microsoft-IIS/8.5</td>\n      <td>24435.0</td>\n      <td>US</td>\n      <td>Wisconsin</td>\n      <td>14/11/2008 0:00</td>\n      <td>20/11/2013 0:00</td>\n      <td>...</td>\n      <td>6</td>\n      <td>11</td>\n      <td>2314</td>\n      <td>25</td>\n      <td>28</td>\n      <td>3039</td>\n      <td>2776</td>\n      <td>25</td>\n      <td>6.0</td>\n      <td>0</td>\n    </tr>\n  </tbody>\n</table>\n<p>1781 rows × 21 columns</p>\n</div>"
     },
     "execution_count": 322,
     "metadata": {},
     "output_type": "execute_result"
    }
   ],
   "source": [
    "df"
   ],
   "metadata": {
    "collapsed": false,
    "ExecuteTime": {
     "end_time": "2024-02-29T16:47:50.534065800Z",
     "start_time": "2024-02-29T16:47:50.327625100Z"
    }
   },
   "id": "72ec481763e73cbd",
   "execution_count": 322
  },
  {
   "cell_type": "code",
   "outputs": [],
   "source": [
    "df.drop('URL', axis=1, inplace=True)"
   ],
   "metadata": {
    "collapsed": false,
    "ExecuteTime": {
     "end_time": "2024-02-29T16:47:50.539063800Z",
     "start_time": "2024-02-29T16:47:50.508063100Z"
    }
   },
   "id": "5d33d07bd2611e07",
   "execution_count": 323
  },
  {
   "cell_type": "code",
   "outputs": [
    {
     "data": {
      "text/plain": "array(['iso-8859-1', 'UTF-8', 'us-ascii', 'ISO-8859-1', 'utf-8', nan,\n       'windows-1251', 'ISO-8859', 'windows-1252'], dtype=object)"
     },
     "execution_count": 324,
     "metadata": {},
     "output_type": "execute_result"
    }
   ],
   "source": [
    "df.CHARSET.unique()"
   ],
   "metadata": {
    "collapsed": false,
    "ExecuteTime": {
     "end_time": "2024-02-29T16:47:50.733065800Z",
     "start_time": "2024-02-29T16:47:50.547649800Z"
    }
   },
   "id": "19be8c0bcb580e62",
   "execution_count": 324
  },
  {
   "cell_type": "code",
   "outputs": [
    {
     "name": "stderr",
     "output_type": "stream",
     "text": [
      "C:\\Users\\57459N\\AppData\\Local\\Temp\\ipykernel_17540\\3563241052.py:3: SettingWithCopyWarning: \n",
      "A value is trying to be set on a copy of a slice from a DataFrame.\n",
      "Try using .loc[row_indexer,col_indexer] = value instead\n",
      "\n",
      "See the caveats in the documentation: https://pandas.pydata.org/pandas-docs/stable/user_guide/indexing.html#returning-a-view-versus-a-copy\n",
      "  df.CHARSET = df.CHARSET.apply(lambda x: x.lower())\n"
     ]
    }
   ],
   "source": [
    "# filtering CHARSET\n",
    "df = df[df.CHARSET.notna()]\n",
    "df.CHARSET = df.CHARSET.apply(lambda x: x.lower())\n",
    "counts = df['CHARSET'].value_counts()\n",
    "counts = counts[counts > 1]\n",
    "df = df.query('CHARSET in @counts.keys()')"
   ],
   "metadata": {
    "collapsed": false,
    "ExecuteTime": {
     "end_time": "2024-02-29T16:47:50.835093200Z",
     "start_time": "2024-02-29T16:47:50.607257Z"
    }
   },
   "id": "adfb4b0c9e7f257f",
   "execution_count": 325
  },
  {
   "cell_type": "code",
   "outputs": [],
   "source": [
    "# drop rows with no servers\n",
    "df = df[df.SERVER.notna()]"
   ],
   "metadata": {
    "collapsed": false,
    "ExecuteTime": {
     "end_time": "2024-02-29T16:47:50.943881300Z",
     "start_time": "2024-02-29T16:47:50.840092800Z"
    }
   },
   "id": "e07905f1fb50eef5",
   "execution_count": 326
  },
  {
   "cell_type": "code",
   "outputs": [],
   "source": [
    "df.drop('CONTENT_LENGTH', axis=1, inplace=True)"
   ],
   "metadata": {
    "collapsed": false,
    "ExecuteTime": {
     "end_time": "2024-02-29T16:47:51.107674900Z",
     "start_time": "2024-02-29T16:47:50.935370800Z"
    }
   },
   "id": "2894de9a7836acfc",
   "execution_count": 327
  },
  {
   "cell_type": "code",
   "outputs": [],
   "source": [
    "df.drop(['WHOIS_COUNTRY', 'WHOIS_STATEPRO'], axis=1, inplace=True)"
   ],
   "metadata": {
    "collapsed": false,
    "ExecuteTime": {
     "end_time": "2024-02-29T16:47:51.198091400Z",
     "start_time": "2024-02-29T16:47:51.067074700Z"
    }
   },
   "id": "b0cfc093b3813ac8",
   "execution_count": 328
  },
  {
   "cell_type": "code",
   "outputs": [],
   "source": [
    "def my_datetime(_dt: str):\n",
    "    if _dt in [None, '0', 'b', np.nan]:\n",
    "        return np.nan\n",
    "\n",
    "    if _dt in ['2002-03-20T23:59:59.0Z', '2017-03-07T22:02:38.0Z']:\n",
    "        return np.nan\n",
    "\n",
    "    return datetime.strptime(_dt, '%d/%m/%Y %H:%M')\n",
    "\n",
    "\n",
    "df['WHOIS_REGDATE'] = df['WHOIS_REGDATE'].apply(my_datetime)\n",
    "df['WHOIS_UPDATED_DATE'] = df['WHOIS_UPDATED_DATE'].apply(my_datetime)"
   ],
   "metadata": {
    "collapsed": false,
    "ExecuteTime": {
     "end_time": "2024-02-29T16:47:51.280730900Z",
     "start_time": "2024-02-29T16:47:51.167240800Z"
    }
   },
   "id": "d292d982eeb9b7ba",
   "execution_count": 329
  },
  {
   "cell_type": "code",
   "outputs": [],
   "source": [
    "df.loc[df.WHOIS_REGDATE.isna(), \"WHOIS_REGDATE\"] = df.WHOIS_REGDATE.median()\n",
    "df.loc[df.WHOIS_UPDATED_DATE.isna(), \"WHOIS_UPDATED_DATE\"] = df.WHOIS_UPDATED_DATE.median()"
   ],
   "metadata": {
    "collapsed": false,
    "ExecuteTime": {
     "end_time": "2024-02-29T16:47:51.387283700Z",
     "start_time": "2024-02-29T16:47:51.284763500Z"
    }
   },
   "id": "f3482e37170d6e70",
   "execution_count": 330
  },
  {
   "cell_type": "code",
   "outputs": [],
   "source": [
    "df = df[df.DNS_QUERY_TIMES.notna()]"
   ],
   "metadata": {
    "collapsed": false,
    "ExecuteTime": {
     "end_time": "2024-02-29T16:47:51.391282200Z",
     "start_time": "2024-02-29T16:47:51.323563100Z"
    }
   },
   "id": "5f5a575bbefbda2f",
   "execution_count": 331
  },
  {
   "cell_type": "code",
   "outputs": [
    {
     "data": {
      "text/plain": "WHOIS_REGDATE\n2001-11-06 01:42:00    130\n2008-09-17 00:00:00     62\n2001-01-13 00:12:00     59\n2000-07-31 00:00:00     47\n2005-02-15 00:00:00     41\n                      ... \n1999-08-16 00:00:00      1\n2002-07-18 00:00:00      1\n1994-11-23 00:00:00      1\n2015-08-30 00:00:00      1\n2008-11-14 00:00:00      1\nName: count, Length: 824, dtype: int64"
     },
     "execution_count": 332,
     "metadata": {},
     "output_type": "execute_result"
    }
   ],
   "source": [
    "df.WHOIS_REGDATE.value_counts()"
   ],
   "metadata": {
    "collapsed": false,
    "ExecuteTime": {
     "end_time": "2024-02-29T16:47:51.501934600Z",
     "start_time": "2024-02-29T16:47:51.402281500Z"
    }
   },
   "id": "2c27f8a2349f4194",
   "execution_count": 332
  },
  {
   "cell_type": "code",
   "outputs": [],
   "source": [
    "servers = df.SERVER.value_counts()\n",
    "servers = servers[servers > 10]\n",
    "servers_list = tuple(servers.index.to_list())\n",
    "\n",
    "\n",
    "def my_server(_server):\n",
    "    return _server if _server in servers_list else 'other'"
   ],
   "metadata": {
    "collapsed": false,
    "ExecuteTime": {
     "end_time": "2024-02-29T16:47:51.591247400Z",
     "start_time": "2024-02-29T16:47:51.449859700Z"
    }
   },
   "id": "d74f8dcd3805995e",
   "execution_count": 333
  },
  {
   "cell_type": "code",
   "outputs": [],
   "source": [
    "df.SERVER = df.SERVER.apply(my_server)"
   ],
   "metadata": {
    "collapsed": false,
    "ExecuteTime": {
     "end_time": "2024-02-29T16:47:51.643435400Z",
     "start_time": "2024-02-29T16:47:51.559585100Z"
    }
   },
   "id": "2b5a44117a6fae22",
   "execution_count": 334
  },
  {
   "cell_type": "code",
   "outputs": [
    {
     "data": {
      "text/plain": "      URL_LENGTH  NUMBER_SPECIAL_CHARACTERS     CHARSET  \\\n0             16                          7  iso-8859-1   \n1             16                          6       utf-8   \n2             16                          6    us-ascii   \n3             17                          6  iso-8859-1   \n5             18                          7       utf-8   \n...          ...                        ...         ...   \n1776         194                         16       utf-8   \n1777         198                         17       utf-8   \n1778         201                         34       utf-8   \n1779         234                         34  iso-8859-1   \n1780         249                         40       utf-8   \n\n                     SERVER       WHOIS_REGDATE  WHOIS_UPDATED_DATE  \\\n0                     nginx 2015-10-10 18:21:00 2016-08-16 00:00:00   \n1                     other 2001-11-06 01:42:00 2016-08-16 00:00:00   \n2     Microsoft-HTTPAPI/2.0 2001-11-06 01:42:00 2016-08-16 00:00:00   \n3                     nginx 1997-10-07 04:00:00 2013-09-12 00:45:00   \n5                     nginx 2016-08-03 14:30:00 2016-10-03 03:45:00   \n...                     ...                 ...                 ...   \n1776                 Apache 2008-09-17 00:00:00 2016-09-02 00:00:00   \n1777                 Apache 2008-09-17 00:00:00 2016-09-02 00:00:00   \n1778                  other 1999-02-15 00:00:00 2015-07-15 00:00:00   \n1779       cloudflare-nginx 1998-04-01 00:00:00 2016-12-09 00:00:00   \n1780      Microsoft-IIS/8.5 2008-11-14 00:00:00 2013-11-20 00:00:00   \n\n      TCP_CONVERSATION_EXCHANGE  DIST_REMOTE_TCP_PORT  REMOTE_IPS  APP_BYTES  \\\n0                             7                     0           2        700   \n1                            17                     7           4       1230   \n2                             0                     0           0          0   \n3                            31                    22           3       3812   \n5                            11                     6           9        894   \n...                         ...                   ...         ...        ...   \n1776                          0                     0           0          0   \n1777                          0                     0           0          0   \n1778                         83                     2           6       6631   \n1779                          0                     0           0          0   \n1780                         19                     6          11       2314   \n\n      SOURCE_APP_PACKETS  REMOTE_APP_PACKETS  SOURCE_APP_BYTES  \\\n0                      9                  10              1153   \n1                     17                  19              1265   \n2                      0                   0                 0   \n3                     39                  37             18784   \n5                     11                  13               838   \n...                  ...                 ...               ...   \n1776                   0                   3               186   \n1777                   0                   2               124   \n1778                  87                  89            132181   \n1779                   0                   0                 0   \n1780                  25                  28              3039   \n\n      REMOTE_APP_BYTES  APP_PACKETS  DNS_QUERY_TIMES  Type  \n0                  832            9              2.0     1  \n1                 1230           17              0.0     0  \n2                    0            0              0.0     0  \n3                 4380           39              8.0     0  \n5                  894           11              0.0     0  \n...                ...          ...              ...   ...  \n1776                 0            0              0.0     1  \n1777                 0            0              0.0     1  \n1778              6945           87              4.0     0  \n1779                 0            0              0.0     0  \n1780              2776           25              6.0     0  \n\n[1595 rows x 17 columns]",
      "text/html": "<div>\n<style scoped>\n    .dataframe tbody tr th:only-of-type {\n        vertical-align: middle;\n    }\n\n    .dataframe tbody tr th {\n        vertical-align: top;\n    }\n\n    .dataframe thead th {\n        text-align: right;\n    }\n</style>\n<table border=\"1\" class=\"dataframe\">\n  <thead>\n    <tr style=\"text-align: right;\">\n      <th></th>\n      <th>URL_LENGTH</th>\n      <th>NUMBER_SPECIAL_CHARACTERS</th>\n      <th>CHARSET</th>\n      <th>SERVER</th>\n      <th>WHOIS_REGDATE</th>\n      <th>WHOIS_UPDATED_DATE</th>\n      <th>TCP_CONVERSATION_EXCHANGE</th>\n      <th>DIST_REMOTE_TCP_PORT</th>\n      <th>REMOTE_IPS</th>\n      <th>APP_BYTES</th>\n      <th>SOURCE_APP_PACKETS</th>\n      <th>REMOTE_APP_PACKETS</th>\n      <th>SOURCE_APP_BYTES</th>\n      <th>REMOTE_APP_BYTES</th>\n      <th>APP_PACKETS</th>\n      <th>DNS_QUERY_TIMES</th>\n      <th>Type</th>\n    </tr>\n  </thead>\n  <tbody>\n    <tr>\n      <th>0</th>\n      <td>16</td>\n      <td>7</td>\n      <td>iso-8859-1</td>\n      <td>nginx</td>\n      <td>2015-10-10 18:21:00</td>\n      <td>2016-08-16 00:00:00</td>\n      <td>7</td>\n      <td>0</td>\n      <td>2</td>\n      <td>700</td>\n      <td>9</td>\n      <td>10</td>\n      <td>1153</td>\n      <td>832</td>\n      <td>9</td>\n      <td>2.0</td>\n      <td>1</td>\n    </tr>\n    <tr>\n      <th>1</th>\n      <td>16</td>\n      <td>6</td>\n      <td>utf-8</td>\n      <td>other</td>\n      <td>2001-11-06 01:42:00</td>\n      <td>2016-08-16 00:00:00</td>\n      <td>17</td>\n      <td>7</td>\n      <td>4</td>\n      <td>1230</td>\n      <td>17</td>\n      <td>19</td>\n      <td>1265</td>\n      <td>1230</td>\n      <td>17</td>\n      <td>0.0</td>\n      <td>0</td>\n    </tr>\n    <tr>\n      <th>2</th>\n      <td>16</td>\n      <td>6</td>\n      <td>us-ascii</td>\n      <td>Microsoft-HTTPAPI/2.0</td>\n      <td>2001-11-06 01:42:00</td>\n      <td>2016-08-16 00:00:00</td>\n      <td>0</td>\n      <td>0</td>\n      <td>0</td>\n      <td>0</td>\n      <td>0</td>\n      <td>0</td>\n      <td>0</td>\n      <td>0</td>\n      <td>0</td>\n      <td>0.0</td>\n      <td>0</td>\n    </tr>\n    <tr>\n      <th>3</th>\n      <td>17</td>\n      <td>6</td>\n      <td>iso-8859-1</td>\n      <td>nginx</td>\n      <td>1997-10-07 04:00:00</td>\n      <td>2013-09-12 00:45:00</td>\n      <td>31</td>\n      <td>22</td>\n      <td>3</td>\n      <td>3812</td>\n      <td>39</td>\n      <td>37</td>\n      <td>18784</td>\n      <td>4380</td>\n      <td>39</td>\n      <td>8.0</td>\n      <td>0</td>\n    </tr>\n    <tr>\n      <th>5</th>\n      <td>18</td>\n      <td>7</td>\n      <td>utf-8</td>\n      <td>nginx</td>\n      <td>2016-08-03 14:30:00</td>\n      <td>2016-10-03 03:45:00</td>\n      <td>11</td>\n      <td>6</td>\n      <td>9</td>\n      <td>894</td>\n      <td>11</td>\n      <td>13</td>\n      <td>838</td>\n      <td>894</td>\n      <td>11</td>\n      <td>0.0</td>\n      <td>0</td>\n    </tr>\n    <tr>\n      <th>...</th>\n      <td>...</td>\n      <td>...</td>\n      <td>...</td>\n      <td>...</td>\n      <td>...</td>\n      <td>...</td>\n      <td>...</td>\n      <td>...</td>\n      <td>...</td>\n      <td>...</td>\n      <td>...</td>\n      <td>...</td>\n      <td>...</td>\n      <td>...</td>\n      <td>...</td>\n      <td>...</td>\n      <td>...</td>\n    </tr>\n    <tr>\n      <th>1776</th>\n      <td>194</td>\n      <td>16</td>\n      <td>utf-8</td>\n      <td>Apache</td>\n      <td>2008-09-17 00:00:00</td>\n      <td>2016-09-02 00:00:00</td>\n      <td>0</td>\n      <td>0</td>\n      <td>0</td>\n      <td>0</td>\n      <td>0</td>\n      <td>3</td>\n      <td>186</td>\n      <td>0</td>\n      <td>0</td>\n      <td>0.0</td>\n      <td>1</td>\n    </tr>\n    <tr>\n      <th>1777</th>\n      <td>198</td>\n      <td>17</td>\n      <td>utf-8</td>\n      <td>Apache</td>\n      <td>2008-09-17 00:00:00</td>\n      <td>2016-09-02 00:00:00</td>\n      <td>0</td>\n      <td>0</td>\n      <td>0</td>\n      <td>0</td>\n      <td>0</td>\n      <td>2</td>\n      <td>124</td>\n      <td>0</td>\n      <td>0</td>\n      <td>0.0</td>\n      <td>1</td>\n    </tr>\n    <tr>\n      <th>1778</th>\n      <td>201</td>\n      <td>34</td>\n      <td>utf-8</td>\n      <td>other</td>\n      <td>1999-02-15 00:00:00</td>\n      <td>2015-07-15 00:00:00</td>\n      <td>83</td>\n      <td>2</td>\n      <td>6</td>\n      <td>6631</td>\n      <td>87</td>\n      <td>89</td>\n      <td>132181</td>\n      <td>6945</td>\n      <td>87</td>\n      <td>4.0</td>\n      <td>0</td>\n    </tr>\n    <tr>\n      <th>1779</th>\n      <td>234</td>\n      <td>34</td>\n      <td>iso-8859-1</td>\n      <td>cloudflare-nginx</td>\n      <td>1998-04-01 00:00:00</td>\n      <td>2016-12-09 00:00:00</td>\n      <td>0</td>\n      <td>0</td>\n      <td>0</td>\n      <td>0</td>\n      <td>0</td>\n      <td>0</td>\n      <td>0</td>\n      <td>0</td>\n      <td>0</td>\n      <td>0.0</td>\n      <td>0</td>\n    </tr>\n    <tr>\n      <th>1780</th>\n      <td>249</td>\n      <td>40</td>\n      <td>utf-8</td>\n      <td>Microsoft-IIS/8.5</td>\n      <td>2008-11-14 00:00:00</td>\n      <td>2013-11-20 00:00:00</td>\n      <td>19</td>\n      <td>6</td>\n      <td>11</td>\n      <td>2314</td>\n      <td>25</td>\n      <td>28</td>\n      <td>3039</td>\n      <td>2776</td>\n      <td>25</td>\n      <td>6.0</td>\n      <td>0</td>\n    </tr>\n  </tbody>\n</table>\n<p>1595 rows × 17 columns</p>\n</div>"
     },
     "execution_count": 335,
     "metadata": {},
     "output_type": "execute_result"
    }
   ],
   "source": [
    "df"
   ],
   "metadata": {
    "collapsed": false,
    "ExecuteTime": {
     "end_time": "2024-02-29T16:47:51.775876200Z",
     "start_time": "2024-02-29T16:47:51.649846400Z"
    }
   },
   "id": "3332b70983701da8",
   "execution_count": 335
  },
  {
   "cell_type": "code",
   "outputs": [],
   "source": [
    "sc = StandardScaler()\n",
    "columns_to_standardize = [x for x in df.columns.tolist() if x not in ['CHARSET', 'SERVER', 'Type']]\n",
    "\n",
    "df['WHOIS_REGDATE'] = df['WHOIS_REGDATE'].astype('int64')\n",
    "df['WHOIS_UPDATED_DATE'] = df['WHOIS_UPDATED_DATE'].astype('int64')\n",
    "\n",
    "scaled = sc.fit_transform(df[columns_to_standardize])\n",
    "df[columns_to_standardize] = scaled"
   ],
   "metadata": {
    "collapsed": false,
    "ExecuteTime": {
     "end_time": "2024-02-29T16:47:51.805530800Z",
     "start_time": "2024-02-29T16:47:51.682942Z"
    }
   },
   "id": "9c5ed6a5987ff98f",
   "execution_count": 336
  },
  {
   "cell_type": "code",
   "outputs": [],
   "source": [
    "columns_to_dummy = ['CHARSET', 'SERVER']"
   ],
   "metadata": {
    "collapsed": false,
    "ExecuteTime": {
     "end_time": "2024-02-29T16:47:51.807533200Z",
     "start_time": "2024-02-29T16:47:51.715254100Z"
    }
   },
   "id": "4d11b4e9bd49ff3e",
   "execution_count": 337
  },
  {
   "cell_type": "code",
   "outputs": [],
   "source": [
    "for col in columns_to_dummy:\n",
    "    encoded = pd.get_dummies(df[col])\n",
    "    for enc_col in encoded.columns:\n",
    "        df[f'{col}_{enc_col}'] = encoded[enc_col]\n",
    "df.drop(columns_to_dummy, axis=1, inplace=True)"
   ],
   "metadata": {
    "collapsed": false,
    "ExecuteTime": {
     "end_time": "2024-02-29T16:47:51.953476100Z",
     "start_time": "2024-02-29T16:47:51.787883500Z"
    }
   },
   "id": "a6fbed850c659bf4",
   "execution_count": 338
  },
  {
   "cell_type": "markdown",
   "source": [],
   "metadata": {
    "collapsed": false
   },
   "id": "2463dd90c5aa0589"
  },
  {
   "cell_type": "markdown",
   "source": [
    "TRAIN"
   ],
   "metadata": {
    "collapsed": false
   },
   "id": "c425732dee95900b"
  },
  {
   "cell_type": "code",
   "outputs": [],
   "source": [
    "Y = df['Type'].to_numpy()\n",
    "X = df.drop(columns=['Type']).to_numpy()\n",
    "X_train, X_test, Y_train, Y_test = train_test_split(X, Y, test_size=0.2, random_state=0)"
   ],
   "metadata": {
    "collapsed": false,
    "ExecuteTime": {
     "end_time": "2024-02-29T16:52:44.949178500Z",
     "start_time": "2024-02-29T16:52:44.922153Z"
    }
   },
   "id": "3120a8b3fd35a434",
   "execution_count": 381
  },
  {
   "cell_type": "code",
   "outputs": [
    {
     "name": "stdout",
     "output_type": "stream",
     "text": [
      "Fitting 3 folds for each of 50 candidates, totalling 150 fits\n",
      "{'max_iter': 100, 'penalty': 'l2', 'solver': 'lbfgs', 'tol': 0.0001}\n",
      "LogisticRegression(random_state=0)\n",
      "0.9184952978056427\n"
     ]
    },
    {
     "name": "stderr",
     "output_type": "stream",
     "text": [
      "D:\\python\\DataProcessingLabs\\venv\\lib\\site-packages\\sklearn\\model_selection\\_search.py:1051: UserWarning: One or more of the test scores are non-finite: [nan nan nan nan nan nan nan nan nan nan nan nan nan nan nan nan nan nan\n",
      " nan nan nan nan nan nan nan nan nan nan nan nan nan nan nan nan nan nan\n",
      " nan nan nan nan nan nan nan nan nan nan nan nan nan nan]\n",
      "  warnings.warn(\n"
     ]
    }
   ],
   "source": [
    "clf = LogisticRegression(random_state=0)\n",
    "params = {\n",
    "    'solver':  ['lbfgs', 'newton-cg', 'newton-cholesky', 'sag', 'saga'],\n",
    "    'penalty' : ['l2', None],\n",
    "    'max_iter': range(100, 150, 10),\n",
    "    'tol' : [1e-4],\n",
    "}\n",
    "logreg_grid_search = GridSearchCV(clf, params, cv=3, n_jobs=-1, verbose=1, scoring=precision_score)\n",
    "logreg_grid_search.fit(X_train, Y_train)\n",
    "\n",
    "best_found_clf = LogisticRegression(random_state=0, solver='liblinear', penalty='l1')\n",
    "best_found_clf.fit(X_train, Y_train)\n",
    "\n",
    "print(logreg_grid_search.best_params_)\n",
    "print(logreg_grid_search.best_estimator_)\n",
    "print(logreg_grid_search.best_estimator_.score(X_test, Y_test))"
   ],
   "metadata": {
    "collapsed": false,
    "ExecuteTime": {
     "end_time": "2024-02-29T17:56:51.686694600Z",
     "start_time": "2024-02-29T17:56:48.424891900Z"
    }
   },
   "id": "b469713dd8804074",
   "execution_count": 434
  },
  {
   "cell_type": "code",
   "outputs": [
    {
     "name": "stdout",
     "output_type": "stream",
     "text": [
      "LogisticRegression(random_state=0)\n",
      "\taccuracy: 0.9184952978056427\n",
      "\tprecision: 0.43243243243243246\n",
      "\trecall: 0.7619047619047619\n",
      "\tf1: 0.5517241379310345\n",
      "LogisticRegression(penalty='l1', random_state=0, solver='liblinear')\n",
      "\taccuracy: 0.9247648902821317\n",
      "\tprecision: 0.4594594594594595\n",
      "\trecall: 0.8095238095238095\n",
      "\tf1: 0.5862068965517241\n"
     ]
    }
   ],
   "source": [
    "\n",
    "models = [logreg_grid_search.best_estimator_,\n",
    "          best_found_clf]\n",
    "for model in models:\n",
    "    print(model)\n",
    "    \n",
    "    print(f'\\taccuracy: {accuracy_score(model.predict(X_test), Y_test)}')\n",
    "    print(f'\\tprecision: {precision_score(model.predict(X_test), Y_test)}')\n",
    "    print(f'\\trecall: {recall_score(model.predict(X_test), Y_test)}')\n",
    "    print(f'\\tf1: {f1_score(model.predict(X_test), Y_test)}')"
   ],
   "metadata": {
    "collapsed": false,
    "ExecuteTime": {
     "end_time": "2024-02-29T17:56:51.734483800Z",
     "start_time": "2024-02-29T17:56:51.689699800Z"
    }
   },
   "id": "90cdcab35a6512b2",
   "execution_count": 435
  }
 ],
 "metadata": {
  "kernelspec": {
   "display_name": "Python 3",
   "language": "python",
   "name": "python3"
  },
  "language_info": {
   "codemirror_mode": {
    "name": "ipython",
    "version": 2
   },
   "file_extension": ".py",
   "mimetype": "text/x-python",
   "name": "python",
   "nbconvert_exporter": "python",
   "pygments_lexer": "ipython2",
   "version": "2.7.6"
  }
 },
 "nbformat": 4,
 "nbformat_minor": 5
}
