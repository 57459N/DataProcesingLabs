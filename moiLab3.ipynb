{
 "cells": [
  {
   "cell_type": "code",
   "outputs": [],
   "source": [
    "import numpy as np\n",
    "import pandas as pd\n",
    "import sklearn.tree\n",
    "from matplotlib import pyplot as plt\n",
    "from sklearn.metrics import precision_score, confusion_matrix, recall_score, roc_curve\n",
    "from sklearn.model_selection import train_test_split\n",
    "from tensorflow.keras import losses, metrics, optimizers\n",
    "from tensorflow.keras.layers import Dense, Input\n",
    "from tensorflow.keras import Sequential\n",
    "from tensorflow.keras.metrics import AUC, Precision, Recall, F1Score\n",
    "from sklearn.tree import DecisionTreeClassifier\n",
    "from sklearn.model_selection import GridSearchCV\n"
   ],
   "metadata": {
    "collapsed": false,
    "ExecuteTime": {
     "end_time": "2024-04-13T23:24:14.038924200Z",
     "start_time": "2024-04-13T23:24:13.996739200Z"
    }
   },
   "id": "bb3e2e83fb0d210c",
   "execution_count": 96
  },
  {
   "cell_type": "code",
   "execution_count": 24,
   "id": "initial_id",
   "metadata": {
    "collapsed": true,
    "ExecuteTime": {
     "end_time": "2024-04-13T22:45:43.435385Z",
     "start_time": "2024-04-13T22:45:43.363921800Z"
    }
   },
   "outputs": [],
   "source": [
    "dataX = [[0, 0, 0, 0, 1, 0, 0, 1, 1, 0, 0, 0],\n",
    "         [1, 1, 0, 0, 0, 0, 1, 1, 1, 0, 1, 0],\n",
    "         [1, 1, 0, 0, 1, 0, 1, 0, 0, 0, 1, 0],\n",
    "         [1, 0, 0, 1, 0, 0, 1, 1, 0, 0, 0, 0],\n",
    "         [0, 0, 0, 0, 1, 0, 0, 0, 0, 0, 0, 0],\n",
    "         [0, 1, 0, 0, 1, 0, 1, 0, 0, 0, 0, 1],\n",
    "         [1, 1, 0, 0, 1, 0, 0, 0, 0, 0, 1, 0],\n",
    "         [1, 1, 0, 0, 0, 0, 0, 1, 0, 0, 0, 1],\n",
    "         [0, 0, 0, 0, 1, 0, 0, 1, 0, 0, 0, 0],\n",
    "         [0, 1, 1, 0, 1, 0, 1, 1, 0, 1, 0, 0],\n",
    "         [1, 1, 0, 0, 0, 0, 0, 0, 0, 0, 0, 0],\n",
    "         [0, 1, 0, 0, 1, 1, 1, 1, 0, 0, 1, 0],\n",
    "         [1, 1, 0, 0, 1, 1, 1, 1, 0, 0, 1, 0],\n",
    "         [1, 1, 0, 0, 1, 0, 1, 1, 0, 0, 1, 0],\n",
    "         [1, 1, 1, 0, 1, 0, 0, 1, 0, 0, 0, 0],\n",
    "         [0, 1, 0, 0, 1, 0, 0, 0, 0, 0, 1, 0],\n",
    "         [0, 0, 0, 0, 1, 0, 1, 0, 0, 0, 0, 0],\n",
    "         [0, 0, 0, 0, 1, 0, 1, 1, 1, 0, 0, 0],\n",
    "         [1, 1, 0, 0, 1, 0, 1, 0, 0, 0, 0, 0],\n",
    "         [1, 1, 0, 0, 1, 0, 1, 1, 1, 1, 0, 0],\n",
    "         [1, 1, 0, 1, 1, 1, 0, 0, 0, 0, 0, 0],\n",
    "         [1, 0, 1, 1, 0, 0, 1, 0, 1, 0, 0, 0],\n",
    "         [1, 1, 0, 1, 0, 1, 0, 0, 0, 1, 0, 0],\n",
    "         [1, 0, 0, 1, 0, 0, 1, 0, 1, 0, 1, 0],\n",
    "         [0, 0, 1, 0, 1, 0, 0, 1, 1, 0, 0, 1],\n",
    "         [0, 0, 0, 1, 0, 1, 0, 1, 1, 0, 1, 0],\n",
    "         [1, 1, 1, 1, 1, 0, 1, 0, 0, 0, 0, 0],\n",
    "         [1, 0, 0, 1, 0, 0, 0, 1, 1, 0, 0, 0],\n",
    "         [1, 1, 0, 0, 1, 1, 0, 0, 1, 0, 0, 1],\n",
    "         [1, 0, 0, 1, 0, 0, 1, 0, 0, 1, 0, 1],\n",
    "         [1, 1, 0, 0, 0, 1, 0, 0, 0, 0, 0, 1],\n",
    "         [1, 1, 1, 1, 0, 0, 1, 1, 1, 0, 0, 0],\n",
    "         [1, 1, 0, 1, 1, 0, 0, 0, 0, 1, 0, 0],\n",
    "         [0, 0, 1, 1, 1, 1, 0, 0, 0, 1, 0, 1],\n",
    "         [1, 1, 0, 0, 0, 0, 1, 1, 1, 1, 0, 0],\n",
    "         [1, 1, 0, 1, 0, 0, 1, 1, 0, 1, 0, 0]]\n",
    "\n",
    "dataY = [1, 1, 1, 1, 1, 1, 1, 1, 1, 1, 1, 1, 1, 1, 1, 1, 1, 1, 1, 1, 1, 0, 0, 0, 0, 0, 0, 0, 0, 0, 0, 0, 0, 0, 0, 0]"
   ]
  },
  {
   "cell_type": "code",
   "outputs": [
    {
     "data": {
      "text/plain": "    0  1  2  3  4  5  6  7  8  9  10  11  y\n0   0  0  0  0  1  0  0  1  1  0   0   0  1\n1   1  1  0  0  0  0  1  1  1  0   1   0  1\n2   1  1  0  0  1  0  1  0  0  0   1   0  1\n3   1  0  0  1  0  0  1  1  0  0   0   0  1\n4   0  0  0  0  1  0  0  0  0  0   0   0  1\n5   0  1  0  0  1  0  1  0  0  0   0   1  1\n6   1  1  0  0  1  0  0  0  0  0   1   0  1\n7   1  1  0  0  0  0  0  1  0  0   0   1  1\n8   0  0  0  0  1  0  0  1  0  0   0   0  1\n9   0  1  1  0  1  0  1  1  0  1   0   0  1\n10  1  1  0  0  0  0  0  0  0  0   0   0  1\n11  0  1  0  0  1  1  1  1  0  0   1   0  1\n12  1  1  0  0  1  1  1  1  0  0   1   0  1\n13  1  1  0  0  1  0  1  1  0  0   1   0  1\n14  1  1  1  0  1  0  0  1  0  0   0   0  1\n15  0  1  0  0  1  0  0  0  0  0   1   0  1\n16  0  0  0  0  1  0  1  0  0  0   0   0  1\n17  0  0  0  0  1  0  1  1  1  0   0   0  1\n18  1  1  0  0  1  0  1  0  0  0   0   0  1\n19  1  1  0  0  1  0  1  1  1  1   0   0  1\n20  1  1  0  1  1  1  0  0  0  0   0   0  1\n21  1  0  1  1  0  0  1  0  1  0   0   0  0\n22  1  1  0  1  0  1  0  0  0  1   0   0  0\n23  1  0  0  1  0  0  1  0  1  0   1   0  0\n24  0  0  1  0  1  0  0  1  1  0   0   1  0\n25  0  0  0  1  0  1  0  1  1  0   1   0  0\n26  1  1  1  1  1  0  1  0  0  0   0   0  0\n27  1  0  0  1  0  0  0  1  1  0   0   0  0\n28  1  1  0  0  1  1  0  0  1  0   0   1  0\n29  1  0  0  1  0  0  1  0  0  1   0   1  0\n30  1  1  0  0  0  1  0  0  0  0   0   1  0\n31  1  1  1  1  0  0  1  1  1  0   0   0  0\n32  1  1  0  1  1  0  0  0  0  1   0   0  0\n33  0  0  1  1  1  1  0  0  0  1   0   1  0\n34  1  1  0  0  0  0  1  1  1  1   0   0  0\n35  1  1  0  1  0  0  1  1  0  1   0   0  0",
      "text/html": "<div>\n<style scoped>\n    .dataframe tbody tr th:only-of-type {\n        vertical-align: middle;\n    }\n\n    .dataframe tbody tr th {\n        vertical-align: top;\n    }\n\n    .dataframe thead th {\n        text-align: right;\n    }\n</style>\n<table border=\"1\" class=\"dataframe\">\n  <thead>\n    <tr style=\"text-align: right;\">\n      <th></th>\n      <th>0</th>\n      <th>1</th>\n      <th>2</th>\n      <th>3</th>\n      <th>4</th>\n      <th>5</th>\n      <th>6</th>\n      <th>7</th>\n      <th>8</th>\n      <th>9</th>\n      <th>10</th>\n      <th>11</th>\n      <th>y</th>\n    </tr>\n  </thead>\n  <tbody>\n    <tr>\n      <th>0</th>\n      <td>0</td>\n      <td>0</td>\n      <td>0</td>\n      <td>0</td>\n      <td>1</td>\n      <td>0</td>\n      <td>0</td>\n      <td>1</td>\n      <td>1</td>\n      <td>0</td>\n      <td>0</td>\n      <td>0</td>\n      <td>1</td>\n    </tr>\n    <tr>\n      <th>1</th>\n      <td>1</td>\n      <td>1</td>\n      <td>0</td>\n      <td>0</td>\n      <td>0</td>\n      <td>0</td>\n      <td>1</td>\n      <td>1</td>\n      <td>1</td>\n      <td>0</td>\n      <td>1</td>\n      <td>0</td>\n      <td>1</td>\n    </tr>\n    <tr>\n      <th>2</th>\n      <td>1</td>\n      <td>1</td>\n      <td>0</td>\n      <td>0</td>\n      <td>1</td>\n      <td>0</td>\n      <td>1</td>\n      <td>0</td>\n      <td>0</td>\n      <td>0</td>\n      <td>1</td>\n      <td>0</td>\n      <td>1</td>\n    </tr>\n    <tr>\n      <th>3</th>\n      <td>1</td>\n      <td>0</td>\n      <td>0</td>\n      <td>1</td>\n      <td>0</td>\n      <td>0</td>\n      <td>1</td>\n      <td>1</td>\n      <td>0</td>\n      <td>0</td>\n      <td>0</td>\n      <td>0</td>\n      <td>1</td>\n    </tr>\n    <tr>\n      <th>4</th>\n      <td>0</td>\n      <td>0</td>\n      <td>0</td>\n      <td>0</td>\n      <td>1</td>\n      <td>0</td>\n      <td>0</td>\n      <td>0</td>\n      <td>0</td>\n      <td>0</td>\n      <td>0</td>\n      <td>0</td>\n      <td>1</td>\n    </tr>\n    <tr>\n      <th>5</th>\n      <td>0</td>\n      <td>1</td>\n      <td>0</td>\n      <td>0</td>\n      <td>1</td>\n      <td>0</td>\n      <td>1</td>\n      <td>0</td>\n      <td>0</td>\n      <td>0</td>\n      <td>0</td>\n      <td>1</td>\n      <td>1</td>\n    </tr>\n    <tr>\n      <th>6</th>\n      <td>1</td>\n      <td>1</td>\n      <td>0</td>\n      <td>0</td>\n      <td>1</td>\n      <td>0</td>\n      <td>0</td>\n      <td>0</td>\n      <td>0</td>\n      <td>0</td>\n      <td>1</td>\n      <td>0</td>\n      <td>1</td>\n    </tr>\n    <tr>\n      <th>7</th>\n      <td>1</td>\n      <td>1</td>\n      <td>0</td>\n      <td>0</td>\n      <td>0</td>\n      <td>0</td>\n      <td>0</td>\n      <td>1</td>\n      <td>0</td>\n      <td>0</td>\n      <td>0</td>\n      <td>1</td>\n      <td>1</td>\n    </tr>\n    <tr>\n      <th>8</th>\n      <td>0</td>\n      <td>0</td>\n      <td>0</td>\n      <td>0</td>\n      <td>1</td>\n      <td>0</td>\n      <td>0</td>\n      <td>1</td>\n      <td>0</td>\n      <td>0</td>\n      <td>0</td>\n      <td>0</td>\n      <td>1</td>\n    </tr>\n    <tr>\n      <th>9</th>\n      <td>0</td>\n      <td>1</td>\n      <td>1</td>\n      <td>0</td>\n      <td>1</td>\n      <td>0</td>\n      <td>1</td>\n      <td>1</td>\n      <td>0</td>\n      <td>1</td>\n      <td>0</td>\n      <td>0</td>\n      <td>1</td>\n    </tr>\n    <tr>\n      <th>10</th>\n      <td>1</td>\n      <td>1</td>\n      <td>0</td>\n      <td>0</td>\n      <td>0</td>\n      <td>0</td>\n      <td>0</td>\n      <td>0</td>\n      <td>0</td>\n      <td>0</td>\n      <td>0</td>\n      <td>0</td>\n      <td>1</td>\n    </tr>\n    <tr>\n      <th>11</th>\n      <td>0</td>\n      <td>1</td>\n      <td>0</td>\n      <td>0</td>\n      <td>1</td>\n      <td>1</td>\n      <td>1</td>\n      <td>1</td>\n      <td>0</td>\n      <td>0</td>\n      <td>1</td>\n      <td>0</td>\n      <td>1</td>\n    </tr>\n    <tr>\n      <th>12</th>\n      <td>1</td>\n      <td>1</td>\n      <td>0</td>\n      <td>0</td>\n      <td>1</td>\n      <td>1</td>\n      <td>1</td>\n      <td>1</td>\n      <td>0</td>\n      <td>0</td>\n      <td>1</td>\n      <td>0</td>\n      <td>1</td>\n    </tr>\n    <tr>\n      <th>13</th>\n      <td>1</td>\n      <td>1</td>\n      <td>0</td>\n      <td>0</td>\n      <td>1</td>\n      <td>0</td>\n      <td>1</td>\n      <td>1</td>\n      <td>0</td>\n      <td>0</td>\n      <td>1</td>\n      <td>0</td>\n      <td>1</td>\n    </tr>\n    <tr>\n      <th>14</th>\n      <td>1</td>\n      <td>1</td>\n      <td>1</td>\n      <td>0</td>\n      <td>1</td>\n      <td>0</td>\n      <td>0</td>\n      <td>1</td>\n      <td>0</td>\n      <td>0</td>\n      <td>0</td>\n      <td>0</td>\n      <td>1</td>\n    </tr>\n    <tr>\n      <th>15</th>\n      <td>0</td>\n      <td>1</td>\n      <td>0</td>\n      <td>0</td>\n      <td>1</td>\n      <td>0</td>\n      <td>0</td>\n      <td>0</td>\n      <td>0</td>\n      <td>0</td>\n      <td>1</td>\n      <td>0</td>\n      <td>1</td>\n    </tr>\n    <tr>\n      <th>16</th>\n      <td>0</td>\n      <td>0</td>\n      <td>0</td>\n      <td>0</td>\n      <td>1</td>\n      <td>0</td>\n      <td>1</td>\n      <td>0</td>\n      <td>0</td>\n      <td>0</td>\n      <td>0</td>\n      <td>0</td>\n      <td>1</td>\n    </tr>\n    <tr>\n      <th>17</th>\n      <td>0</td>\n      <td>0</td>\n      <td>0</td>\n      <td>0</td>\n      <td>1</td>\n      <td>0</td>\n      <td>1</td>\n      <td>1</td>\n      <td>1</td>\n      <td>0</td>\n      <td>0</td>\n      <td>0</td>\n      <td>1</td>\n    </tr>\n    <tr>\n      <th>18</th>\n      <td>1</td>\n      <td>1</td>\n      <td>0</td>\n      <td>0</td>\n      <td>1</td>\n      <td>0</td>\n      <td>1</td>\n      <td>0</td>\n      <td>0</td>\n      <td>0</td>\n      <td>0</td>\n      <td>0</td>\n      <td>1</td>\n    </tr>\n    <tr>\n      <th>19</th>\n      <td>1</td>\n      <td>1</td>\n      <td>0</td>\n      <td>0</td>\n      <td>1</td>\n      <td>0</td>\n      <td>1</td>\n      <td>1</td>\n      <td>1</td>\n      <td>1</td>\n      <td>0</td>\n      <td>0</td>\n      <td>1</td>\n    </tr>\n    <tr>\n      <th>20</th>\n      <td>1</td>\n      <td>1</td>\n      <td>0</td>\n      <td>1</td>\n      <td>1</td>\n      <td>1</td>\n      <td>0</td>\n      <td>0</td>\n      <td>0</td>\n      <td>0</td>\n      <td>0</td>\n      <td>0</td>\n      <td>1</td>\n    </tr>\n    <tr>\n      <th>21</th>\n      <td>1</td>\n      <td>0</td>\n      <td>1</td>\n      <td>1</td>\n      <td>0</td>\n      <td>0</td>\n      <td>1</td>\n      <td>0</td>\n      <td>1</td>\n      <td>0</td>\n      <td>0</td>\n      <td>0</td>\n      <td>0</td>\n    </tr>\n    <tr>\n      <th>22</th>\n      <td>1</td>\n      <td>1</td>\n      <td>0</td>\n      <td>1</td>\n      <td>0</td>\n      <td>1</td>\n      <td>0</td>\n      <td>0</td>\n      <td>0</td>\n      <td>1</td>\n      <td>0</td>\n      <td>0</td>\n      <td>0</td>\n    </tr>\n    <tr>\n      <th>23</th>\n      <td>1</td>\n      <td>0</td>\n      <td>0</td>\n      <td>1</td>\n      <td>0</td>\n      <td>0</td>\n      <td>1</td>\n      <td>0</td>\n      <td>1</td>\n      <td>0</td>\n      <td>1</td>\n      <td>0</td>\n      <td>0</td>\n    </tr>\n    <tr>\n      <th>24</th>\n      <td>0</td>\n      <td>0</td>\n      <td>1</td>\n      <td>0</td>\n      <td>1</td>\n      <td>0</td>\n      <td>0</td>\n      <td>1</td>\n      <td>1</td>\n      <td>0</td>\n      <td>0</td>\n      <td>1</td>\n      <td>0</td>\n    </tr>\n    <tr>\n      <th>25</th>\n      <td>0</td>\n      <td>0</td>\n      <td>0</td>\n      <td>1</td>\n      <td>0</td>\n      <td>1</td>\n      <td>0</td>\n      <td>1</td>\n      <td>1</td>\n      <td>0</td>\n      <td>1</td>\n      <td>0</td>\n      <td>0</td>\n    </tr>\n    <tr>\n      <th>26</th>\n      <td>1</td>\n      <td>1</td>\n      <td>1</td>\n      <td>1</td>\n      <td>1</td>\n      <td>0</td>\n      <td>1</td>\n      <td>0</td>\n      <td>0</td>\n      <td>0</td>\n      <td>0</td>\n      <td>0</td>\n      <td>0</td>\n    </tr>\n    <tr>\n      <th>27</th>\n      <td>1</td>\n      <td>0</td>\n      <td>0</td>\n      <td>1</td>\n      <td>0</td>\n      <td>0</td>\n      <td>0</td>\n      <td>1</td>\n      <td>1</td>\n      <td>0</td>\n      <td>0</td>\n      <td>0</td>\n      <td>0</td>\n    </tr>\n    <tr>\n      <th>28</th>\n      <td>1</td>\n      <td>1</td>\n      <td>0</td>\n      <td>0</td>\n      <td>1</td>\n      <td>1</td>\n      <td>0</td>\n      <td>0</td>\n      <td>1</td>\n      <td>0</td>\n      <td>0</td>\n      <td>1</td>\n      <td>0</td>\n    </tr>\n    <tr>\n      <th>29</th>\n      <td>1</td>\n      <td>0</td>\n      <td>0</td>\n      <td>1</td>\n      <td>0</td>\n      <td>0</td>\n      <td>1</td>\n      <td>0</td>\n      <td>0</td>\n      <td>1</td>\n      <td>0</td>\n      <td>1</td>\n      <td>0</td>\n    </tr>\n    <tr>\n      <th>30</th>\n      <td>1</td>\n      <td>1</td>\n      <td>0</td>\n      <td>0</td>\n      <td>0</td>\n      <td>1</td>\n      <td>0</td>\n      <td>0</td>\n      <td>0</td>\n      <td>0</td>\n      <td>0</td>\n      <td>1</td>\n      <td>0</td>\n    </tr>\n    <tr>\n      <th>31</th>\n      <td>1</td>\n      <td>1</td>\n      <td>1</td>\n      <td>1</td>\n      <td>0</td>\n      <td>0</td>\n      <td>1</td>\n      <td>1</td>\n      <td>1</td>\n      <td>0</td>\n      <td>0</td>\n      <td>0</td>\n      <td>0</td>\n    </tr>\n    <tr>\n      <th>32</th>\n      <td>1</td>\n      <td>1</td>\n      <td>0</td>\n      <td>1</td>\n      <td>1</td>\n      <td>0</td>\n      <td>0</td>\n      <td>0</td>\n      <td>0</td>\n      <td>1</td>\n      <td>0</td>\n      <td>0</td>\n      <td>0</td>\n    </tr>\n    <tr>\n      <th>33</th>\n      <td>0</td>\n      <td>0</td>\n      <td>1</td>\n      <td>1</td>\n      <td>1</td>\n      <td>1</td>\n      <td>0</td>\n      <td>0</td>\n      <td>0</td>\n      <td>1</td>\n      <td>0</td>\n      <td>1</td>\n      <td>0</td>\n    </tr>\n    <tr>\n      <th>34</th>\n      <td>1</td>\n      <td>1</td>\n      <td>0</td>\n      <td>0</td>\n      <td>0</td>\n      <td>0</td>\n      <td>1</td>\n      <td>1</td>\n      <td>1</td>\n      <td>1</td>\n      <td>0</td>\n      <td>0</td>\n      <td>0</td>\n    </tr>\n    <tr>\n      <th>35</th>\n      <td>1</td>\n      <td>1</td>\n      <td>0</td>\n      <td>1</td>\n      <td>0</td>\n      <td>0</td>\n      <td>1</td>\n      <td>1</td>\n      <td>0</td>\n      <td>1</td>\n      <td>0</td>\n      <td>0</td>\n      <td>0</td>\n    </tr>\n  </tbody>\n</table>\n</div>"
     },
     "execution_count": 27,
     "metadata": {},
     "output_type": "execute_result"
    }
   ],
   "source": [
    "df = pd.DataFrame(dataX)\n",
    "df['y'] = dataY\n",
    "df"
   ],
   "metadata": {
    "collapsed": false,
    "ExecuteTime": {
     "end_time": "2024-04-13T22:46:00.445618100Z",
     "start_time": "2024-04-13T22:46:00.369434800Z"
    }
   },
   "id": "fe08188cc3695bec",
   "execution_count": 27
  },
  {
   "cell_type": "code",
   "outputs": [],
   "source": [
    "X_train, X_test, y_train, y_test = train_test_split(df.drop('y', axis=1), df['y'], shuffle=True, test_size=0.2,\n",
    "                                                    random_state=0)\n",
    "X_train = np.reshape(X_train, (X_train.shape[0], 1, X_train.shape[1]))\n",
    "X_test = np.reshape(X_test, (X_test.shape[0], 1, X_test.shape[1]))"
   ],
   "metadata": {
    "collapsed": false,
    "ExecuteTime": {
     "end_time": "2024-04-13T23:02:03.185644800Z",
     "start_time": "2024-04-13T23:02:03.147123100Z"
    }
   },
   "id": "148ea66c3d0ae63c",
   "execution_count": 60
  },
  {
   "cell_type": "code",
   "outputs": [
    {
     "name": "stdout",
     "output_type": "stream",
     "text": [
      "Epoch 1/20\n",
      "\u001B[1m1/1\u001B[0m \u001B[32m━━━━━━━━━━━━━━━━━━━━\u001B[0m\u001B[37m\u001B[0m \u001B[1m1s\u001B[0m 987ms/step - accuracy: 0.4286 - auc_12: 0.5391 - loss: 0.9933\n",
      "Epoch 2/20\n",
      "\u001B[1m1/1\u001B[0m \u001B[32m━━━━━━━━━━━━━━━━━━━━\u001B[0m\u001B[37m\u001B[0m \u001B[1m0s\u001B[0m 45ms/step - accuracy: 0.4286 - auc_12: 0.5104 - loss: 0.8911\n",
      "Epoch 3/20\n",
      "\u001B[1m1/1\u001B[0m \u001B[32m━━━━━━━━━━━━━━━━━━━━\u001B[0m\u001B[37m\u001B[0m \u001B[1m0s\u001B[0m 42ms/step - accuracy: 0.4286 - auc_12: 0.5234 - loss: 0.8045\n",
      "Epoch 4/20\n",
      "\u001B[1m1/1\u001B[0m \u001B[32m━━━━━━━━━━━━━━━━━━━━\u001B[0m\u001B[37m\u001B[0m \u001B[1m0s\u001B[0m 41ms/step - accuracy: 0.4286 - auc_12: 0.5443 - loss: 0.7304\n",
      "Epoch 5/20\n",
      "\u001B[1m1/1\u001B[0m \u001B[32m━━━━━━━━━━━━━━━━━━━━\u001B[0m\u001B[37m\u001B[0m \u001B[1m0s\u001B[0m 43ms/step - accuracy: 0.4286 - auc_12: 0.5521 - loss: 0.6670\n",
      "Epoch 6/20\n",
      "\u001B[1m1/1\u001B[0m \u001B[32m━━━━━━━━━━━━━━━━━━━━\u001B[0m\u001B[37m\u001B[0m \u001B[1m0s\u001B[0m 43ms/step - accuracy: 0.4286 - auc_12: 0.5286 - loss: 0.6127\n",
      "Epoch 7/20\n",
      "\u001B[1m1/1\u001B[0m \u001B[32m━━━━━━━━━━━━━━━━━━━━\u001B[0m\u001B[37m\u001B[0m \u001B[1m0s\u001B[0m 42ms/step - accuracy: 0.4286 - auc_12: 0.5391 - loss: 0.5657\n",
      "Epoch 8/20\n",
      "\u001B[1m1/1\u001B[0m \u001B[32m━━━━━━━━━━━━━━━━━━━━\u001B[0m\u001B[37m\u001B[0m \u001B[1m0s\u001B[0m 44ms/step - accuracy: 0.4286 - auc_12: 0.5312 - loss: 0.5250\n",
      "Epoch 9/20\n",
      "\u001B[1m1/1\u001B[0m \u001B[32m━━━━━━━━━━━━━━━━━━━━\u001B[0m\u001B[37m\u001B[0m \u001B[1m0s\u001B[0m 42ms/step - accuracy: 0.4643 - auc_12: 0.5182 - loss: 0.4902\n",
      "Epoch 10/20\n",
      "\u001B[1m1/1\u001B[0m \u001B[32m━━━━━━━━━━━━━━━━━━━━\u001B[0m\u001B[37m\u001B[0m \u001B[1m0s\u001B[0m 42ms/step - accuracy: 0.4643 - auc_12: 0.5365 - loss: 0.4598\n",
      "Epoch 11/20\n",
      "\u001B[1m1/1\u001B[0m \u001B[32m━━━━━━━━━━━━━━━━━━━━\u001B[0m\u001B[37m\u001B[0m \u001B[1m0s\u001B[0m 42ms/step - accuracy: 0.4643 - auc_12: 0.5339 - loss: 0.4330\n",
      "Epoch 12/20\n",
      "\u001B[1m1/1\u001B[0m \u001B[32m━━━━━━━━━━━━━━━━━━━━\u001B[0m\u001B[37m\u001B[0m \u001B[1m0s\u001B[0m 43ms/step - accuracy: 0.4643 - auc_12: 0.5391 - loss: 0.4096\n",
      "Epoch 13/20\n",
      "\u001B[1m1/1\u001B[0m \u001B[32m━━━━━━━━━━━━━━━━━━━━\u001B[0m\u001B[37m\u001B[0m \u001B[1m0s\u001B[0m 44ms/step - accuracy: 0.5000 - auc_12: 0.5495 - loss: 0.3897\n",
      "Epoch 14/20\n",
      "\u001B[1m1/1\u001B[0m \u001B[32m━━━━━━━━━━━━━━━━━━━━\u001B[0m\u001B[37m\u001B[0m \u001B[1m0s\u001B[0m 42ms/step - accuracy: 0.5357 - auc_12: 0.5495 - loss: 0.3722\n",
      "Epoch 15/20\n",
      "\u001B[1m1/1\u001B[0m \u001B[32m━━━━━━━━━━━━━━━━━━━━\u001B[0m\u001B[37m\u001B[0m \u001B[1m0s\u001B[0m 42ms/step - accuracy: 0.5357 - auc_12: 0.5573 - loss: 0.3567\n",
      "Epoch 16/20\n",
      "\u001B[1m1/1\u001B[0m \u001B[32m━━━━━━━━━━━━━━━━━━━━\u001B[0m\u001B[37m\u001B[0m \u001B[1m0s\u001B[0m 42ms/step - accuracy: 0.5357 - auc_12: 0.5729 - loss: 0.3431\n",
      "Epoch 17/20\n",
      "\u001B[1m1/1\u001B[0m \u001B[32m━━━━━━━━━━━━━━━━━━━━\u001B[0m\u001B[37m\u001B[0m \u001B[1m0s\u001B[0m 43ms/step - accuracy: 0.6071 - auc_12: 0.5859 - loss: 0.3311\n",
      "Epoch 18/20\n",
      "\u001B[1m1/1\u001B[0m \u001B[32m━━━━━━━━━━━━━━━━━━━━\u001B[0m\u001B[37m\u001B[0m \u001B[1m0s\u001B[0m 48ms/step - accuracy: 0.5357 - auc_12: 0.5938 - loss: 0.3204\n",
      "Epoch 19/20\n",
      "\u001B[1m1/1\u001B[0m \u001B[32m━━━━━━━━━━━━━━━━━━━━\u001B[0m\u001B[37m\u001B[0m \u001B[1m0s\u001B[0m 42ms/step - accuracy: 0.5714 - auc_12: 0.5990 - loss: 0.3109\n",
      "Epoch 20/20\n",
      "\u001B[1m1/1\u001B[0m \u001B[32m━━━━━━━━━━━━━━━━━━━━\u001B[0m\u001B[37m\u001B[0m \u001B[1m0s\u001B[0m 43ms/step - accuracy: 0.5714 - auc_12: 0.6042 - loss: 0.3023\n"
     ]
    },
    {
     "data": {
      "text/plain": "<keras.src.callbacks.history.History at 0x2000fc80e20>"
     },
     "execution_count": 65,
     "metadata": {},
     "output_type": "execute_result"
    }
   ],
   "source": [
    "model = Sequential([\n",
    "    Input((1, X_train.shape[2])),\n",
    "    Dense(units=10, activation='relu'),\n",
    "    Dense(1, activation='linear')\n",
    "])\n",
    "model.compile(loss='mean_squared_error', optimizer='sgd', metrics=['accuracy', AUC])\n",
    "model.fit(X_train, y_train,\n",
    "          epochs=20)"
   ],
   "metadata": {
    "collapsed": false,
    "ExecuteTime": {
     "end_time": "2024-04-13T23:03:21.031378300Z",
     "start_time": "2024-04-13T23:03:18.995112200Z"
    }
   },
   "id": "553606867d374d0d",
   "execution_count": 65
  },
  {
   "cell_type": "code",
   "outputs": [
    {
     "name": "stdout",
     "output_type": "stream",
     "text": [
      "\u001B[1m1/1\u001B[0m \u001B[32m━━━━━━━━━━━━━━━━━━━━\u001B[0m\u001B[37m\u001B[0m \u001B[1m0s\u001B[0m 50ms/step - accuracy: 0.3750 - auc_12: 0.8000 - loss: 0.4196\n"
     ]
    },
    {
     "data": {
      "text/plain": "[0.419625461101532, 0.375, 0.7999999523162842]"
     },
     "execution_count": 67,
     "metadata": {},
     "output_type": "execute_result"
    }
   ],
   "source": [
    "model.evaluate(X_test, y_test)"
   ],
   "metadata": {
    "collapsed": false,
    "ExecuteTime": {
     "end_time": "2024-04-13T23:03:54.241601Z",
     "start_time": "2024-04-13T23:03:54.062912500Z"
    }
   },
   "id": "9dfab7a2e175f276",
   "execution_count": 67
  },
  {
   "cell_type": "code",
   "outputs": [
    {
     "name": "stderr",
     "output_type": "stream",
     "text": [
      "D:\\python\\DataProcessingLabs\\venv\\lib\\site-packages\\sklearn\\model_selection\\_validation.py:547: FitFailedWarning: \n",
      "720 fits failed out of a total of 2880.\n",
      "The score on these train-test partitions for these parameters will be set to nan.\n",
      "If these failures are not expected, you can try to debug them by setting error_score='raise'.\n",
      "\n",
      "Below are more details about the failures:\n",
      "--------------------------------------------------------------------------------\n",
      "720 fits failed with the following error:\n",
      "Traceback (most recent call last):\n",
      "  File \"D:\\python\\DataProcessingLabs\\venv\\lib\\site-packages\\sklearn\\model_selection\\_validation.py\", line 895, in _fit_and_score\n",
      "    estimator.fit(X_train, y_train, **fit_params)\n",
      "  File \"D:\\python\\DataProcessingLabs\\venv\\lib\\site-packages\\sklearn\\base.py\", line 1467, in wrapper\n",
      "    estimator._validate_params()\n",
      "  File \"D:\\python\\DataProcessingLabs\\venv\\lib\\site-packages\\sklearn\\base.py\", line 666, in _validate_params\n",
      "    validate_parameter_constraints(\n",
      "  File \"D:\\python\\DataProcessingLabs\\venv\\lib\\site-packages\\sklearn\\utils\\_param_validation.py\", line 95, in validate_parameter_constraints\n",
      "    raise InvalidParameterError(\n",
      "sklearn.utils._param_validation.InvalidParameterError: The 'min_samples_split' parameter of DecisionTreeClassifier must be an int in the range [2, inf) or a float in the range (0.0, 1.0]. Got 1 instead.\n",
      "\n",
      "  warnings.warn(some_fits_failed_message, FitFailedWarning)\n",
      "D:\\python\\DataProcessingLabs\\venv\\lib\\site-packages\\sklearn\\model_selection\\_search.py:1051: UserWarning: One or more of the test scores are non-finite: [ nan  nan 0.61 0.66 0.61 0.57 0.61 0.61  nan  nan 0.66 0.61 0.66 0.61\n",
      " 0.61 0.66  nan  nan 0.81 0.81 0.81 0.81 0.81 0.81  nan  nan 0.81 0.81\n",
      " 0.81 0.81 0.81 0.81  nan  nan 0.67 0.61 0.61 0.61 0.61 0.61  nan  nan\n",
      " 0.61 0.71 0.66 0.71 0.61 0.71  nan  nan 0.81 0.81 0.81 0.81 0.81 0.81\n",
      "  nan  nan 0.81 0.81 0.81 0.81 0.81 0.81  nan  nan 0.67 0.57 0.61 0.61\n",
      " 0.61 0.57  nan  nan 0.61 0.66 0.66 0.66 0.66 0.66  nan  nan 0.81 0.81\n",
      " 0.81 0.81 0.81 0.81  nan  nan 0.81 0.81 0.81 0.81 0.81 0.81  nan  nan\n",
      " 0.67 0.67 0.61 0.57 0.61 0.61  nan  nan 0.66 0.71 0.66 0.61 0.61 0.66\n",
      "  nan  nan 0.81 0.81 0.81 0.81 0.81 0.81  nan  nan 0.81 0.81 0.81 0.81\n",
      " 0.81 0.81  nan  nan 0.62 0.62 0.61 0.61 0.57 0.61  nan  nan 0.71 0.71\n",
      " 0.66 0.66 0.66 0.66  nan  nan 0.81 0.81 0.81 0.81 0.81 0.81  nan  nan\n",
      " 0.81 0.81 0.81 0.81 0.81 0.81  nan  nan 0.66 0.71 0.61 0.61 0.61 0.61\n",
      "  nan  nan 0.66 0.71 0.66 0.71 0.66 0.66  nan  nan 0.81 0.81 0.81 0.81\n",
      " 0.81 0.81  nan  nan 0.81 0.81 0.81 0.81 0.81 0.81  nan  nan 0.67 0.61\n",
      " 0.61 0.61 0.61 0.57  nan  nan 0.61 0.61 0.71 0.66 0.61 0.66  nan  nan\n",
      " 0.81 0.81 0.81 0.81 0.81 0.81  nan  nan 0.81 0.81 0.81 0.81 0.81 0.81\n",
      "  nan  nan 0.57 0.66 0.61 0.61 0.61 0.61  nan  nan 0.71 0.66 0.71 0.61\n",
      " 0.71 0.71  nan  nan 0.81 0.81 0.81 0.81 0.81 0.81  nan  nan 0.81 0.81\n",
      " 0.81 0.81 0.81 0.81  nan  nan 0.57 0.66 0.61 0.61 0.61 0.57  nan  nan\n",
      " 0.61 0.71 0.66 0.71 0.71 0.66  nan  nan 0.81 0.81 0.81 0.81 0.81 0.81\n",
      "  nan  nan 0.81 0.81 0.81 0.81 0.81 0.81  nan  nan 0.61 0.67 0.57 0.57\n",
      " 0.61 0.61  nan  nan 0.66 0.66 0.71 0.61 0.61 0.66  nan  nan 0.81 0.81\n",
      " 0.81 0.81 0.81 0.81  nan  nan 0.81 0.81 0.81 0.81 0.81 0.81  nan  nan\n",
      " 0.61 0.66 0.61 0.61 0.61 0.57  nan  nan 0.61 0.71 0.66 0.66 0.61 0.71\n",
      "  nan  nan 0.81 0.81 0.81 0.81 0.81 0.81  nan  nan 0.81 0.81 0.81 0.81\n",
      " 0.81 0.81  nan  nan 0.62 0.71 0.61 0.61 0.61 0.61  nan  nan 0.61 0.61\n",
      " 0.66 0.71 0.66 0.61  nan  nan 0.81 0.81 0.81 0.81 0.81 0.81  nan  nan\n",
      " 0.81 0.81 0.81 0.81 0.81 0.81  nan  nan 0.61 0.66 0.61 0.61 0.61 0.61\n",
      "  nan  nan 0.71 0.66 0.66 0.66 0.66 0.61  nan  nan 0.81 0.81 0.81 0.81\n",
      " 0.81 0.81  nan  nan 0.81 0.81 0.81 0.81 0.81 0.81  nan  nan 0.71 0.61\n",
      " 0.61 0.61 0.61 0.61  nan  nan 0.66 0.61 0.61 0.66 0.66 0.66  nan  nan\n",
      " 0.81 0.81 0.81 0.81 0.81 0.81  nan  nan 0.81 0.81 0.81 0.81 0.81 0.81\n",
      "  nan  nan 0.66 0.61 0.61 0.61 0.61 0.61  nan  nan 0.66 0.66 0.66 0.61\n",
      " 0.66 0.61  nan  nan 0.81 0.81 0.81 0.81 0.81 0.81  nan  nan 0.81 0.81\n",
      " 0.81 0.81 0.81 0.81  nan  nan 0.57 0.66 0.61 0.61 0.61 0.61  nan  nan\n",
      " 0.61 0.66 0.61 0.61 0.61 0.66  nan  nan 0.81 0.81 0.81 0.81 0.81 0.81\n",
      "  nan  nan 0.81 0.81 0.81 0.81 0.81 0.81  nan  nan 0.62 0.71 0.57 0.57\n",
      " 0.61 0.61  nan  nan 0.61 0.66 0.71 0.71 0.66 0.61  nan  nan 0.81 0.81\n",
      " 0.81 0.81 0.81 0.81  nan  nan 0.81 0.81 0.81 0.81 0.81 0.81  nan  nan\n",
      " 0.61 0.57 0.57 0.61 0.61 0.57  nan  nan 0.66 0.66 0.61 0.66 0.66 0.61\n",
      "  nan  nan 0.81 0.81 0.81 0.81 0.81 0.81  nan  nan 0.81 0.81 0.81 0.81\n",
      " 0.81 0.81]\n",
      "  warnings.warn(\n"
     ]
    },
    {
     "data": {
      "text/plain": "{'criterion': 'gini',\n 'max_depth': 4,\n 'min_samples_leaf': 3,\n 'min_samples_split': 2,\n 'splitter': 'best'}"
     },
     "execution_count": 105,
     "metadata": {},
     "output_type": "execute_result"
    }
   ],
   "source": [
    "X_train, X_test, y_train, y_test = train_test_split(df.drop('y', axis=1), df['y'], shuffle=True, test_size=0.4,\n",
    "                                                    random_state=0)\n",
    "\n",
    "estimator = DecisionTreeClassifier()\n",
    "grid = GridSearchCV(estimator,\n",
    "                    param_grid={'splitter': ['best', 'random'],\n",
    "                                'criterion': ['gini', 'entropy', 'log_loss'],\n",
    "                                'max_depth': range(4, 10),\n",
    "                                'min_samples_leaf': range(1, 5),\n",
    "                                'min_samples_split': range(1, 5)},\n",
    "                    n_jobs=-1)\n",
    "grid.fit(X_train, y_train)\n",
    "best_tree = grid.best_estimator_\n",
    "grid.best_params_"
   ],
   "metadata": {
    "collapsed": false,
    "ExecuteTime": {
     "end_time": "2024-04-13T23:26:49.972891Z",
     "start_time": "2024-04-13T23:26:47.594196800Z"
    }
   },
   "id": "36bf59849780a520",
   "execution_count": 105
  },
  {
   "cell_type": "code",
   "outputs": [
    {
     "name": "stdout",
     "output_type": "stream",
     "text": [
      "precision_score(y_test, y_preds)=0.7142857142857143\n",
      "recall_score(y_test, y_preds)=0.8333333333333334\n",
      "[[7 2]\n",
      " [1 5]]\n",
      "[0.2        0.2        1.         1.         0.2        1.\n",
      " 1.         1.         1.         0.2        0.2        0.2\n",
      " 0.2        0.66666667 0.2       ]\n"
     ]
    },
    {
     "data": {
      "text/plain": "<Figure size 640x480 with 0 Axes>"
     },
     "execution_count": 106,
     "metadata": {},
     "output_type": "execute_result"
    },
    {
     "data": {
      "text/plain": "<Figure size 640x480 with 1 Axes>",
      "image/png": "[encoded data removed]"
     },
     "metadata": {},
     "output_type": "display_data"
    },
    {
     "data": {
      "text/plain": "<Figure size 640x480 with 0 Axes>"
     },
     "metadata": {},
     "output_type": "display_data"
    }
   ],
   "source": [
    "y_probs = best_tree.predict_proba(X_test)[:,1]\n",
    "y_preds = best_tree.predict(X_test)\n",
    "print(f'{precision_score(y_test, y_preds)=}')\n",
    "print(f'{recall_score(y_test, y_preds)=}')\n",
    "\n",
    "conf_matrix = confusion_matrix(y_test, y_preds)\n",
    "print(confusion_matrix(y_test, y_preds))\n",
    "print(y_probs)\n",
    "\n",
    "ns_probs = [0 for _ in range(len(y_test))]\n",
    "fpr, tpr, _ = roc_curve(y_test, y_probs)\n",
    "plt.plot(fpr, tpr)\n",
    "fpr, tpr, _ = roc_curve(y_test, ns_probs)\n",
    "plt.plot(fpr, tpr)\n",
    "\n",
    "plt.figure()"
   ],
   "metadata": {
    "collapsed": false,
    "ExecuteTime": {
     "end_time": "2024-04-13T23:26:50.317525600Z",
     "start_time": "2024-04-13T23:26:49.976889800Z"
    }
   },
   "id": "3c3aaba69db6cfd8",
   "execution_count": 106
  }
 ],
 "metadata": {
  "kernelspec": {
   "display_name": "Python 3",
   "language": "python",
   "name": "python3"
  },
  "language_info": {
   "codemirror_mode": {
    "name": "ipython",
    "version": 2
   },
   "file_extension": ".py",
   "mimetype": "text/x-python",
   "name": "python",
   "nbconvert_exporter": "python",
   "pygments_lexer": "ipython2",
   "version": "2.7.6"
  }
 },
 "nbformat": 4,
 "nbformat_minor": 5
}
